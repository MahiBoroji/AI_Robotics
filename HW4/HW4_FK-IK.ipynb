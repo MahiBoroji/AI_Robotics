{
 "cells": [
  {
   "cell_type": "code",
   "execution_count": 412,
   "id": "c40c7976",
   "metadata": {
    "deletable": false,
    "editable": false
   },
   "outputs": [],
   "source": [
    "# Initialize Otter\n",
    "import otter\n",
    "grader = otter.Notebook(\"HW4_FK-IK.ipynb\")"
   ]
  },
  {
   "cell_type": "code",
   "execution_count": 413,
   "id": "fc69dc99",
   "metadata": {},
   "outputs": [],
   "source": [
    "import numpy as np\n",
    "from numpy import cos, sin, pi"
   ]
  },
  {
   "cell_type": "markdown",
   "id": "5add0ff4-27fa-4b8b-9429-77a6e70eb204",
   "metadata": {},
   "source": [
    "# FILL IN YOUR NAME AND THE NAME OF YOUR PEER (IF ANY) BELOW"
   ]
  },
  {
   "cell_type": "markdown",
   "id": "114b0f41-932d-43fb-96b0-a10ea759b6e4",
   "metadata": {},
   "source": [
    "**Name**: Maede Boroji\n",
    "\n",
    "**Peer**: Vahid Danesh\n",
    "\n",
    "## Collaboration policy\n",
    "Students are responsible for writing their own quizzes, assignments, and exams. For homework assignments, students are welcome (and encouraged) to discuss problems with one peer, **but each student must write their own assignment wrtieup and code individually**. The peer must be listed at the top of the writeup for each assignment. *Note: I will treat AI assistants as peers. That is, students are welcome to discuss problems with an AI assistant, but it is considered cheating to directly obtain an answer by querying the assistant. Please credit any AI assistant that you use.*"
   ]
  },
  {
   "cell_type": "markdown",
   "id": "3eeaa842-e2ff-4f0d-9447-6450943e8703",
   "metadata": {},
   "source": [
    "# Homework 4 -- Forward and inverse kinematics (100 pts)\n",
    "\n",
    "**Due:** Tuesday, February 25th, 2025 at 11:59 pm\n",
    "\n",
    "This homework builds on the material in the slides, Hauser Chapters 5 and 6 (on Forward Kinematics and Inverse Kinematics), and Tedrake chapter 3 (on Basic Pick-and-Place, especially 3.1 and 3.3).\n",
    "\n",
    "We will use Jupyter/Colab notebooks throughout the semester for writing code and generating assignment outputs.\n",
    "\n",
    "**Throughout this homework, please use 2D numpy arrays to represent all matrices. The autograder will use a precision of 3 decimal places.**\n",
    "\n",
    "\n",
    "## 1) Calculating Forward Kinematics (20 pts)\n",
    "For the following questions, you will derive a matrix expression for the pose of a coordinate frame attached to a robot's end-point (typically referred to as the \"end-effector\"), in terms of the variable joint configuration of the robot. In each case, it may be helpful to define intermediate frames such that defining each intermediate transformation matrix is easy. Your answers will by Python functions that receive as input the configuration of the joints and output the pose of the robot. **Unless otherwise stated, your functions may not call any external matrix multiplication function (e.g., `np.dot`).**"
   ]
  },
  {
   "cell_type": "markdown",
   "id": "9b077b00-bf16-44d7-988e-27cf380b2a3d",
   "metadata": {
    "deletable": false,
    "editable": false
   },
   "source": [
    "#### 1.1) Combined revolute and prismatic joint in 2D\n",
    "\n",
    "Consider a 2D robot with a single special revolute+prismatic joint, as depicted below:\n",
    "\n",
    "<img src=\"https://jorge-a-mendez.github.io/images/ese564s24/2d_simple_fk.png\" width=30%>\n",
    "\n",
    "(Note that this is just two joints attached at the same points.) The base link is aligned with the world frame, and the child link is attached to the special joint. The joint is displaced by a distance $d$ from the origin of the world frame in the $x$ direction, and rotated by $\\theta$ above the world's $x$ axis. The child link has a length of $l$, and the end-effector coordinate frame is attached at the end-point of the link, with the $x$ axis facing away from the link. \n",
    "\n",
    "Write a Python function that returns the pose of the end-effector frame in world coordinates as a function of $l$, $d$, and $\\theta$. \n",
    "\n",
    "_Points:_ 5"
   ]
  },
  {
   "cell_type": "code",
   "execution_count": 414,
   "id": "50976ae0-2716-41ae-8690-d6987cc61d83",
   "metadata": {
    "tags": [
     "otter_answer_cell"
    ]
   },
   "outputs": [],
   "source": [
    "# Your function should return a (2,2) numpy array for the rotation matrix and a (2,) numpy array for the position vector\n",
    "def X_G_11(l, d, theta):\n",
    "    R = np.array([[cos(theta), -sin(theta)],\n",
    "                  [sin(theta), cos(theta)] \n",
    "                  ])\n",
    "    P = np.array([l*cos(theta) + d,\n",
    "                  l*sin(theta)])\n",
    "    \n",
    "    return R,P"
   ]
  },
  {
   "cell_type": "markdown",
   "id": "fe970def",
   "metadata": {
    "deletable": false,
    "editable": false
   },
   "source": [
    "#### 1.2) Translate and rotate in 3D\n",
    "\n",
    "Consider the 3D mechanism depicted below:\n",
    "\n",
    "<img src=\"https://jorge-a-mendez.github.io/images/ese564s24/3d_simple_fk.png\" width=30%>\n",
    "\n",
    "The base link is attached to the world frame and connected to a revolute joint by a link of length $l_1$ in the $x$ direction. The revolute joint rotates about the $z$ axis by an angle $\\theta$, and is connected to the end effector by a link of length $l_2$ in the $x$ direction when $\\theta=0$. The end-effector frame is aligned with the world's when $\\theta=0$. The overall mechanism adds a height of $l_0$ in the world $z$ axis. \n",
    "\n",
    "Write a Python function that returns the pose of the end-effector frame in world coordinates as a function of $l_1$, $l_2$, $l_0$, and $\\theta$.  \n",
    "\n",
    "_Points:_ 5"
   ]
  },
  {
   "cell_type": "code",
   "execution_count": 415,
   "id": "0df1a49b",
   "metadata": {
    "tags": [
     "otter_answer_cell"
    ]
   },
   "outputs": [],
   "source": [
    "# Your function should return a (3,3) numpy array for the rotation matrix and a (3,) numpy array for the position vector\n",
    "def X_G_12(l0, l1, l2, theta):\n",
    "    R = np.array([[cos(theta), -sin(theta), 0],\n",
    "                  [sin(theta), cos(theta), 0],\n",
    "                  [0, 0, 1]])\n",
    "    P = np.array([l1+l2*cos(theta),\n",
    "                  l2*sin(theta),\n",
    "                  l0])\n",
    "    return R, P"
   ]
  },
  {
   "cell_type": "markdown",
   "id": "2d388cda",
   "metadata": {
    "deletable": false,
    "editable": false
   },
   "source": [
    "#### 1.3) Multi-joint 2D mechanism\n",
    "\n",
    "Consider a 2D robot with two prismatic and two revolute joints, as shown below:\n",
    "\n",
    "<img src=\"https://jorge-a-mendez.github.io/images/ese564s24/2d_complex_fk.png\" width=20%>\n",
    "\n",
    "The base link is aligned with the world frame. The first child link is translated by $d_1$ along the world's $x$ axis and has a height of $l_0$. The second child link rotates by $\\theta_1$ above the world $x$ axis. The third child link is translated along the second link's length by $d_2$ and has a height $l_1$. The fourth child link rotates above the axis defined by the second child link and has length $l_2$. The end-effector frame is at the end of the fourth child link and its $x$ axis points away from the link. \n",
    "\n",
    "Write a Python function that returns the pose of the end-effector frame in world coordinates as a function of $l_0$, $l_1$, $l_2$, $d_1$, $d_2$, $\\theta_1$, $\\theta_2$.\n",
    "\n",
    "_Points:_ 5"
   ]
  },
  {
   "cell_type": "code",
   "execution_count": 416,
   "id": "014886b1",
   "metadata": {
    "tags": [
     "otter_answer_cell"
    ]
   },
   "outputs": [],
   "source": [
    "# Your function should return a (2,2) numpy array for the rotation matrix and a (2,) numpy array for the position vector\n",
    "def X_G_13(l0, l1, l2, d1, d2, theta1, theta2):\n",
    "    R = np.array([[cos(theta1)*cos(theta2)-sin(theta1)*sin(theta2), -cos(theta1)*sin(theta2)-sin(theta1)*cos(theta2)],\n",
    "                  [sin(theta1)*cos(theta2)+cos(theta1)*sin(theta2), -sin(theta1)*sin(theta2)+cos(theta1)*cos(theta2)]])\n",
    "    P = np.array([l2*cos(theta2)*cos(theta1)-l2*sin(theta2)*sin(theta1)+d2*cos(theta1)-l1*sin(theta1)+d1,\n",
    "                  l2*cos(theta2)*sin(theta1)+l2*sin(theta2)*cos(theta1)+d2*sin(theta1)+l1*cos(theta1)+l0])\n",
    "    return R, P"
   ]
  },
  {
   "cell_type": "markdown",
   "id": "85defcf2",
   "metadata": {
    "deletable": false,
    "editable": false
   },
   "source": [
    "#### 1.4) Industrial robot\n",
    "\n",
    "Consider the 3D mechanism depicted below, which is a somewhat typical industrial robot arm:\n",
    "\n",
    "<img src=\"https://jorge-a-mendez.github.io/images/ese564s24/3d_complex_fk.png\" width=30%>\n",
    "\n",
    "The robot has six revolute joints, so it is a 6DoF arm. One interesting property of 6DoF arms is that they can achieve any 6D pose that is within reach---they are fully actuated. Write a Python function that calculates the pose of the end-effector, defined as the position of the point between the parallel fingers (i.e., at distance $L_6$ from joint 6) and the orientation of the frame at joint 6 as depicted in the figure. The world frame coincides with the depicted joint 1 frame when $q_0=0$. (Other frames depicted in the figure may be useful intermediate frames for your calculations).\n",
    "\n",
    "Write a Python function that computes the end-effector pose in world coordinates as a function of the joint angles $q_{1\\ldots6}$ and the link lengths $L_1$, $L_2$, $L_3$, and $L_6$. **Please don't do all calculations by hand. Instead, write the intermediate transforms in your code and use numpy's matrix multiplication functions (e.g., `np.dot`) to compute the overall transform.**\n",
    "\n",
    "_Points:_ 5"
   ]
  },
  {
   "cell_type": "code",
   "execution_count": 417,
   "id": "0cd9d322",
   "metadata": {
    "tags": [
     "otter_answer_cell"
    ]
   },
   "outputs": [],
   "source": [
    "# Your function should return a (3,3) numpy array for the rotation matrix and a (3,) numpy array for the position vector\n",
    "def X_G_14(l1, l2, l3, l6, q1, q2, q3, q4, q5, q6):\n",
    "    T_0_1 = np.array([[cos(q1), -sin(q1), 0, 0],\n",
    "                      [sin(q1), cos(q1), 0, 0],\n",
    "                      [0, 0, 1, 0],\n",
    "                      [0, 0, 0, 1]])\n",
    "    T_1_2 = np.array([[cos(q2), 0, sin(q2), 0],\n",
    "                      [0, 1, 0, 0],\n",
    "                      [-sin(q2), 0, cos(q2), l1],\n",
    "                      [0, 0, 0, 1]])\n",
    "    T_2_3 = np.array([[cos(q3), 0, sin(q3), l2],\n",
    "                      [0, 1, 0, 0],\n",
    "                      [-sin(q3), 0, cos(q3), 0],\n",
    "                      [0, 0, 0, 1]])\n",
    "    T_3_4 = np.array([[1, 0, 0, 0],\n",
    "                      [0, cos(q4), -sin(q4), 0],\n",
    "                      [0, sin(q4), cos(q4), 0],\n",
    "                      [0, 0, 0, 1]])\n",
    "    T_4_5 = np.array([[cos(q5), 0 , sin(q5), l3],\n",
    "                      [0, 1, 0, 0],\n",
    "                      [-sin(q5), 0, cos(q5), 0],\n",
    "                      [0, 0, 0, 1]])\n",
    "    T_5_6 = np.array([[1, 0, 0, 0],\n",
    "                      [0, cos(q6), -sin(q6), 0],\n",
    "                      [0, sin(q6), cos(q6), 0],\n",
    "                      [0, 0, 0, 1]])\n",
    "    T_6_7 = np.array([[1, 0, 0, l6],\n",
    "                      [0, 1, 0, 0],\n",
    "                      [0, 0, 1, 0],\n",
    "                      [0, 0, 0, 1]])\n",
    "    T_final = T_0_1 @ T_1_2 @ T_2_3 @ T_3_4 @ T_4_5 @ T_5_6 @ T_6_7\n",
    "    R = T_final[:3, :3]\n",
    "    P = T_final[:3, 3]\n",
    "    return R, P"
   ]
  },
  {
   "cell_type": "code",
   "execution_count": 418,
   "id": "bb46dc53",
   "metadata": {},
   "outputs": [
    {
     "data": {
      "text/plain": [
       "(array([[1., 0., 0.],\n",
       "        [0., 1., 0.],\n",
       "        [0., 0., 1.]]),\n",
       " array([11.,  0.,  1.]))"
      ]
     },
     "execution_count": 418,
     "metadata": {},
     "output_type": "execute_result"
    }
   ],
   "source": [
    "X_G_14(1, 2, 3, 6, 0, 0, 0, 0, 0, 0)"
   ]
  },
  {
   "cell_type": "markdown",
   "id": "ace0947b",
   "metadata": {},
   "source": [
    "## 2) Inverse kinematics in 2D (30)\n",
    "\n",
    "We're going to explore the nuances of analytical solutions to inverse kinematics by looking at the following problem.\n",
    "\n",
    "<img src=\"https://jorge-a-mendez.github.io/images/ese564s24/2RP_ik.png\" width=30%>\n",
    "\n",
    "The robot depicted above has two revolute joints and one prismatic joint. The first revolute joint connects the world frame to link 1, which has length $L_1$. At the end of link 1, there is another revolute joint connecting to link 2. The end point is a distance $d\\geq 0$ away from the second revolute joint, where $d$ is determined by the prismatic joint. \n",
    "\n",
    "We will solve the forward and inverse kinematics for this robot."
   ]
  },
  {
   "cell_type": "markdown",
   "id": "edda21e7",
   "metadata": {
    "deletable": false,
    "editable": false
   },
   "source": [
    "#### 2.1) Forward kinematics\n",
    "\n",
    "Find an expression for the forward kinematics of this robot. In other words, find the position and orientation for the tip of link 2 in the world frame located at joint 0 and pointing to the right. Assume that the coordinate frame at the tip is such that the $x$ axis points away from the tip. You are welcome to use any matrix multiplication function, but it may be useful to work out the expression by hand for the next question. Express your answer as a function of $L_1$, $d$, $\\theta_1$, and $\\theta_2$.\n",
    "\n",
    "_Points:_ 5"
   ]
  },
  {
   "cell_type": "code",
   "execution_count": 419,
   "id": "0d5dc27e",
   "metadata": {
    "tags": [
     "otter_answer_cell"
    ]
   },
   "outputs": [],
   "source": [
    "# Your function should return a (2,2) numpy array for the rotation matrix and a (2,) numpy array for the position vector\n",
    "def X_G_21(l1, theta1, theta2, d):\n",
    "    R = np.array([[cos(theta1+theta2), -sin(theta1+theta2)],\n",
    "                  [sin(theta1+theta2), cos(theta1+theta2)]])\n",
    "    P = np.array([l1*cos(theta1)+d*cos(theta1+theta2),\n",
    "                  l1*sin(theta1)+d*sin(theta1+theta2)])\n",
    "    return R, P"
   ]
  },
  {
   "cell_type": "markdown",
   "id": "404ad0f2",
   "metadata": {
    "deletable": false,
    "editable": false
   },
   "source": [
    "$2\\times2$ rotation matrices can be parameterized by a single number: the counter-clockwise angle of rotation. What is the angle of rotation for the orientation of the tip of link 2? Express your answer as a function of $L_1$, $d$, $\\theta_1$, and $\\theta_2$. Your answer should be an angle in $[0, 2\\pi]$.\n",
    "\n",
    "*Hint1: The angle-sum identities may come in handy: $$\\begin{aligned}\n",
    "    \\sin(\\alpha+\\beta) &= \\sin\\alpha\\cos\\beta + \\cos\\alpha\\sin\\beta\\\\\n",
    "    \\cos(\\alpha+\\beta) &= \\cos\\alpha\\cos\\beta - \\sin\\alpha\\sin\\beta\n",
    "\\end{aligned}$$*\n",
    "*Hint2: you may find the function `np.mod` useful.*\n",
    "\n",
    "_Points:_ 2"
   ]
  },
  {
   "cell_type": "code",
   "execution_count": 420,
   "id": "eb80577e",
   "metadata": {
    "tags": [
     "otter_answer_cell"
    ]
   },
   "outputs": [],
   "source": [
    "# Your function should return a (2,2) numpy array for the rotation matrix and a (2,) numpy array for the position vector\n",
    "def theta_G_211(l1, theta1, theta2, d):\n",
    "    \n",
    "    theta_G = theta1+theta2\n",
    "    # Ensure the angle is in the range [0, 2π)\n",
    "    theta_G = np.mod(theta_G, 2 * np.pi)\n",
    "    return theta_G"
   ]
  },
  {
   "cell_type": "markdown",
   "id": "8eaf4c8e",
   "metadata": {},
   "source": [
    "#### 2.2) Inverse kinematics\n",
    "\n",
    "We will now find an expression for the inverse kinematics of this mechanism. Given a target $x, y, \\theta$ pose, our goal is to find the joint coordinates $\\theta_1, \\theta_2, d$ for the robot. \n",
    "\n",
    "Start by deriving an expression for all possible solutions to the IK problem with $\\theta_1,\\theta_2\\in[0, 2\\pi)$. For now, ignore the constraint $d\\geq0$. \n",
    "\n",
    "*Hint: Plug your expression from 2.1.1 for $\\theta$ into your expressions for $x$ and $y$ to obtain a system of 2 trigonometric equations. Manipulate the equations until you find one equation that involves a term of the form $\\cos A\\sin B - \\sin A\\cos B$, and use the identity $\\cos A\\sin B - \\sin A\\cos B = \\sin(B-A)$.*"
   ]
  },
  {
   "cell_type": "markdown",
   "id": "1fcda4c7",
   "metadata": {
    "deletable": false,
    "editable": false
   },
   "source": [
    "##### 2.2.1) \n",
    "\n",
    "As we saw in class, there are often IK problems (in this case, choices of target $x,y,\\theta$) that cannot be solved for a given system. Inspect your expression for the IK and write a Python function that determines whether a given IK problem for this robot has a solution, ignoring the constraint $d\\geq 0$.\n",
    "\n",
    "*Hint: this can be written as a simple one-line check.*\n",
    "\n",
    "_Points:_ 5"
   ]
  },
  {
   "cell_type": "code",
   "execution_count": 421,
   "id": "aa29e16c",
   "metadata": {
    "tags": [
     "otter_answer_cell"
    ]
   },
   "outputs": [],
   "source": [
    "# Your function should return True if there is a valid solution to the IK problem, and False otherwise\n",
    "# Note: this function should not return the solution to the IK, only whether a solution exists\n",
    "def has_IK_221(l1, x, y, theta):\n",
    "    check = (x * np.sin(theta) - y * np.cos(theta)) / l1\n",
    "\n",
    "    # Check if the right-hand side is within the valid range [-1, 1]\n",
    "    return -1 <= check <= 1"
   ]
  },
  {
   "cell_type": "markdown",
   "id": "370aa47a",
   "metadata": {
    "deletable": false,
    "editable": false
   },
   "source": [
    "##### 2.2.2) \n",
    "\n",
    "We also saw that IK problems often have infinitely many solutions. Are there problems for which this system has infinitely many solutions?\n",
    "\n",
    "\n",
    "_Points:_ 3"
   ]
  },
  {
   "cell_type": "code",
   "execution_count": 422,
   "id": "28be4401",
   "metadata": {
    "tags": [
     "otter_answer_cell"
    ]
   },
   "outputs": [],
   "source": [
    "# set ans_222 to True if there are problems with infinitely many solutions for this system, and False otherwise\n",
    "ans_222 = False"
   ]
  },
  {
   "cell_type": "markdown",
   "id": "4271f50c",
   "metadata": {
    "deletable": false,
    "editable": false
   },
   "source": [
    "##### 2.2.3) \n",
    "\n",
    "Based on your answers so far, how many solutions can IK problems for this system have? Return a list with all possible numbers of solutions (e.g., `[10, 15, 167]` if the problem can have 10, 15, or 167 solutions)\n",
    "\n",
    "_Points:_ 3"
   ]
  },
  {
   "cell_type": "code",
   "execution_count": 423,
   "id": "10cb6652",
   "metadata": {
    "tags": [
     "otter_answer_cell"
    ]
   },
   "outputs": [],
   "source": [
    "# Express your answer as a list of all possible numbers of solutions the system could have\n",
    "ans_223 = [0, 1, 2]"
   ]
  },
  {
   "cell_type": "markdown",
   "id": "f16bb374",
   "metadata": {
    "deletable": false,
    "editable": false
   },
   "source": [
    "##### 2.2.4) \n",
    "\n",
    "Write a Python function that implements the IK for this planar robot mechanism. The return value should be a `list` of solutions, where each solution is a tuple `(theta1, theta2, d)` (in that order). If there are no solutions, the list should be empty. The list should not contain repeated solutions (i.e., if you compute two solutions and they turn out to be equivalent, then you should return only one). To check whether two numbers are equivalent, use `np.isclose(a, b)` instead of `a == b`, to account for numerical errors.\n",
    "\n",
    "You should leverage your function `has_IK_221` to avoid computing invalid solutions. Additionally, you should \"filter out\" (i.e., not return) any solutions where $d < 0$. Make sure that both `theta1` and `theta2` are in $[0, 2\\pi)$. \n",
    "\n",
    "_Points:_ 10"
   ]
  },
  {
   "cell_type": "code",
   "execution_count": 424,
   "id": "8d955087",
   "metadata": {
    "tags": [
     "otter_answer_cell"
    ]
   },
   "outputs": [],
   "source": [
    "# Your function should return a list of all possible IK solutions, without repetitions\n",
    "def IK_224(l1, x, y, theta):\n",
    "\n",
    "    # Check if a solution exists\n",
    "    if not has_IK_221(l1, x, y, theta):\n",
    "        return []\n",
    "    else:\n",
    "        frac = (x * sin(theta) - y * cos(theta)) / l1 # this is equal to sin(theta2)\n",
    "        theta2_1 = np.arcsin(frac)\n",
    "        theta2_1 = np.mod(theta2_1, 2*pi)  # Wrap to [0, 2pi)\n",
    "        theta2_2 = -theta2_1 + pi\n",
    "        theta2_2 = np.mod(theta2_2, 2*pi)  # Wrap to [0, 2pi)\n",
    "        \n",
    "        theta1_1 = theta - theta2_1\n",
    "        theta1_1 = np.mod(theta1_1, 2*pi)  # Wrap to [0, 2pi)\n",
    "        theta1_2 = theta - theta2_2\n",
    "        theta1_2 = np.mod(theta1_2, 2*pi)  # Wrap to [0, 2pi)\n",
    "        \n",
    "        if theta != 0 and theta != np.pi:\n",
    "            d1 = (y - l1 * sin(theta1_1)) / sin(theta)\n",
    "            d2 = (y - l1 * sin(theta1_2)) / sin(theta)\n",
    "        else:\n",
    "            d1 = (x - l1 * cos(theta1_1)) / cos(theta)\n",
    "            d2 = (x - l1 * cos(theta1_2)) / cos(theta)\n",
    "                    \n",
    "        solutions = []\n",
    "        if d1 >= 0:\n",
    "            solutions.append((theta1_1, theta2_1, d1))\n",
    "        if d2 >= 0 and not np.isclose(theta1_1, theta1_2) and not np.isclose(theta2_1, theta2_2) and not np.isclose(d1, d2):  # Avoid duplicates\n",
    "            solutions.append((theta1_2, theta2_2, d2))\n",
    "\n",
    "    return solutions"
   ]
  },
  {
   "cell_type": "markdown",
   "id": "3dc37d1e",
   "metadata": {
    "deletable": false,
    "editable": false
   },
   "source": [
    "##### 2.2.5) \n",
    "\n",
    "Give an example of an IK problem for this mechanism that has only one solution using $L_1=1$.\n",
    "\n",
    "_Points:_ 2"
   ]
  },
  {
   "cell_type": "code",
   "execution_count": 425,
   "id": "88980783",
   "metadata": {
    "tags": [
     "otter_answer_cell"
    ]
   },
   "outputs": [],
   "source": [
    "# Express your answer as a tuple (x, y, theta)\n",
    "#xyth_225 = IK_224(1, -1, 1, pi)\n",
    "xyth_225 = (-1, 1, pi)"
   ]
  },
  {
   "cell_type": "markdown",
   "id": "8ce087b4",
   "metadata": {},
   "source": [
    "## 3) IK in practice (50 pts)\n",
    "\n",
    "We are now going to use IK as you would in practice. Our goal will be to repeat the pick-place steps from HW 3, but this time setting the joint positions of the robot instead of a floating gripper. For that, we will use the popular `ikfast` tool, developed by MoveIt. `ikfast` finds analytical solutions to 6D-pose IK problems for arbitrary 6-DoF arms. While working directly with `ikfast` to create IK solutions for a custom robot is non-trivial and requires a bit of black magic, there are a number of Python bindings available for common robots---including our Franka Panda robot.\n",
    "\n",
    "To install the Python bindings for running `ikfast` for the Panda, and initialize our MuJoCo model, run the following code cell.\n"
   ]
  },
  {
   "cell_type": "code",
   "execution_count": 426,
   "id": "65ebe2aa",
   "metadata": {},
   "outputs": [
    {
     "name": "stderr",
     "output_type": "stream",
     "text": [
      "Traceback (most recent call last):\n",
      "  File \"C:\\Users\\boroj\\AppData\\Local\\Packages\\PythonSoftwareFoundation.Python.3.12_qbz5n2kfra8p0\\LocalCache\\local-packages\\Python312\\site-packages\\setuptools\\_distutils\\file_util.py\", line 34, in _copy_file_contents\n",
      "    os.unlink(dst)\n",
      "PermissionError: [WinError 5] Access is denied: 'g:\\\\My Drive\\\\Spring 2025 Semester\\\\ESE564 AI in Robotics\\\\HWs\\\\AI_Robotics\\\\HW4\\\\ikfast\\\\ikfast_panda_arm.cp312-win_amd64.pyd'\n",
      "\n",
      "During handling of the above exception, another exception occurred:\n",
      "\n",
      "Traceback (most recent call last):\n",
      "  File \"g:\\My Drive\\Spring 2025 Semester\\ESE564 AI in Robotics\\HWs\\AI_Robotics\\HW4\\ikfast\\setup.py\", line 18, in <module>\n",
      "    main()\n",
      "  File \"g:\\My Drive\\Spring 2025 Semester\\ESE564 AI in Robotics\\HWs\\AI_Robotics\\HW4\\ikfast\\setup.py\", line 13, in main\n",
      "    compile_ikfast(module_name='ikfast_{}'.format(robot_name),\n",
      "  File \"g:\\My Drive\\Spring 2025 Semester\\ESE564 AI in Robotics\\HWs\\AI_Robotics\\HW4\\ikfast\\compile.py\", line 36, in compile_ikfast\n",
      "    copy_tree(build_lib_path, os.getcwd())\n",
      "  File \"C:\\Users\\boroj\\AppData\\Local\\Packages\\PythonSoftwareFoundation.Python.3.12_qbz5n2kfra8p0\\LocalCache\\local-packages\\Python312\\site-packages\\setuptools\\_distutils\\dir_util.py\", line 150, in copy_tree\n",
      "    return list(itertools.chain.from_iterable(map(copy_one, names)))\n",
      "           ^^^^^^^^^^^^^^^^^^^^^^^^^^^^^^^^^^^^^^^^^^^^^^^^^^^^^^^^^\n",
      "  File \"C:\\Users\\boroj\\AppData\\Local\\Packages\\PythonSoftwareFoundation.Python.3.12_qbz5n2kfra8p0\\LocalCache\\local-packages\\Python312\\site-packages\\setuptools\\_distutils\\dir_util.py\", line 192, in _copy_one\n",
      "    file_util.copy_file(\n",
      "  File \"C:\\Users\\boroj\\AppData\\Local\\Packages\\PythonSoftwareFoundation.Python.3.12_qbz5n2kfra8p0\\LocalCache\\local-packages\\Python312\\site-packages\\setuptools\\_distutils\\file_util.py\", line 157, in copy_file\n",
      "    _copy_file_contents(src, dst)\n",
      "  File \"C:\\Users\\boroj\\AppData\\Local\\Packages\\PythonSoftwareFoundation.Python.3.12_qbz5n2kfra8p0\\LocalCache\\local-packages\\Python312\\site-packages\\setuptools\\_distutils\\file_util.py\", line 36, in _copy_file_contents\n",
      "    raise DistutilsFileError(f\"could not delete '{dst}': {e.strerror}\")\n",
      "distutils.errors.DistutilsFileError: could not delete 'g:\\My Drive\\Spring 2025 Semester\\ESE564 AI in Robotics\\HWs\\AI_Robotics\\HW4\\ikfast\\ikfast_panda_arm.cp312-win_amd64.pyd': Access is denied\n"
     ]
    },
    {
     "data": {
      "text/html": [
       "<table class=\"show_images\" style=\"border-spacing:0px;\"><tr><td style=\"padding:1px;\"><img width=\"640\" height=\"480\" style=\"image-rendering:auto; object-fit:cover;\" src=\"data:image/png;base64,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\"/></td></tr></table>"
      ],
      "text/plain": [
       "<IPython.core.display.HTML object>"
      ]
     },
     "metadata": {},
     "output_type": "display_data"
    }
   ],
   "source": [
    "!cd ikfast && python setup.py && cd ..\n",
    "import mujoco\n",
    "import mediapy as media\n",
    "import os\n",
    "import glfw\n",
    "import sys\n",
    "sys.path.append('ikfast')\n",
    "from ikfast import ikfast_panda_arm as ikfast\n",
    "\n",
    "\n",
    "def has_valid_renderer():\n",
    "    \"\"\"Checks if OpenGL can be initialized successfully.\"\"\"\n",
    "    # Try initializing GLFW\n",
    "    if not glfw.init():\n",
    "        print(\"GLFW initialization failed. No valid renderer.\")\n",
    "        return False\n",
    "    \n",
    "    # Try creating a hidden window to test OpenGL context creation\n",
    "    window = glfw.create_window(640, 480, \"Renderer Test\", None, None)\n",
    "    if not window:\n",
    "        print(\"GLFW could not create an OpenGL context. No valid renderer.\")\n",
    "        glfw.terminate()\n",
    "        return False\n",
    "    \n",
    "    glfw.make_context_current(window)\n",
    "    renderer_available = True  # If we reach this point, rendering should work\n",
    "\n",
    "    # Cleanup\n",
    "    glfw.destroy_window(window)\n",
    "    glfw.terminate()\n",
    "    return renderer_available\n",
    "\n",
    "def render_state(model, data):\n",
    "    if not has_valid_renderer():\n",
    "        print(\"Error rendering the scene. Make sure you have a valid OpenGL installation.\")\n",
    "        return\n",
    "\n",
    "    mujoco.mj_forward(model, data)\n",
    "    with mujoco.Renderer(model, height=480, width=640) as renderer:\n",
    "        renderer.update_scene(data, \"front_view\")  # Ensure scene is updated with final simulation state\n",
    "        media.show_image(renderer.render())\n",
    "\n",
    "def set_joint_positions(model, data, joints):\n",
    "    data.qpos[7:14] = joints\n",
    "    data.qpos[14:16] = [0.04, 0.04]\n",
    "    \n",
    "# Define the MJCF path and mesh directory\n",
    "mjcf_path = 'assets/Panda/panda.mjcf'\n",
    "mesh_dir = 'assets/Panda/meshes/collision/'\n",
    "\n",
    "# Load mesh files into a dictionary\n",
    "assets = {}\n",
    "for file_name in os.listdir(mesh_dir):\n",
    "    file_path = os.path.join(mesh_dir, file_name)\n",
    "    with open(file_path, 'rb') as f:\n",
    "        assets[f'meshes/collision/{file_name}'] = f.read()\n",
    "\n",
    "# Load the MuJoCo model\n",
    "model = mujoco.MjModel.from_xml_path(mjcf_path, assets=assets)\n",
    "data = mujoco.MjData(model)\n",
    "\n",
    "# Call mj_forward to initialize the state\n",
    "mujoco.mj_forward(model, data)\n",
    "\n",
    "# Render the scene\n",
    "render_state(model, data)"
   ]
  },
  {
   "cell_type": "markdown",
   "id": "cc183806",
   "metadata": {},
   "source": [
    "One caveat for using `ikfast` for the Panda is that analytical solutions can only be found for 6-DoF arms, but the Panda is a 7-DoF arm. One common way to deal with this issue is to treat one of the joints as \"free\", set the value of this joint ourselves, and then run `ikfast` with that fixed joint value. While there are better ways to do this, a simple approach is to sample the value of the free joint uniformly at random from its range. \n",
    "\n",
    "Note that, compared to the coordinate frame used last week, the coordinate frame used this week is shifted so that the base of the Panda arm is at the world origin. This doesn't change anything conceptually, but makes it easier to work with `ikfast`. "
   ]
  },
  {
   "cell_type": "markdown",
   "id": "78cd248e",
   "metadata": {
    "deletable": false,
    "editable": false
   },
   "source": [
    "##### 3.1)\n",
    "\n",
    "Write a Python function that implements the following algorithm:\n",
    "- Given a target pose $X^G$\n",
    "- for a max number of steps:\n",
    "    - pick a value of the free joint uniformly at random\n",
    "    - call `ikfast` to find configurations for the remaining joints \n",
    "    - if any solution returned by `ikfast` satisfies all joint limits, return that solution\n",
    "- if after the max number steps you have found no solutions, return None\n",
    "\n",
    "`ikfast` has two functions:\n",
    "- `ikfast.get_ik(R, p, free)`\n",
    "    - `R` is the rotation matrix $R^G$, expressed as a 3x3 nested Python list (you can use `np_array.tolist()`)\n",
    "    - `p` is the position vector $p^G$, expressed as a length-3 Python list\n",
    "    - `free` is a list containing the value of the free joints. For the panda, there is only one free joint, so this is a length-1 list\n",
    "    - Return: a list of solutions, where each solution is a list of joint positions for joints 1...7. If no solution is found, then returns `None`\n",
    "- `ikfast.get_fk(joints)` -- this is useful for debugging!\n",
    "    - `joints` is a list of joint positions for joints 1...7\n",
    "    - Return: a list of 2 elements. the first element is a 3-element list representing the gripper position, and the second element is a 3x3 nested list representing the gripper rotation matrix\n",
    "\n",
    "\n",
    "Here are some pointers on how to leverage MuJoCo for this part of the assignment:\n",
    "- You can get the `id` of a joint by running `mujoco.mj_name2id(model, mujoco.mjtObj.mjOBJ_JOINT, <joint_name>)`\n",
    "    - The Panda joint names are `panda_joint0` to `panda_joint7`. `joint7` is the free joint in `ikfast`\n",
    "- You can get the joint limits for a given joint id by getting `model.jnt_range[id, 0]` (for the min) and `model.jnt_range[id, 1]` for the max\n",
    "\n",
    "_Points:_ 15"
   ]
  },
  {
   "cell_type": "code",
   "execution_count": 427,
   "id": "3187f8c9",
   "metadata": {
    "tags": [
     "otter_answer_cell"
    ]
   },
   "outputs": [],
   "source": [
    "def panda_ik_31(R_G, p_G, model, max_iters=100):\n",
    "    \"\"\" Assume that R_G and p_G are the rotation matrix and position vector of the \n",
    "    end effector in the world frame, expressed as the list objects expected by ikfast.get_ik\n",
    "    \"\"\"\n",
    "    free_joint_ids = mujoco.mj_name2id(model, mujoco.mjtObj.mjOBJ_JOINT, \"panda_joint7\")\n",
    "    free_joint_min = model.jnt_range[free_joint_ids, 0]\n",
    "    free_joint_max = model.jnt_range[free_joint_ids, 1]\n",
    "    \n",
    "    for _ in range(max_iters):\n",
    "        free_joint = [np.random.uniform(free_joint_min, free_joint_max)]\n",
    "        ik_solutions = ikfast.get_ik(R_G, p_G, free_joint)\n",
    "        # Check if the solution is within the joint limits \n",
    "        # and return the first valid solution\n",
    "        if ik_solutions != None:\n",
    "            for solution in ik_solutions:\n",
    "                valid = True\n",
    "                for i in range(7):\n",
    "                    joint_id = [mujoco.mj_name2id(model, mujoco.mjtObj.mjOBJ_JOINT, f\"panda_joint{i+1}\")]\n",
    "                    joint_min = model.jnt_range[joint_id, 0]\n",
    "                    joint_max = model.jnt_range[joint_id, 1]\n",
    "                    if solution[i] <= joint_min or solution[i] >= joint_max:\n",
    "                        valid = False\n",
    "                        break\n",
    "                if valid:\n",
    "                    return solution\n",
    "                \n",
    "    return None\n"
   ]
  },
  {
   "cell_type": "markdown",
   "id": "b74f6e33",
   "metadata": {
    "deletable": false,
    "editable": false
   },
   "source": [
    "### 3.2) \n",
    "\n",
    "Now we're ready to pick-and-place with a full Panda arm.\n",
    "\n",
    "Start by finding the block pose and setting the gripper to a floating configuration, 0.5 units above the block on the $z$ axis of the block, and oriented as: $x$ axis aligned with block's $y$ axis, $y$ axis aligned with block's $x$ axis, and $z$ axis aligned with block's $-z$ axis.\n",
    "\n",
    "_Points:_ 7"
   ]
  },
  {
   "cell_type": "code",
   "execution_count": 428,
   "id": "e619747e",
   "metadata": {
    "tags": [
     "otter_answer_cell"
    ]
   },
   "outputs": [
    {
     "data": {
      "text/html": [
       "<table class=\"show_images\" style=\"border-spacing:0px;\"><tr><td style=\"padding:1px;\"><img width=\"640\" height=\"480\" style=\"image-rendering:auto; object-fit:cover;\" src=\"data:image/png;base64,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\"/></td></tr></table>"
      ],
      "text/plain": [
       "<IPython.core.display.HTML object>"
      ]
     },
     "metadata": {},
     "output_type": "display_data"
    }
   ],
   "source": [
    "p_B_32 = model.body(\"block\").pos\n",
    "quat_B_32 = model.body(\"block\").quat\n",
    "p_BGfloat_32 = np.array([0, 0, 0.5])\n",
    "Rmat_BGfloat_32 = np.array([[0, 1, 0], [1, 0, 0], [0, 0, -1]]) \n",
    "quat_BGfloat_32 = np.empty(4)\n",
    "mujoco.mju_mat2Quat(quat_BGfloat_32, Rmat_BGfloat_32.reshape(-1)) \n",
    "\n",
    "p_Gfloat_32 = np.empty(3)\n",
    "quat_Gfloat_32 = np.empty(4)\n",
    "mujoco.mju_mulPose(p_Gfloat_32, quat_Gfloat_32, p_B_32, quat_B_32, p_BGfloat_32, quat_BGfloat_32) \n",
    "\n",
    "Rmat_Gfloat_32 = np.empty(9)\n",
    "mujoco.mju_quat2Mat(Rmat_Gfloat_32, quat_Gfloat_32) \n",
    "Rmat_Gfloat_32 = Rmat_Gfloat_32.reshape(3,3)\n",
    "joints_32 = panda_ik_31(Rmat_Gfloat_32.tolist(), p_Gfloat_32.tolist(), model, max_iters=100)\n",
    "\n",
    "## Do *not* modify the code below\n",
    "set_joint_positions(model, data, joints_32)\n",
    "render_state(model, data)\n",
    "ans_32 = data.qpos[7:14].tolist()\n",
    "\n"
   ]
  },
  {
   "cell_type": "markdown",
   "id": "0709a627",
   "metadata": {
    "deletable": false,
    "editable": false
   },
   "source": [
    "#### 3.3)\n",
    "Now let's set the gripper to the \"picking\" configuration, 0.12 units above the block, with the same orientation\n",
    "\n",
    "_Points:_ 7"
   ]
  },
  {
   "cell_type": "code",
   "execution_count": 429,
   "id": "05d194e9",
   "metadata": {
    "otter": {
     "tests": [
      "q3.3"
     ]
    },
    "tags": [
     "otter_answer_cell"
    ]
   },
   "outputs": [
    {
     "data": {
      "text/html": [
       "<table class=\"show_images\" style=\"border-spacing:0px;\"><tr><td style=\"padding:1px;\"><img width=\"640\" height=\"480\" style=\"image-rendering:auto; object-fit:cover;\" src=\"data:image/png;base64,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\"/></td></tr></table>"
      ],
      "text/plain": [
       "<IPython.core.display.HTML object>"
      ]
     },
     "metadata": {},
     "output_type": "display_data"
    }
   ],
   "source": [
    "p_GfloatGpick_33 = np.array([0, 0, 0.38])\n",
    "quat_GfloatGpick_33 = np.array([1., 0., 0., 0.])\n",
    "p_Gpick_33 = np.empty(3)\n",
    "quat_Gpick_33 = np.empty(4)\n",
    "mujoco.mju_mulPose(p_Gpick_33, quat_Gpick_33, p_Gfloat_32, quat_Gfloat_32, p_GfloatGpick_33, quat_GfloatGpick_33) \n",
    "\n",
    "Rmat_Gpick33 = np.empty(9)\n",
    "mujoco.mju_quat2Mat(Rmat_Gpick33, quat_Gpick_33)\n",
    "Rmat_Gpick33 = Rmat_Gpick33.reshape(3,3)\n",
    "\n",
    "joints_33 = panda_ik_31(Rmat_Gpick33.tolist(), p_Gpick_33.tolist(), model, max_iters=100)\n",
    "\n",
    "## Do *not* modify the code below\n",
    "set_joint_positions(model, data, joints_33)\n",
    "render_state(model, data)\n",
    "ans_33 = data.qpos[7:14].tolist()\n"
   ]
  },
  {
   "cell_type": "markdown",
   "id": "19240d2b",
   "metadata": {
    "deletable": false,
    "editable": false
   },
   "source": [
    "#### 3.4)\n",
    "\n",
    "Compute the pose of the block relative to the gripper while the block is held. Then, set the position and orientation of the gripper to match the previous floating configuration.\n",
    "\n",
    "_Points:_ 7"
   ]
  },
  {
   "cell_type": "code",
   "execution_count": 430,
   "id": "43902c4a",
   "metadata": {
    "otter": {
     "tests": [
      "q3.4"
     ]
    },
    "tags": [
     "otter_answer_cell"
    ]
   },
   "outputs": [
    {
     "data": {
      "text/html": [
       "<table class=\"show_images\" style=\"border-spacing:0px;\"><tr><td style=\"padding:1px;\"><img width=\"640\" height=\"480\" style=\"image-rendering:auto; object-fit:cover;\" src=\"data:image/png;base64,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\"/></td></tr></table>"
      ],
      "text/plain": [
       "<IPython.core.display.HTML object>"
      ]
     },
     "metadata": {},
     "output_type": "display_data"
    }
   ],
   "source": [
    "p_BGpick_34 = np.array([0., 0., 0.12]) \n",
    "quat_BGpick_34 = quat_BGfloat_32\n",
    "\n",
    "joints_34 = panda_ik_31(Rmat_Gfloat_32.tolist(), p_Gfloat_32.tolist(), model, max_iters=100)\n",
    "\n",
    "# The next few lines \"attach\" the block to the gripper.\n",
    "# This is not required for obtaining points in the \n",
    "# assignment, but is included for visualization purposes.\n",
    "# This will only \"look right\" if your answers up to this\n",
    "# point are correct.\n",
    "p_GpickB_34 = np.empty(3)\n",
    "quat_GpickB_34 = np.empty(4)\n",
    "mujoco.mju_negPose(p_GpickB_34, quat_GpickB_34, p_BGpick_34, quat_BGpick_34)\n",
    "\n",
    "p_Bfloat = np.empty(3)\n",
    "quat_Bfloat = np.empty(4)\n",
    "# Compute the pose of the block int he world frame by \n",
    "# composing the pose of the gripper in the world frame\n",
    "# and the relative pose of the gripper w.r.t. the \n",
    "# block \n",
    "mujoco.mju_mulPose(p_Bfloat, quat_Bfloat, p_Gfloat_32, quat_Gfloat_32, p_GpickB_34, quat_GpickB_34)\n",
    "model.body(\"block\").pos = p_Bfloat\n",
    "model.body(\"block\").quat = quat_Bfloat\n",
    "\n",
    "## Do *not* modify the code below\n",
    "set_joint_positions(model, data, joints_34)\n",
    "render_state(model, data)\n",
    "ans_34 = data.qpos[7:14].tolist()\n"
   ]
  },
  {
   "cell_type": "markdown",
   "id": "ede70035",
   "metadata": {
    "deletable": false,
    "editable": false
   },
   "source": [
    "#### 3.5)\n",
    "Now let's move the gripper so that the block hovers above its final desired orientation. We want the block to end up at position $(0.4, -0.4, 0.03)$ aligned with the world frame. In this stage, we want to move the gripper so that the block is $0.5$ units above its target position in the $z$ axis.\n",
    "\n",
    "_Points:_ 7"
   ]
  },
  {
   "cell_type": "code",
   "execution_count": 431,
   "id": "45ec2a99",
   "metadata": {
    "otter": {
     "tests": [
      "q3.5"
     ]
    },
    "tags": [
     "otter_answer_cell"
    ]
   },
   "outputs": [
    {
     "data": {
      "text/html": [
       "<table class=\"show_images\" style=\"border-spacing:0px;\"><tr><td style=\"padding:1px;\"><img width=\"640\" height=\"480\" style=\"image-rendering:auto; object-fit:cover;\" src=\"data:image/png;base64,iVBORw0KGgoAAAANSUhEUgAAAoAAAAHgCAIAAAC6s0uzAAA4GUlEQVR4nO3de4xc5X3/8efMnLnufdfrK8bYa2ouNpcgyj1cEhpSKChAjNZSS9s0VaUqrUoLTaKgqKCiVlWo2l+vSpP2jzaUpkgl/NQfKRKE0AYi2qYBU4hvi7G9673NdedyZs6Z8/vjm3lymNldr+2dOWdm3q8/rNnxzOyZQfgz3+fyfZQCAAAAAAAAAAAAAAAAAAAAAAAAAAAAAAAAAAAAAAAAAAAAAAAAAAAAAAAAAAAAAAAAAAAAAAAAAAAAAAAAAAAAAAAAAAAAAAAAAAAAAAAAAAAAAAAAAAAAAAAAAAAAAAAAAAAAAAAAAAAAAAAAAAAAAAAAAAAAAAAAAAAAAAAAAAAAAAAAAAAAAAAAAAAAAAAAAAAAAAAAAAAAAAAAAAAAAAAAAAAAAAAAAAAAAAAAAAAAAAAAAAAAAAAAAAAAAAAAAAAAAAAAAAAAAAAAAAAAAAAAAAAAAAAAAAAAAAAAAAAAAAAAAAAAAAAAAAAAAAAAAAAAAAAAAAAAAAAAAAAAAAAAAAAAAAAAAAAAAAAAAAAAAAAAAAAAAAAAAAAAAAAAAAAAAAAAAAAAAAAAAAAAAAAAAAAAAAAAAAAAAAAAAAAAAAAAAAAAAAAAAAAAAAAAAAAAAAAAAAAAAAAAAAAAAAAAAAAAAAAAAAAAAAAAAAAAAAAAAAAAAAAAAAAAAAAAAAAAAAAAAAAAAAAAAAAAAAAAAAAAAAAAAAAAAAAAAAAAAAAAAAAAAAAAAAAAAAAAAAAAAADoYYbfFwAAa/L5z39eKXXbbbfdcsstSqlYLPbaa68ppX7v937vO9/5jr/XBgBAV7nhhhs+//nPP//885lMJpPJZLPZQqFQKBQqlYrr8fLLL3/0ox/1+2KBs0MFDCBwHn300XA4LH967zdN0zCMUCgUj8e991erVdd1X3311S9/+cuvv/56ey8WOEcEMIBAuOGGG2699Vb5c6XHRCIRpVQymfTeWavVbNtWSlmWlc/nH3zwQTIYHYEABuCnRx55JBqNyp+rP9IwDNM0Y7FYQ1ks5a/jOPl83rbtarX64IMP/ud//mcrrxpYBwQwAB9I4jYPMq/CNM1oNCpFsCblr+M41Wp1aWlJKZXL5bLZ7PXXX7/+Fw2sK9PvCwDQK2644Yabb775c5/73ODg4Dk8PRKJmKbpuq78aBiGUspxHMdxXNctl8tKqVKpZNt2Op1+6KGHnn322XW8eGDdUQEDaK21DzIvKxQKHT9+fGJiIhqNnjx5slarLS0tXX755UopwzBqtZpSqlQqlcvlpaWlcrmczWanp6eVUvfff//6vhFgfRHAANbfDTfcoBdVnVvuKqWKxWJ/f38oFFJKOY4TjUZd1zVNU0ah/+d//ufKK69U9VJYHj87O/ujH/2oVCoppZ599lldBF999dW33nqrPLFWq73xxhuWZTFPDH8RwADWzSOPPKK3D619crdBKBQ6ceJEPp/funXr2NiY4ziVSiUUCkmxK3E7MDBgmqbypK929OjRo0ePZrPZd95551vf+tZNN930G7/xG319faZpmqYZCoX02PV3v/vdP/zDP3zjjTfO6z0D54oABnBezr/YDYVCssHXNM1wOHzs2LHZ2dnh4eFkMjk4OCibjgzDcF3XMAx5mKpHb0MAV6vVxcVFy7Lm5uaGh4dHRkakgJbfoimlXNe1bbtUKv3BH/zBn/zJn5znhwCcAwIYwLl45JFHVL095Fnlrk7BcDgs0StZKIuZv//974fD4eHh4f7+/kQiEYvFEolEPB5fSz3tuu7S0pJlWbZtW5ZVKBR27dqlV2nJL5Wkl/5Ztm1XKpVCofDiiy/+6q/+6jl/FMC5YRU0gLOgc3ftg8wNiatr0FqtVqkzDKNarb7xxhuSvjJWLHS/SV3sem97GYYRi8WkKYe8/vHjx7du3Vqr1eS360ZatVpN7jQMIxKJ3HbbbZ/97Ge/+tWvrs9nBKwNAQzgDGSQ+bHHHpMYO2PuyhBxKBSSRU86cZVSEqWlUsl13UqlopSSvDQMo1QqFQqFsbGxcDgsRaoUr7VazbKsaDQqealngjXvr45Go47jFItFGc2emJjI5/OybkvHv/JsYZIb4XD4137t1wqFwje+8Y31/vCAFRHAAJa3xkFmnWrLJq6Q1JStut7ctW1bT+uePn1afotEb61Wk1FiKVJd15Vgltf3TgA3/LpoNFqtViuVimR2MpnUXxoa0lp+lO8Epml++tOfJoDRTgQwgJ+QYvfGG2+Uw4WWzd21JK6qB5ue3HUcRylVrVaVUnJbjwY7jvNHf/RHl19++XXXXSdbeHV/q1AoJHWq9N+QX6RHj+VOb02slAqHw/F4/M033xwcHNy0aVMsFmt+C4ZhhMNhfWEyGG4Yxic+8Ylvf/vb6/dxAqshgAH8uNhddpDZG7dCgrM5cUVzsavquStVrx5JdhzHtu1UKpXL5crl8je/+c3p6emPf/zjyWQyEolIV2dds8ol6UJWx63EvIT0qVOnDMPIZrPbt2+/4oorxsfHV3nLoVAoFovJdUoSG4axcePG8/ocgbNBAAM9She7N998cygU0sXusomr6jO7y5LQlTpSfTh3ZbmTqqdmrVarVquO4ywuLiqlcrmcTNa+++67oVDo8OHD8/Pzw8PDe/bsicfj4+PjpmnKKqp0Oh0Oh13XzeVysnT50KFDtm2bpjkzMzM+Pj46Orpx48a9e/du3rxZvxcpcOV6wuGwnkhWSkn1LBksV14ul3ft2tWiTxtoRgADvUWK3d/+7d+W0WPJJElcvXjqjIkrvLmrB5mVUhKxummzqk/rSr2rlMrlcvL68isymUw0Gi0UCqVSKZFIlMvlI0eODA4Ozs/Px2Kx48ePDw8PJxKJcDhsWVY2m52dnc3lcul0ulKpSKzatr1r167LLrtM+kXXarVCoTA/Pz8zM3PkyJFoNHrJJZe4rjsxMWFZVigUSiQS8jAZeZYRb7m8rVu3yjA40GoEMNBhpNvUzTffrJS64447lFKvv/56uVyuVCpf+cpXmo/C/chHPnLjjTfGYrFt27bdfPPNu3btknrXW+kuu5ppWZKyMoCsS14huSuprOqNmvVhvalUSqpYKXkNwyiXy9K6WSmVyWQMw8jn87Jc2ft0pVQ6nZb54HK5XCqVHMexLEtWaell0ouLi6dPn04kEqFQ6LXXXpudnT106JC+Nt3uavfu3R/96Ec3bNhg23YikZDnhkKharVarVYXFhb09QOtRgADHeOXf/mXv/CFL0iLKO+h9HfeeadSynXdu+++O5PJvPDCC3/5l3950003GYbxW7/1W7IMWGJPNsJ6lxOfMXHllSXt9N4hmdNVSkn+eXNXKeXN3XQ6rZTKZDIy5yoPyGazkruiUqls2bJldnZWKlfDMOS51Wq1XC4XCoWBgYFSqRQOhx3HkdiWsJfXlBwtl8sLCwtLS0tvvfXW1NTUSu/lyJEjR44c2blz57XXXtvf3y/blmRb1Pz8vLzs2v+LAOeDAAY6w5/92Z994hOfGB8fNwxj2cXJrutGo1HTNG+++eaf/dmfVUrJsK3k7vHjxy+88EL5UZe8q9PFrqpP63pzV47gVfUmkcqTu4ZhyFCzlLwySqyUymQylmXJuielVKFQ0H9u2LBhbm5O7pcOkbZtx+Nx0zTj8Xg6ndbLrZVSpVJJrieRSPT19SWTyVKplE6nZ2Zm3n333bV8mFNTU1NTU9dee+3u3btlotpxnGw2W6lUqIDRNgQw0AGefvrp6667TodQcyuMxcVF13UzmUwikdi8ebOqLxiWolPWLcs9stx3pQD2FruOh/ytBJWOYelI1fCYVCol9a70pVJKSbGrS96lpSXDMCR3VX0z7tjY2L59+xYWFryXZ9u2XI9eC6a7SMq24HK5bFlWKpWKxWLFYlGq7bV78803K5XK2NiYrLg+ceKEbdsEMNqGAAaC7rHHHrvmmmt04SupptsxLi4uypqmZDI5OjqqzyrQZa7kroSWUkqaPkpZrH+FxKd3q653cldGmHXuqnpO63FmpVQ6nZYJWmk7FQqFmnNX+mOoFc5RGBgYGBgYKBQKxWLRu4DLy/sulFJ6k/GxY8cGBwf7+/vP9rP94Q9/uH379lqt9tJLLw0PD5fL5bNNceCcEcBAoD3yyCP79u1TnlpWglPGS1OpVF9fXyKRkOJY1SNKN1yU4DQMY9OmTZZl6cyTjNT1rmoaZFb13PVGpl70pPtHSlzJn+FwOBaLySCzfCeQPs/e3G0ovmXpkxSgck8ikUgkEnLN1Wp12Snq5l7Q3hL8bJ04ceKiiy5yXfeDDz6Qg4SB9iCAgeC66667JH1lprNSqcTjcVmsm8/nY7GYPuZWP0XWSUmBK3uB9AStLitd1y2Xy0NDQ0opmfX0pldzEruuW61WdWNIpVSpVJJiUZZ0ya/LZrOSu0tLS6o+uauWy91isSgvsuy7rtVq4XC4Vqvp9yVfFLzXI98t5B3Je5S3c25yuZx81VhYWDjnFwHOFgEMBNTExMQDDzxgmmYsFsvn8/F4XI76ef/99w3DkJ2sSik5zk+eojNJ+jV6B3I/+OCD7du3S1ZJuGazWW9yr5K73nhOpVKyDlkpJbmby+Usy7Isqzl31YfHmVfKXb2IepUq1vte9PYk/edKQ9ZrlEqlDMO44oornnvuufN5HeCsEMBAQN13333xeFyPOYtUKlUoFEZHR6XSlUJQjyd7Oy3rQWlVX1dcLBa9daRt28lkUh6sZ3wlLyuVitS7+sGZTEb/KSWvBG0ulysUCnqQWdO5u0roekezV6cTd6UHnzx5ctOmTfF4/IwvtRLDML797W/rbw9AGxDAQBDpwWe94FlGcY8cOXLBBRcopWq1mm7uuLS05DhOw94kmUCV0+llq6t36608MZ1Oj46Oep+iPhzGsq5KcldGmyWiFhYWqtVqc1zp3JXEbchdeeUzhq63wF12TbLcL+PSsjM4n89PT0/H4/ELLrhAVk3Lw2QkYJXfpcma6rU8ElgvBDAQOHrwWfbsqnqwZbPZhYUFGUlWnhP9VH1tcyQS0SEqEdXQTlKiy3EcfeZuLpeTwtG72EoplclkvEPNEuSnT59WnkFmTZ4ly6m8K6q8hyCtMkp8tokrVysHNti2bVnWJZdcEolEIpGId2jae0N5vsrIKzRks+wDXukKgVYggIHAkcHn5v2+r7zyysaNG+fm5iTPpMGFPKZYLEqlqzf76nSRXhZKKR2oMmIsvbQcx0kmkwMDA/JgWVclJa9SSkrelXJXKWUYRkOxq8vchnbQXqsnrr5Tnwosd8r2pLm5ObmeY8eObdu2TZ7y/PPP/+mf/unqn2rzBLP3420YQgfagAAGguWuu+66+uqr1YfPQjAM4/jx49PT0xMTE319fZJJxWKxWCxaluXtn6w86auL0YWFBRmnVUrFYjFZVyWzs1JWRiKRcrnszd1UKlUsFmXzbvNF2nXSu9G7gXjZ0JUyffUCV314NZaMVMtGplOnTi0tLZVKpZmZGe8TT506JTe+8pWvOI4zMjKy9s+54UqOHTu29ucC64IABgJkYmJi//796sNLqJRShmG88sor1Wp1bm5ucHBQTh9S9RSxLEvVGztLW2NJR3muBOTS0pL0qchms9LvSWpoqfzm5uZkG08mk6nValJiNpMCWneC1APCDaG7xgLXu/3Jm7i1Wi2fz8/NzRUKhcXFRVlcvbpjx47dd999x48fP+MjV6KzHGgbAhgIkPvuu08fFqTvjEQiMzMzJ06c6Ovry2az6XRatv/q7lT61NtqtWqapt6h1NyeQqZpZc+r9OWQpdT5fD6dTktN3EDPs0r6Lhu655C4cuXyyq7rWpZVKpVOnTpVLpdlp9NZfW7f//73t23bNjY2dlbP0k6ePHluTwTOBwEMBMVdd9111VVXySafhr+SrsXSB2NhYcG27VwuF4lEksmk1MoyVKuUqlarxWIxmUx6GzqWSqWpqalCobB7927HcWKxmCSx/CJpRxWNRvVpRfIUWV/tTU39grq8bl7PrONWBrr1DK4eptZ7nJaWlizLmp2drVar5xC6DdLptKwPPwfVanXPnj19fX3//d//fT7XAJwVAhgIhImJiU9/+tMNu37F7Ozs8ePHbduORqPvv//+zp07ZWm05JYMR4fDYT1ZKzWufh0pYWWuN5PJyLoqnfENU7wyml0oFLyhu8YCt+GR3sSVG5ZlVatVKeJLpdL6tp3q6+tLp9NnNQ0s0um067o7duyoVCp/93d/9+d//udvvvnmOl4YsBICGAiET33qU9FotGHqV7z11lvSG1kplc/nFxcXY7GYDC9LCyqllK5fZS20PFGSWEfmhg0bVH0GVx9poMe65WES7XoxVHPiNsStqjei0m0va7WaXmttWZYMd6dSqVwu17pej9FodHFxUW6fVQan02lpZB2Lxf7iL/6iUCj87d/+bbVa/eu//uu/+qu/asWlAtqZzwQF0Gr33HPP/v37Zfa34a9SqdTLL79cLpcjkYhsKAqFQps2bRoaGpLo1ftnTNOU1hnyYygU8k4Al0qlvr6+Wq0mz1L18WTZDbz2Alctl7jeRdGyLlr6fuTzedlPvN4fWKNoNLpr166JiQlp0jk8PLx3796jR4+u8pTx8fFDhw7phd9KqXA4/PDDD8vuLDkk+B//8R+/8Y1vtPri0bOogAGfTUxMfOpTn1p26lcp9d577zUH2NzcXPOpeauc8iuy2aw+aEhvWJLzd6Xw9Y4he88/0PfrgWW9yrpUKulDk0ql0uzsrAx0t7+rlCxJ6+/vr1arp0+fzmQyIyMj8Xjcsizv3LaqR+/U1JT3zjvuuOM73/nO9773vbm5OX3nsmcxAeuFAAZ8JoPPy6avUmp6elrVw1UGqFcK2tXTV8iiKrmt54mlrbTybI1t2I+rPIlbLpedOgndubk5WVHlYyvHRCIhN6TlSDwez+Vysmk4Ho97e0SXy+WG6I1EIoZhvPzyy0qp9957z/tXHI6EliKAAT/dc889V155ZcO+I+3dd9/VqeY9XKj5wWtJX6WU4zipVEr3vZKDC2UsWkrh5sTVA8uqnr5LS0vpdNq27WDmk5wfNT4+nkgkZLy9WCx6z2hKJBJSE8tJjsVicdmDERvOQATWHQEM+GZiYuL+++9fafC5XC6///77clseoMOy2VoCWHJ0YGBAml3oJtLysvowJYleXeaWy2XbttPpdLlctiyreeg7IHRYSlkvn6pM6CYSibGxMe+Iurx3+RyWnfmWz/nIkSNtu370IAIY8M39998fi8Wa07dSqRQKhVOnTumVvao+H7lSBXxGumuHUiqbzUYiEckY3cpDjnOQ3y57h7LZ7NLSkr9jy2sUjUZ1jsoHpc+Gcj3kc/Men6wnvL2vJj++/vrr3s8fWHcEMOCP3/zN37ziiisalvnYti1NmxcXF2dnZ/X9+mHLBvAZ81gWP+uYiUQi0Wh0bm5O4kdW/MpjFhcXfZ/QPQf685F+nHpQQYaRVx82aE7fYrE4ODi4YcMGAhgtRQADPpiYmNBTv1KZSfTatl0qlRYXF7PZrC5YJSf0cQvnMAEsY61yW1pclctl6bYxPT0t6VsqlTordJclK6qk/JXobU5f3ZxLP8Y7Om0YxvDwcK1WO4eeHsBZIYABH8jgs9Rt0g9ZCtB8Pi9nEJXLZb0ySB7mLYK9ibuW9JUelqpeYav67uFisTg/P7/+b6/t5MPRxyeHw+FlZ3abeetjOZ1CZsRXOUsRWC8EMNBuW7Zsufjii8PhsKx1kkVPpVKpVCrp9PWGh7cCbrZ6AEvPZz3WWi6XJVfkaMKG0/06V6lUisfjsrQqHo+vEp+6Jm5+gKSv9xBioKXYZg60WzQalfN/5IihhvSVNVDex8ukpqrXvmtfgSXprvOmXC7rZVaVSiWXy63lpL+O8MADD/zrv/7rr//6r5umucbitaH5l0weS/NOeQATwGg1KmCg3bZv326apszLVqtVKUaz2aycVaBbS4rVR5tXCWPHcaQrpDxG9iDp8rdWq3VH+fuZz3zmd37ndyYmJpRSO3bsuOuuu/74j/94ZmZGGnOu/ly9BFrPBXj/NpVKteyqAaUIYKD9ZmdndR9HmeiV9NWH48rDpImEntTUrZu9L7VSxsgW3lqtpltO6kMaCoVCpVKZmZnRvSk612OPPfb7v//7mUxmYWFBnzBx4MABpdTTTz8tyeodum8efJaSd9m1WkCrEcBAu7muOzs7Ozg4qNNXV8PeBUHexF12E/BK6Ssdm/U4tvSMlJiRgjuXy3n3OHWo/fv3P/7441NTU80D6aZpfvazn/3a175WKBSKxaKuhnXPr1qtFolEisWibMFa9vWpgNFqzAED7VYqld566y1v+srBgt4hUJ3EKy1+Xom0uNLzoNL1SQpipVShUHBdtwsGny+44IKnn37acZxcLtdcvMq6tocffri/v3/jxo2jo6N6Q3CtVhsaGhoYGJDpdppNwkdUwEC7yeqe2dlZveNFdgrpB+iVQTpxQ6FQc+HbnMeSvlIB631HEr1SE5fL5Uwm0+mDzxdccMGTTz65efNmaRWpW1ytxHXd4eFh+WRs25bFbpZlrTK/TvmLNiCAgXaTA3ls256YmJDa1LvsWfeF0IXdsi04lo0cnbXyo0SOjnPpvNEFg89XXXXVxo0bf/CDH+gPoTmD8/m8rDWTgX19erF0ty4Wi8rzCet2KPrpwTxnAl2GAAZ8cPLkyWQy2dfXNzIy0tB/ytuVqXnv7yrlrzdp5Fwjfb6C4zjFYrFcLnfB2quNGzcWi8UTJ06kUqlt27YNDg6qepQuLS3p/c0LCwt6jZueUJf0zeVyDa+ph+vlU02lUocOHWrv20IvIoABH8hO3Lm5OcdxEomEDlrdAkIqY7lfjgH2do1uTl+JWz34LOuMJH1rtVqlUllaWrJtuwvK382bNxuG8fbbb1944YWmaeZyucHBwcHBwenp6dOnT0vuyuoq9eFlzyulr5dE9Y9+9KP2vBf0OAIY8EE6nc5ms1Ls9vf3JxKJeDxuGIbuDuHdg6TOtAJLr7GSiWRJYj3y7DhOqVSqVqvdcbherVaT7yWWZWUyGXmPc3Nz//u//ysDy/r0YuUZZF5L+srjDx8+zAQw2oMABvwxNzcXj8eLxaJ0xerr6wuFQqZpSu+qWq1WLBbj8bharvb1hrFOX0kdOddB1WeCpfyV7On0wWcxOjqq6mcWyay2UmpxcVGqXu/mKz0XLsvczlj7SvSSvmgbAhjwRyqV2rJliwSGrFU2DEMyWJoSRyKRdDq9YcMG9eFG0Mumr576lfzWLRUdx8lkMpVK5dZbbz127Fi73+R6GxoaUkqZ5of+4Uqn0wsLC1L+iub0XaXppgw7HzlypDtGCNBB2AcM+OPBBx/cv3+/dH62bVt34XBdV2rWRCLR0BRafXgsWmZ8vTe8M8Fyf6FQsG17+/btd99993PPPXf55Ze39U2ut6GhITnMWHfSlvv1omWJW+86cMuyZP572Rd0XTcajb744oukL9qPAAZ8cPHFFz/88MNf+tKXLMuSHopyIqEeRJUQdRwnEolIS2d5ojd9dajov9VVr/xoWVahUKhWqzfccIPUeU888cT+/fvb+U7X19DQkLS10u9RDjaW297CVyll23alUpGvIM0vJdE7NDR0xolhoEUIYMAHDzzwwMjISKlU+qVf+iVdyel9RLqHs2maqVRKDvGtVqsNg8/6hoSrxIwefNbl74033njhhRdKitdqtYceeuiJJ57o0FJYD9FLpauUkk29DYWvqte+y6av67qxWGx4eDiRSLiue/Dgwba+B6COOWCg3Xbu3Llnz54LL7zQcZxf+ZVfqdVqf//3fy8rraTklVMEXNc1TbNYLIZCob6+PglgPWfcsChah663/LUsa3x8/JprrtGro2Uu+bLLLnviiSeeffbZf/qnf2rzez9PsgJLeb5nKKUWFxe90auUkoF9OerRe79EbyKRCIVC+hNry4UDy6ACBtrtqquukpMH8/l8pVL5xV/8xZ//+Z+XsWip5GRWWPIynU4Xi0VZSJVKpfL5fKlU0qf8Cu/uYX2nPOXKK6+UCluGuPVksy6FfXj/52poaEjWpql6AEsR3BCiOn1lK5d26tSpWCwmC8uF67rz8/Pz8/NtuXygEQEMtNu2bdtGR0cdx5F2ieVy+cCBA319fVKxaTJiPDAwkMvlqtVqKpWSltH6r+TV9H5fnUnlcnlhYcFxnMsvv3zz5s0yFSpDtXL4jxxCUKvVLrvssm9+85u+fhhnR8aflVIyGCDfKrwnKMs3m4b0dV1XHTqU/OEP3e99r/Tyy67rSorXarV33nmn/e8CEAQw0FYbNmxwXXdxcXFxcbFUKuXz+XQ6nclkHnnkkWq1mkgkyuWyBG21Wq1UKrLot1gsSojKab61Wq1UKhUKhXK5LOcKSNvFQqFQKBRyuVytVtu+ffuOHTukXJZ209VqtVQqlcvlhhOTOmVZluzO0j82LxGXE6W86SvRG/5//y905MiYUs7cnDM3Vzl4UB8eTPkLHzEHDLSVJERfX182m1VKxePxWCxm2/bmzZs/+clPvvjii6ZpRiIR27Zlt2ssFuvr61P13a6xWKxUKpmmqZcj6TMGZCl1uVzu7+/fuXPn6OiolIN9fX3JZFLmmCXAHMeJxWKq3lXq3nvvnZ2dffXVV/38XNZgdHRUKldNelzL7Yb0dV03dORI6PDh5tepHDw4ct11S0tLc3NzbbhsYCUEMNBuMvsbCoVisZgcihcOh2Ox2L333huLxZ5//vlKpRKNRqVEk4CJxWIjIyMjIyOWZS0uLiYSiWKxGI1G9XrppaWloaGhRCIxPj4u63tVfXJUiua+vj55Tf2y0Wg0Ho9LBkejUT8/kbVp2IslQwXyNaUhfY3Dh5eNXi03NWVs2MD4M/xFAANtlclkZmZmZmdnZeYyGo0mk8lEIpHP58Ph8N133/1f//Vf09PTehW0UqpQKFiWFY/Ho9FoLBbbvn17LBaTWnZpaam/v1/GZr3roqX5cyKRkDXV8nulFJbNstFoVNZ8SSl8zTXXvPTSS/58Ims2NTXlOM6ll14qJyAppUqlUigUKpfL0urZsqxYLLawsDCSyay+uNmenT00O8v4M/y12inWAFrhuuuuu/HGGwcGBmKxWDQalcFkpVQikRgbG1NKffWrXz158mQkEgmHw6FQSLI2FApJAMuPUjTrOdFQXcP2pEQikUgkpMmlYRiRSKSvry8Sicirye+NRqNzc3P/8A//0BEVYSKRuOiii3bt2pVMJgcGBmTduG3bJ0+e3LRpk4znW889d8bX+b9tuFZgVVTAQLtNT09PT08PDw8rpfr7+wcGBmRqM5vNFgqFWCy2f//+Z555Rs9Qyn4kOSLJtm1ZlqWUKhaLEuGqvhNJNhB721V6S+FwOFytVnUpbFmWVMCVSqVYLK7UrDFoSqXSu+++e/z48S1btlx44YVjY2OGYZRKpe3bt4dCobW/izGlFlt6ocCZEMBAu0ngJZNJpVQqlZLVWLFYTE4acF23XC5/8pOf/Od//udCoSCLp2zbllJYHztomqa0RLZtW0ph2d2r6v2i9RlKtm3n83kphaVKllnh4eFh2ZUUjUYXFzssjIrF4tGjR2dmZm699Vb5TGROXSkVn58fX8Mr/JRSr7f4IoHVEcBAu83Ozi4tLQ0PD8sIcK1WC4VClmXNzc2ZpmmapjSLuPbaa48ePXrixAm9aVW3sjIMQ1Y+y/opx3EkjyWhdfouWwrHYrFQKFStVufn56UKT6VSksQ+fR7nrlgszszMbNy4seH+5Bqee6IVFwScDfYBAz44fPiwFL7Kc2i8UkpGUMvlsiwsuuiii7Zt26aHVaXhszTcELZtl0olmQSVvcLysJqHfn0phTOZjF5OnMlkisViKpWS3cNte/vrKJ/Pe39smAIHgowABnxw8uTJUqnUcIrRsnbt2rV161Zvj0nJXWn7LBEr591WKhXLsuRkAm8Gy21vDC8uLpbLZbmnUCjMz88vLi7qM4U6S6lUkhv6a0q8fjQhEHAEMOCPw4cPL7tiqPnOXbt2bdmyxZvBUgo35GulUpFquFgslkolfb9en+UttXO5XDqdrlQq+XxeHr/KkfVBNj093fCJxde2uehka64HWDsCGPBHoVDIZrMSqw0nKzQ/eNeuXRdccEFzBksM63rXcRzpSWlZlpz00DAW3VAKZzIZqX07bhGW1/Hjx/XtwXfeibG7Fx2CRViAP+bn5+fm5uSEH1VfiqVWHo7esWOHUmp6eto7zVmr1arVqm6SLI2xJIZlQZb03NCrveS5ruvK+iyZbC4Wi94M6zhHjx4tHj3aNzJyfTo9tLansAILQcCCBcA34+Pj119//cjIiO6tIffLWuhln5LNZqenp/UCLi0UCkUiEclXbzsOWSadTCZjsZjcqddIy3kPuVwumUz+9E//dGveYpv8ny9+USk1uebHD+/dG55c+8Nb6+DBg88884zfVwEfUAEDvpmfnz99+vTAwEBDEbyKoaGhsbExedi7776rmynKUixpcSWVrjxGqmFpF6U7U8oyLhmmzufzn/vc51r8Rlvu5yYnXzjLDNu3b1+LLuZsHTx40O9LgD+YAwb8NDMzs7S05J3cVcutw2oQCoUcx5mYmNi6dau+U9Zh6UllfdqgUkoWW2UymUKhIIVvqVQqFov5fP7AgQPr/Z46wHBg0lcpNTk5ORmYchztRAADfjp58qRuguFdqLx6BuuOHFu2bJmYmNi5c2ckEhkfH5czCfRBubL2Sj9LYjiXy2UyGVl+deDAgYmJiVa9tzb6uQMHGptxrGp4795WXQqwZgxBAz57++23r7/+euk0KcujVn+8zml5/MDAQK1W27VrV7VajUajhUKhUChs2rRJzlOSp0xNTUnQyuBzOBzet2/fbbfd1uJ31lZ79u1Tb7/t91Wco8nJSaaBexABDPjMsqxCoRCPxyVQ5U7p9rzKs4w6OadB/gyFQslk0nXd48ePf/nLX27L5QfFT+3dW1xzAMtH59395TsyuAexChrw39VXX33ppZeapinH+sr6KTmpsPnBsulIpoGFDDtXq1XdkzKfzz/00EO7d+9u+1vpMIHK4HvvvdfvS0BbMQcM+G9+fj6TyeiZYLlzlf6U8hh91oJZJ8c2yBmFJ06w2fXMvOdV+I6lWL2GAAb8d/LkyXQ6La2sVD16Vz+eSDJYb/nVI9JSRofD4aNHj7bl2rtBQGKYAO41BDAQCCdOnMjlct7QPWMAywB1OByW0DVNU6eIaZqnTp1q6QV3nyDEMBncUwhgIBBGRkYymYxSyrt/94wbgnVg6LFoGYWORCKmaR45cqR1F9yt/M1gArinEMBAUNx44426CF7LKLSQUWgpf/WfkUiEaeBzRgajPQhgIBD27t2re2joIngt67BUvYm0bFuKRCJSBCcSiffff78dl96NfMzgvTQJ6RkEMBAUd9555+nTp3X7Kvlz9VFo7+kLEsC6CFZKffDBB+247i7l15Twvn37KIJ7BAEMBMidd97ZPBPs5W0f4S2CZUGWzmClVDwe931JURfgM0TrEMBAgNxyyy2yH0kXwatUwN6E9o5FG4Yho9BnPFsJa9H+DJ6cnGQguhfw/ycQCPp0vFtuuUUXwXLP6qPQkrIyCh0KhaQjRzgcdhznjIuosUbtH44OzmmJaB0CGAiWW265JZvNKqVqtdoaGyV6R6GVUtVqVY77bd1F9qZ2ZjDTwL2AAAYC56abbkqlUkopx3GWHYWWYHZdVw9WyzFKtm3L46vVqmEYDccM4/yRwVhHBDAQOLZt53I55SmCV9qPJEcTOh46m9t5wT2lbcPRBHDXI4CBwLn99tsty5IMliJ4LR05GjiOc/HFF7fg6qBUu0phMri7EcBAIDQsurn99ttl5HktLbEkDHStrI9naN3VQrXlEyaAuxsBDASR3o+klLJtu2EaeKURZkK3zchgnA8CGAgovR9pLS2xlGdllr7nHAaucbZancEEcBcjgIEgOnz48Le+9a10Oi0/ntWOXvpvtBkZjHPD/6hA4Bw+fPhrX/vayMhIJBKR/Ui1Wq1SqazyFCl8Q6GQtwLmOEIgyEy/LwDAh1Zgvfjii6+++urg4GBfX59SKp1Oj46OqvpMsPSYbLbsyHMymWzhRcPD26N73UkF/Mwzz7To9eEXKmAgQP7t3/7ttddeGxwcTCQSiURidHR0cHBQF8FnnNP1ZoBENScStg0r4HC2CGAgKF566aX/+I//6O/vj8fjyWQykUgopTZt2jQ4OChzwKuPQmvSKSIUCjWMSKPVWpfBTAN3JQIYCISXXnrp3//93+PxeDwel/JXKSU/Dg4ODgwMRKNROWJh2adL0C4tLZmmmUwm5WyGcDh89OjRtr4NtAwZ3H0IYMB/c3NzOn2j0agc5Ss/KqVisVhfX9/w8PD4+Hg4HB4YGJC2z9LzOZFIxGIx13X7+/tHR0dN05SQDofDUgf7/eZ6C0Uw1o7/OQGfbdq0adu2bfF4PBaLRSKRZDIZDoe96StRapqmUmp4eDgej4+Pj2/dunXLli2bN2+WcnlgYEDVdyvVajWpgE3TPHz4sL/vrgeRwVgjAhjw044dO3T6RqPRRCJhmubv/u7vetM35BGNRqWudev0S+klWnIjHA4rpaLRqB9vCy1BAHcZAhjwzUUXXTQ2NibDzpFI5Etf+lI0Gn300Uel2I3FYqZpyhiyN011+qp6sSWJK0chedPXMIwPPvjAt7fXwyiCsRYEMOCP5vSNRCKPPvqopKykrz5WIRQKRSIRqYZVUy9omfRtXp+lH4/2a1EGE8DdhP85AR+Mj49v2LBBhp2/8IUvfPGLX5RFzpK+f/M3f6PTV9VzNBKJ6MHnZV9TArharXrvjEQiLIT2CxmM1RHAQLvt2LHjIx/5SCQSkfSVZc8yv6ua0leXv3Jj2V4c0qPDG8xS+MpQNgHcZfbu3ev3JWB90IoSaLePfexjd9xxx9DQkGRwPB4Ph8PSuKpWq3nTV9XLX/lzpdq3VqtVq9VandzpHb5u/XvC8lrRonLfvn2Tk5N0puwCBDDQVrfffvuePXui0ahpmpFIRGZ2pcB1HMdxHG/6SnxKfex9kebFzw2VsSzCUkrpZVzwS0vbRKOj8X8m0D47duz4+Mc/Ho1GbduORqMyB+xN34bHh8PhWCwmrSVX+Udcnui6bsMEsAxBT01NteCtwE+Tk5MMRHcBAhhok+3bt3/mM5+RbhuaDDg7jiMlrHdcUTppSBcOSd/mvb9i2f6UehqYQwJ814r/BN4TtNChCGCgTT72sY9J+pqmWSwWpfYNhUI6fRvI0PQZB5Bl7+8qA9FUwEGw7hnMWuguQAAD7bBjx449e/ZI+srIc6VSCYVCtm0vm76GYcg88RlfWb/CStPAsVhsPd4BAocM7nQEMNAOP/MzPyOrrvTyq2q1alnWSjO7em54pReUqlfPHLuuu+xAtAxBsxMpCCiC0YBV0EDL7dy5c/fu3RK9Qpo8S2oadfrxUv4uO/i80jSwdwNSA9M0v/71r0tz6ccff3z93hbO2rqviGY/UkcjgIGWMwxDbzcyTVPWP8vGX1XPVG8Gy85g+VHHbUP/Z03/g94QwN4m0noo+8knn5QbJLFf1jeDCeCORgADLbd7926961c6b0geex/z7LPPyg19vxyucMYXX6URtNxYtheHJDEx3AXI4M7FHDDQcqFQyDv4LDG87COlPLIsq1gsyuG+zbypLLdXGnwW4XB4pQc8+eSTuiZG26zvZDAzwZ2LAAZaTpo5y/izDEQ3lL+qXqfqf5pt2y6Xyw2NNZa17BkM+jXZB9wLyOAORQADLRcOhyV35ZDBhvK3Wq0eOXKkOSZd161UKpVKpXnV1UpLsRroXhyrb2eiCAZ8QQADLff222/LyHO4Tv/V1NTUd7/73ZV6ZUgGW5alPKHbPAQtvTiany6/a6WhbC8yuM3WfRSaIrgTEcBAy6XT6UOHDkklKtuBlFLVavXQoUPHjh1bfQZXKWXbdrFY9D5MZ7DcWCViLcsqFArn+wYAtAABDLRcNpt9+eWXU6lUOByORqMSva+99toHH3xwxvQVruuuNCVs2/ZKAZxOp+fn58/r0tEhqIA7EQEMtMPbb7/9yiuvpFKpcrk8NTV14sSJNe4y0uSwo2UzeNkUX1hYSKfTa3nlxx9/nP1IXYAM7jgsjwTaZGxs7Bd+4Rc2bNiglovMbDa7lhcxDEMf0iDHKGUymYbnLiwsLCwsrPGqiF6/tOKQ4HvvvXfdXxOtQwADbbVz586LLrpIbug/1ZoDWCklPbOkmWWlUslms/l8Xv6K6O0grQjgZ555hqYcHYQABnz21FNP7dy58+tf/7pSanh4eGhoSO4fHh5e6SmSwaZpuq67uLhYLpeLxWKxWCR9OwtFcI+jFSXgv/7+fqmAm+tgbx57b7uuKwcRuq57VoWvIn27Gp0pOwgVMOCzp5566l/+5V/O4YlSImcymTU+ntwNmlZUwIoiuHMQwIDPLrnkksHBwda9PrkbWC0KYGaCOwUBDPisdQFM9AZciwJYUQR3COaAAZ+te/qSu2AmuCPQiAPoNhwy2Ck4qKrHEcBAdyKDe9nk5OTevXv9vgqcAQEMAF1o3759fl8CzoABEMBPAwMDl156aUt/BVPCQda6dViKpViBRwUMAN2J4xkCjgAGAN+0dB0WARxwBDAAdC0yOMgIYADoWgRwkBHAANDNyODAIoABP91zzz1+XwK6HAEcWGxDAvw0OTl54MABud3S1hlsRgqylm5GUhzPEFRUwEBQPP74462LSRpjAUFDBQz4yVsBN2hRZFIKB1CrK2BFERxInIYE+GmVfoGPP/54KzL4ySefXGMGr/23E+rAOaACBvz01FNPrZLBbZgV9nFomtjW2lABKzpTBg8VMNCjfJ8VpsJuMw4JDhoCGEDQeaOaMD5nBHDQsAoaQCfxvXDvaOwJDhTmgAE/vfDCC2d8DJHTrJvq4PZMAGvMBAcHFTCAzsOXknNGERwcBDCAjkQGnxsCODgIYCDoumm4FUFABgcEAQx0gJZ2qYSP2jwBLAjggCCAAd+s0oJjWWQw1gsZHATsAwY6ic5gZkBV/UM44/eSNT4MaDO2IQG+2bdv31NPPXX+r0MYq6Z8XfYzCWAG+zIELb74xS8ePHjQr98ORQADPlqvAFZk8NkIVAz7GMCcj+Q7AhjwzToGcAPy+IyCEMM+pq+gKYe/mAMGfLN3794WvTJTxVgLukP7iwoY8M3k5OSBAwfa+RvJYy/fi2DfK2BFEewrKmCgh6weOcRzD6II9hEVMOCb9lfA/gpUwPte/qpgVMCKItg/NOIA0Cb08wommnL4hSFowDdn2wkL6yIgXwICUv4qRqH9QwUMoIcEJH2DhiLYFwQwgLZiIBoQBDCAXkHwr2RycpIiuP0IYAA+aH8dTPoiaNiGBPjmhRde8PsSgqKlO5QCGL3BWYHlxX6kNmMVNAD/rZSRgdo63PVYDt1mDEEDCK7zL14DWP4GFtPAbUYFDCCgKH/bjyK4naiAAQQR6esLiuB2IoABf9AGqz0I8rNFBrcNQ9AAOlXz/G5HxG0wl0BrjEK3DQEMoPOstLSKJVfrggxuD4agAQTRKp06SNlWYxS6PaiAAQSXZO2TTz5J6LYZRXAbUAED/ti7d6/fl9AxSF90JSpgwB8/+MEPSqWS31cBLG9hYcHvS+h+VMAAAPiAAAYANHrvvff8voTuRwAD/mCID+hxBDAAoBFfENuAAAYAfAjp2x4EMADgQwjg9iCAAQAfQgC3BwEMAPgQArg9CGAAwE+Qvm1DAAMA4AMCGADwE7TgaBsCGPAHA31AjyOAAQA/wVfDtiGAAQA/Rvq2EwEMAPgxAridCGAAwI8RwO1EAAMAfowAbicCGACgFOnbdgQwAAA+IIABAErRgqPtCGAAAHxAAAMA1MLCAnPAbUYAA77h3zuglxHAAAAmgH1AAAMA4AMCGADAhIgPCGAA6HWkry8IYADodQSwLwhgAOh1BLAvCGAA6HUEsC8IYADoaaSvXwhgwDf8wwf0MgIYAHoaLTj8QgADAOADAhgAehpTIX4hgAGgd5G+PiKAAaB3EcA+IoABoHcRwD4igAGgdxHAPiKAAaBHkb7+IoABAPABAQwAPYoWHP4igAHfMAAI9DICGAB6FF8B/UUAA0AvIn19RwADQC8igH1HAANALyKAfUcAA0AvIoB9RwADQM8hfYOAAAYAwAcEMAD0HFpwBAEBDPiGYUCglxHAANBz+PIXBAQwAPQW0jcgCGAA6C0EcEAQwADQWwjggCCAAaC3EMABQQADQA8hfYODAAYAwAcEMAD0EFpwBAcBDACADwhgAOgVCwsLzAEHBwEM+Il/DYGeRQADQK9gAjhQCGAAAHxAAANAr2DKI1AIYADoCaRv0BDAAAD4gAAGgJ7ACqygIYABoCcwBB00BDAAdD/SN4AIYMBP/LMI9CwCGAC6HxPAAUQAAwDgAwIYALofkx0BRAADQJcjfYOJAAaALkcABxMBDABdjgAOJgIYALocARxMBDAAdDPSN7AIYAAAfEAAA0A3owVHYBHAgJ8YHgR6FgEMAN2ML3mBRQADQNcifYOMAAaArkUABxkBDABdiwAOMgIYALoWARxkBDAAdCfSN+AIYAAAfEAAA0B3ogVHwBHAgJ8YJAR6FgEMAN2Jr3cBRwADQBcifYOPAAaALkQABx8BDABdiAAOPgIYALoQARx8BDAAdBvStyMQwAAA+IAABoBuQwuOjkAAAwDgAwIYALrKwsICc8AdgQAGfMa/lUBvIoABoKswAdwpCGAAAHxAAANAV2FSo1MQwADQPUjfDkIAA0D3IIA7CAEMAN2DAO4gBDAAdA8CuIMQwADQJUjfzkIAAz7jH02gNxHAANAlaMHRWQhgAAB8QAADQJdgOqOzEMAA0A1I345DAANANyCAOw4BDADdgADuOAQwAHQDArjjEMAA0PFI305EAAMA4AMCGAA6Hi04OhEBDPiMwUOgNxHAANDx+BrXiQhgAOhspG+HIoABoLMRwB2KAAaAzkYAdygCGAA6GwHcoQhgAOhgpG/nIoABAPABAQwAHYwWHJ2LAAZ8xhAi0JsIYADoYHyB61z/H9nSA4TLtcohAAAAAElFTkSuQmCC\"/></td></tr></table>"
      ],
      "text/plain": [
       "<IPython.core.display.HTML object>"
      ]
     },
     "metadata": {},
     "output_type": "display_data"
    }
   ],
   "source": [
    "p_Bhover_35 = np.array([0.4, -0.4, 0.53]) \n",
    "quat_Bhover_35 = np.array([1., 0., 0., 0.])\n",
    "p_Ghover_35 = np.empty(3)\n",
    "quat_Ghover_35 = np.empty(4)\n",
    "mujoco.mju_mulPose(p_Ghover_35, quat_Ghover_35, p_Bhover_35, quat_Bhover_35, p_BGpick_34, quat_BGpick_34) \n",
    "\n",
    "Rmat_Ghover35 = np.array([[0, 1, 0], [1, 0, 0], [0, 0, -1]]) \n",
    "joints_35 = panda_ik_31(Rmat_Ghover35.tolist(), p_Ghover_35.tolist(), model, max_iters=100)\n",
    "\n",
    "# The next few lines \"attach\" the block to the gripper.\n",
    "# This is not required for obtaining points in the \n",
    "# assignment, but is included for visualization purposes.\n",
    "# This will only \"look right\" if your answers up to this\n",
    "# point are correct.\n",
    "p_Bhover = np.empty(3)\n",
    "quat_Bhover = np.empty(4)\n",
    "# Compute the pose of the block int he world frame by \n",
    "# composing the pose of the gripper in the world frame\n",
    "# and the relative pose of the gripper w.r.t. the \n",
    "# block \n",
    "mujoco.mju_mulPose(p_Bhover, quat_Bhover, p_Ghover_35, quat_Ghover_35, p_GpickB_34, quat_GpickB_34)\n",
    "model.body(\"block\").pos = p_Bhover\n",
    "model.body(\"block\").quat = quat_Bhover\n",
    "\n",
    "## Do *not* modify the code below\n",
    "set_joint_positions(model, data, joints_35)\n",
    "render_state(model, data)\n",
    "ans_35 = data.qpos[7:14].tolist()\n"
   ]
  },
  {
   "cell_type": "markdown",
   "id": "0fbd1720",
   "metadata": {
    "deletable": false,
    "editable": false
   },
   "source": [
    "#### 3.6)\n",
    "\n",
    "Finally, we lower the gripper so that the block is at the target position\n",
    "\n",
    "_Points:_ 7"
   ]
  },
  {
   "cell_type": "code",
   "execution_count": 432,
   "id": "4a0396b0",
   "metadata": {
    "otter": {
     "tests": [
      "q3.6"
     ]
    },
    "tags": [
     "otter_answer_cell"
    ]
   },
   "outputs": [
    {
     "data": {
      "text/html": [
       "<table class=\"show_images\" style=\"border-spacing:0px;\"><tr><td style=\"padding:1px;\"><img width=\"640\" height=\"480\" style=\"image-rendering:auto; object-fit:cover;\" src=\"data:image/png;base64,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\"/></td></tr></table>"
      ],
      "text/plain": [
       "<IPython.core.display.HTML object>"
      ]
     },
     "metadata": {},
     "output_type": "display_data"
    }
   ],
   "source": [
    "p_GhoverGplace_36 = np.array([0, 0, 0.5])\n",
    "quat_GhoverGplace_36 = np.array([1., 0., 0., 0.])\n",
    "p_Gplace_36 = np.empty(3)\n",
    "quat_Gplace_36 = np.empty(4)\n",
    "mujoco.mju_mulPose(p_Gplace_36, quat_Gplace_36, p_Ghover_35, quat_Ghover_35, p_GhoverGplace_36, quat_GhoverGplace_36) \n",
    "\n",
    "Rmat_Gplace_36 = np.array([[0, 1, 0], [1, 0, 0], [0, 0, -1]]) \n",
    "joints_36 = panda_ik_31(Rmat_Gplace_36.tolist(), p_Gplace_36.tolist(), model, max_iters=100)\n",
    "\n",
    "# The next few lines \"attach\" the block to the gripper.\n",
    "# This is not required for obtaining points in the \n",
    "# assignment, but is included for visualization purposes.\n",
    "# This will only \"look right\" if your answers up to this\n",
    "# point are correct.\n",
    "p_Bplace = np.empty(3)\n",
    "quat_Bplace = np.empty(4)\n",
    "# Compute the pose of the block int he world frame by \n",
    "# composing the pose of the gripper in the world frame\n",
    "# and the relative pose of the gripper w.r.t. the \n",
    "# block \n",
    "mujoco.mju_mulPose(p_Bplace, quat_Bplace, p_Gplace_36, quat_Gplace_36, p_GpickB_34, quat_GpickB_34)\n",
    "model.body(\"block\").pos = p_Bplace\n",
    "model.body(\"block\").quat = quat_Bplace\n",
    "\n",
    "## Do *not* modify the code below\n",
    "set_joint_positions(model, data, joints_36)\n",
    "render_state(model, data)\n",
    "ans_36 = data.qpos[7:14].tolist()\n"
   ]
  },
  {
   "cell_type": "markdown",
   "id": "e916bdb8",
   "metadata": {
    "deletable": false,
    "editable": false
   },
   "source": [
    "## Submission\n",
    "\n",
    "Make sure you have run all cells in your notebook in order before running the cell below, so that all images/graphs appear in the output. The cell below will generate a zip file for you to submit. **Please save before exporting!**\n",
    "\n",
    "Fill out the answers to all questions and submit your file hw4.ipynb to the HW4 assignment on Gradescope. You are free to resubmit as many times as you wish."
   ]
  },
  {
   "cell_type": "code",
   "execution_count": 433,
   "id": "fd9c57d8",
   "metadata": {
    "deletable": false,
    "editable": false
   },
   "outputs": [
    {
     "name": "stdout",
     "output_type": "stream",
     "text": [
      "Running your submission against local test cases...\n",
      "\n",
      "\n",
      "Your submission received the following results when run against available test cases:\n",
      "\n",
      "\n"
     ]
    },
    {
     "data": {
      "text/html": [
       "\n",
       "                    <p>\n",
       "                        Your submission has been exported. Click\n",
       "                        <a href=\"HW4_FK-IK_2025_02_25T17_29_27_687314.zip\" download=\"HW4_FK-IK_2025_02_25T17_29_27_687314.zip\" target=\"_blank\">here</a> to download\n",
       "                        the zip file.\n",
       "                    </p>\n",
       "                "
      ],
      "text/plain": [
       "<IPython.core.display.HTML object>"
      ]
     },
     "metadata": {},
     "output_type": "display_data"
    }
   ],
   "source": [
    "# Save your notebook first, then run this cell to export your submission.\n",
    "grader.export(pdf=False, run_tests=True)"
   ]
  },
  {
   "cell_type": "markdown",
   "id": "e03fe78c",
   "metadata": {},
   "source": [
    " "
   ]
  }
 ],
 "metadata": {
  "kernelspec": {
   "display_name": "Python 3",
   "language": "python",
   "name": "python3"
  },
  "language_info": {
   "codemirror_mode": {
    "name": "ipython",
    "version": 3
   },
   "file_extension": ".py",
   "mimetype": "text/x-python",
   "name": "python",
   "nbconvert_exporter": "python",
   "pygments_lexer": "ipython3",
   "version": "3.12.9"
  },
  "otter": {
   "OK_FORMAT": true,
   "assignment_name": "hw4",
   "tests": {
    "q1.1": {
     "name": "q1.1",
     "points": 5,
     "suites": [
      {
       "cases": [],
       "scored": true,
       "setup": "",
       "teardown": "",
       "type": "doctest"
      }
     ]
    },
    "q1.2": {
     "name": "q1.2",
     "points": 5,
     "suites": [
      {
       "cases": [],
       "scored": true,
       "setup": "",
       "teardown": "",
       "type": "doctest"
      }
     ]
    },
    "q1.3": {
     "name": "q1.3",
     "points": 5,
     "suites": [
      {
       "cases": [],
       "scored": true,
       "setup": "",
       "teardown": "",
       "type": "doctest"
      }
     ]
    },
    "q1.4": {
     "name": "q1.4",
     "points": 5,
     "suites": [
      {
       "cases": [],
       "scored": true,
       "setup": "",
       "teardown": "",
       "type": "doctest"
      }
     ]
    },
    "q2.1": {
     "name": "q2.1",
     "points": 5,
     "suites": [
      {
       "cases": [],
       "scored": true,
       "setup": "",
       "teardown": "",
       "type": "doctest"
      }
     ]
    },
    "q2.1.1": {
     "name": "q2.1.1",
     "points": 2,
     "suites": [
      {
       "cases": [],
       "scored": true,
       "setup": "",
       "teardown": "",
       "type": "doctest"
      }
     ]
    },
    "q2.2.1": {
     "name": "q2.2.1",
     "points": 5,
     "suites": [
      {
       "cases": [],
       "scored": true,
       "setup": "",
       "teardown": "",
       "type": "doctest"
      }
     ]
    },
    "q2.2.2": {
     "name": "q2.2.2",
     "points": 3,
     "suites": [
      {
       "cases": [],
       "scored": true,
       "setup": "",
       "teardown": "",
       "type": "doctest"
      }
     ]
    },
    "q2.2.3": {
     "name": "q2.2.3",
     "points": 3,
     "suites": [
      {
       "cases": [],
       "scored": true,
       "setup": "",
       "teardown": "",
       "type": "doctest"
      }
     ]
    },
    "q2.2.4": {
     "name": "q2.2.4",
     "points": 10,
     "suites": [
      {
       "cases": [],
       "scored": true,
       "setup": "",
       "teardown": "",
       "type": "doctest"
      }
     ]
    },
    "q2.2.5": {
     "name": "q2.2.5",
     "points": 2,
     "suites": [
      {
       "cases": [],
       "scored": true,
       "setup": "",
       "teardown": "",
       "type": "doctest"
      }
     ]
    },
    "q3.1": {
     "name": "q3.1",
     "points": 15,
     "suites": [
      {
       "cases": [],
       "scored": true,
       "setup": "",
       "teardown": "",
       "type": "doctest"
      }
     ]
    },
    "q3.2": {
     "name": "q3.2",
     "points": 7,
     "suites": [
      {
       "cases": [],
       "scored": true,
       "setup": "",
       "teardown": "",
       "type": "doctest"
      }
     ]
    },
    "q3.3": {
     "name": "q3.3",
     "points": 7,
     "suites": [
      {
       "cases": [],
       "scored": true,
       "setup": "",
       "teardown": "",
       "type": "doctest"
      }
     ]
    },
    "q3.4": {
     "name": "q3.4",
     "points": 7,
     "suites": [
      {
       "cases": [],
       "scored": true,
       "setup": "",
       "teardown": "",
       "type": "doctest"
      }
     ]
    },
    "q3.5": {
     "name": "q3.5",
     "points": 7,
     "suites": [
      {
       "cases": [],
       "scored": true,
       "setup": "",
       "teardown": "",
       "type": "doctest"
      }
     ]
    },
    "q3.6": {
     "name": "q3.6",
     "points": 7,
     "suites": [
      {
       "cases": [],
       "scored": true,
       "setup": "",
       "teardown": "",
       "type": "doctest"
      }
     ]
    }
   }
  }
 },
 "nbformat": 4,
 "nbformat_minor": 5
}
