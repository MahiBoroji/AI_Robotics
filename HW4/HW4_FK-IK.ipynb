{
 "cells": [
  {
   "cell_type": "code",
   "execution_count": 17,
   "id": "c40c7976",
   "metadata": {
    "deletable": false,
    "editable": false
   },
   "outputs": [],
   "source": [
    "# Initialize Otter\n",
    "import otter\n",
    "grader = otter.Notebook(\"HW4_FK-IK.ipynb\")"
   ]
  },
  {
   "cell_type": "code",
   "execution_count": 18,
   "id": "fc69dc99",
   "metadata": {},
   "outputs": [],
   "source": [
    "import numpy as np\n",
    "from numpy import cos, sin, pi"
   ]
  },
  {
   "cell_type": "markdown",
   "id": "5add0ff4-27fa-4b8b-9429-77a6e70eb204",
   "metadata": {},
   "source": [
    "# FILL IN YOUR NAME AND THE NAME OF YOUR PEER (IF ANY) BELOW"
   ]
  },
  {
   "cell_type": "markdown",
   "id": "114b0f41-932d-43fb-96b0-a10ea759b6e4",
   "metadata": {},
   "source": [
    "**Name**: Maede Boroji\n",
    "\n",
    "**Peer**: Vahid Danesh\n",
    "\n",
    "## Collaboration policy\n",
    "Students are responsible for writing their own quizzes, assignments, and exams. For homework assignments, students are welcome (and encouraged) to discuss problems with one peer, **but each student must write their own assignment wrtieup and code individually**. The peer must be listed at the top of the writeup for each assignment. *Note: I will treat AI assistants as peers. That is, students are welcome to discuss problems with an AI assistant, but it is considered cheating to directly obtain an answer by querying the assistant. Please credit any AI assistant that you use.*"
   ]
  },
  {
   "cell_type": "markdown",
   "id": "3eeaa842-e2ff-4f0d-9447-6450943e8703",
   "metadata": {},
   "source": [
    "# Homework 4 -- Forward and inverse kinematics (100 pts)\n",
    "\n",
    "**Due:** Tuesday, February 25th, 2025 at 11:59 pm\n",
    "\n",
    "This homework builds on the material in the slides, Hauser Chapters 5 and 6 (on Forward Kinematics and Inverse Kinematics), and Tedrake chapter 3 (on Basic Pick-and-Place, especially 3.1 and 3.3).\n",
    "\n",
    "We will use Jupyter/Colab notebooks throughout the semester for writing code and generating assignment outputs.\n",
    "\n",
    "**Throughout this homework, please use 2D numpy arrays to represent all matrices. The autograder will use a precision of 3 decimal places.**\n",
    "\n",
    "\n",
    "## 1) Calculating Forward Kinematics (20 pts)\n",
    "For the following questions, you will derive a matrix expression for the pose of a coordinate frame attached to a robot's end-point (typically referred to as the \"end-effector\"), in terms of the variable joint configuration of the robot. In each case, it may be helpful to define intermediate frames such that defining each intermediate transformation matrix is easy. Your answers will by Python functions that receive as input the configuration of the joints and output the pose of the robot. **Unless otherwise stated, your functions may not call any external matrix multiplication function (e.g., `np.dot`).**"
   ]
  },
  {
   "cell_type": "markdown",
   "id": "9b077b00-bf16-44d7-988e-27cf380b2a3d",
   "metadata": {
    "deletable": false,
    "editable": false
   },
   "source": [
    "#### 1.1) Combined revolute and prismatic joint in 2D\n",
    "\n",
    "Consider a 2D robot with a single special revolute+prismatic joint, as depicted below:\n",
    "\n",
    "<img src=\"https://jorge-a-mendez.github.io/images/ese564s24/2d_simple_fk.png\" width=30%>\n",
    "\n",
    "(Note that this is just two joints attached at the same points.) The base link is aligned with the world frame, and the child link is attached to the special joint. The joint is displaced by a distance $d$ from the origin of the world frame in the $x$ direction, and rotated by $\\theta$ above the world's $x$ axis. The child link has a length of $l$, and the end-effector coordinate frame is attached at the end-point of the link, with the $x$ axis facing away from the link. \n",
    "\n",
    "Write a Python function that returns the pose of the end-effector frame in world coordinates as a function of $l$, $d$, and $\\theta$. \n",
    "\n",
    "_Points:_ 5"
   ]
  },
  {
   "cell_type": "code",
   "execution_count": 19,
   "id": "50976ae0-2716-41ae-8690-d6987cc61d83",
   "metadata": {
    "tags": [
     "otter_answer_cell"
    ]
   },
   "outputs": [],
   "source": [
    "# Your function should return a (2,2) numpy array for the rotation matrix and a (2,) numpy array for the position vector\n",
    "def X_G_11(l, d, theta):\n",
    "    R = np.array([[cos(theta), -sin(theta)],\n",
    "                  [sin(theta), cos(theta)] \n",
    "                  ])\n",
    "    P = np.array([l*cos(theta) + d,\n",
    "                  l*sin(theta)])\n",
    "    \n",
    "    return R,P"
   ]
  },
  {
   "cell_type": "markdown",
   "id": "fe970def",
   "metadata": {
    "deletable": false,
    "editable": false
   },
   "source": [
    "#### 1.2) Translate and rotate in 3D\n",
    "\n",
    "Consider the 3D mechanism depicted below:\n",
    "\n",
    "<img src=\"https://jorge-a-mendez.github.io/images/ese564s24/3d_simple_fk.png\" width=30%>\n",
    "\n",
    "The base link is attached to the world frame and connected to a revolute joint by a link of length $l_1$ in the $x$ direction. The revolute joint rotates about the $z$ axis by an angle $\\theta$, and is connected to the end effector by a link of length $l_2$ in the $x$ direction when $\\theta=0$. The end-effector frame is aligned with the world's when $\\theta=0$. The overall mechanism adds a height of $l_0$ in the world $z$ axis. \n",
    "\n",
    "Write a Python function that returns the pose of the end-effector frame in world coordinates as a function of $l_1$, $l_2$, $l_0$, and $\\theta$.  \n",
    "\n",
    "_Points:_ 5"
   ]
  },
  {
   "cell_type": "code",
   "execution_count": 20,
   "id": "0df1a49b",
   "metadata": {
    "tags": [
     "otter_answer_cell"
    ]
   },
   "outputs": [],
   "source": [
    "# Your function should return a (3,3) numpy array for the rotation matrix and a (3,) numpy array for the position vector\n",
    "def X_G_12(l0, l1, l2, theta):\n",
    "    R = np.array([[cos(theta), -sin(theta), 0],\n",
    "                  [sin(theta), cos(theta), 0],\n",
    "                  [0, 0, 1]])\n",
    "    P = np.array([l1+l2*cos(theta),\n",
    "                  l2*sin(theta),\n",
    "                  l0])\n",
    "    return R, P"
   ]
  },
  {
   "cell_type": "markdown",
   "id": "2d388cda",
   "metadata": {
    "deletable": false,
    "editable": false
   },
   "source": [
    "#### 1.3) Multi-joint 2D mechanism\n",
    "\n",
    "Consider a 2D robot with two prismatic and two revolute joints, as shown below:\n",
    "\n",
    "<img src=\"https://jorge-a-mendez.github.io/images/ese564s24/2d_complex_fk.png\" width=20%>\n",
    "\n",
    "The base link is aligned with the world frame. The first child link is translated by $d_1$ along the world's $x$ axis and has a height of $l_0$. The second child link rotates by $\\theta_1$ above the world $x$ axis. The third child link is translated along the second link's length by $d_2$ and has a height $l_1$. The fourth child link rotates above the axis defined by the second child link and has length $l_2$. The end-effector frame is at the end of the fourth child link and its $x$ axis points away from the link. \n",
    "\n",
    "Write a Python function that returns the pose of the end-effector frame in world coordinates as a function of $l_0$, $l_1$, $l_2$, $d_1$, $d_2$, $\\theta_1$, $\\theta_2$.\n",
    "\n",
    "_Points:_ 5"
   ]
  },
  {
   "cell_type": "code",
   "execution_count": 21,
   "id": "014886b1",
   "metadata": {
    "tags": [
     "otter_answer_cell"
    ]
   },
   "outputs": [],
   "source": [
    "# Your function should return a (2,2) numpy array for the rotation matrix and a (2,) numpy array for the position vector\n",
    "def X_G_13(l0, l1, l2, d1, d2, theta1, theta2):\n",
    "    R = np.array([[cos(theta1)*cos(theta2)-sin(theta1)*sin(theta2), -cos(theta1)*sin(theta2)-sin(theta1)*cos(theta2)],\n",
    "                  [sin(theta1)*cos(theta2)+cos(theta1)*sin(theta2), -sin(theta1)*sin(theta2)+cos(theta1)*cos(theta2)]])\n",
    "    P = np.array([l2*cos(theta2)*cos(theta1)-l2*sin(theta2)*sin(theta1)+d2*cos(theta1)-l1*sin(theta1)+d1,\n",
    "                  l2*cos(theta2)*sin(theta1)+l2*sin(theta2)*cos(theta1)+d2*sin(theta1)+l1*cos(theta1)+l0])\n",
    "    return R, P"
   ]
  },
  {
   "cell_type": "markdown",
   "id": "85defcf2",
   "metadata": {
    "deletable": false,
    "editable": false
   },
   "source": [
    "#### 1.4) Industrial robot\n",
    "\n",
    "Consider the 3D mechanism depicted below, which is a somewhat typical industrial robot arm:\n",
    "\n",
    "<img src=\"https://jorge-a-mendez.github.io/images/ese564s24/3d_complex_fk.png\" width=30%>\n",
    "\n",
    "The robot has six revolute joints, so it is a 6DoF arm. One interesting property of 6DoF arms is that they can achieve any 6D pose that is within reach---they are fully actuated. Write a Python function that calculates the pose of the end-effector, defined as the position of the point between the parallel fingers (i.e., at distance $L_6$ from joint 6) and the orientation of the frame at joint 6 as depicted in the figure. The world frame coincides with the depicted joint 1 frame when $q_0=0$. (Other frames depicted in the figure may be useful intermediate frames for your calculations).\n",
    "\n",
    "Write a Python function that computes the end-effector pose in world coordinates as a function of the joint angles $q_{1\\ldots6}$ and the link lengths $L_1$, $L_2$, $L_3$, and $L_6$. **Please don't do all calculations by hand. Instead, write the intermediate transforms in your code and use numpy's matrix multiplication functions (e.g., `np.dot`) to compute the overall transform.**\n",
    "\n",
    "_Points:_ 5"
   ]
  },
  {
   "cell_type": "code",
   "execution_count": 22,
   "id": "0cd9d322",
   "metadata": {
    "tags": [
     "otter_answer_cell"
    ]
   },
   "outputs": [],
   "source": [
    "# Your function should return a (3,3) numpy array for the rotation matrix and a (3,) numpy array for the position vector\n",
    "def X_G_14(l1, l2, l3, l6, q1, q2, q3, q4, q5, q6):\n",
    "    T_0_1 = np.array([[cos(q1), -sin(q1), 0, 0],\n",
    "                      [sin(q1), cos(q1), 0, 0],\n",
    "                      [0, 0, 1, 0],\n",
    "                      [0, 0, 0, 1]])\n",
    "    T_1_2 = np.array([[cos(q2), 0, sin(q2), 0],\n",
    "                      [0, 1, 0, 0],\n",
    "                      [-sin(q2), 0, cos(q2), l1],\n",
    "                      [0, 0, 0, 1]])\n",
    "    T_2_3 = np.array([[cos(q3), 0, sin(q3), l2],\n",
    "                      [0, 1, 0, 0],\n",
    "                      [-sin(q3), 0, cos(q3), 0],\n",
    "                      [0, 0, 0, 1]])\n",
    "    T_3_4 = np.array([[1, 0, 0, 0],\n",
    "                      [0, cos(q4), -sin(q4), 0],\n",
    "                      [0, sin(q4), cos(q4), 0],\n",
    "                      [0, 0, 0, 1]])\n",
    "    T_4_5 = np.array([[cos(q5), 0 , sin(q5), l3],\n",
    "                      [0, 1, 0, 0],\n",
    "                      [-sin(q5), 0, cos(q5), 0],\n",
    "                      [0, 0, 0, 1]])\n",
    "    T_5_6 = np.array([[1, 0, 0, 0],\n",
    "                      [0, cos(q6), -sin(q6), 0],\n",
    "                      [0, sin(q6), cos(q6), 0],\n",
    "                      [0, 0, 0, 1]])\n",
    "    T_6_7 = np.array([[1, 0, 0, l6],\n",
    "                      [0, 1, 0, 0],\n",
    "                      [0, 0, 1, 0],\n",
    "                      [0, 0, 0, 1]])\n",
    "    T_final = T_0_1 @ T_1_2 @ T_2_3 @ T_3_4 @ T_4_5 @ T_5_6 @ T_6_7\n",
    "    R = T_final[:3, :3]\n",
    "    P = T_final[:3, 3]\n",
    "    return R, P"
   ]
  },
  {
   "cell_type": "code",
   "execution_count": 23,
   "id": "bb46dc53",
   "metadata": {},
   "outputs": [
    {
     "data": {
      "text/plain": [
       "(array([[1., 0., 0.],\n",
       "        [0., 1., 0.],\n",
       "        [0., 0., 1.]]),\n",
       " array([11.,  0.,  1.]))"
      ]
     },
     "execution_count": 23,
     "metadata": {},
     "output_type": "execute_result"
    }
   ],
   "source": [
    "X_G_14(1, 2, 3, 6, 0, 0, 0, 0, 0, 0)"
   ]
  },
  {
   "cell_type": "markdown",
   "id": "ace0947b",
   "metadata": {},
   "source": [
    "## 2) Inverse kinematics in 2D (30)\n",
    "\n",
    "We're going to explore the nuances of analytical solutions to inverse kinematics by looking at the following problem.\n",
    "\n",
    "<img src=\"https://jorge-a-mendez.github.io/images/ese564s24/2RP_ik.png\" width=30%>\n",
    "\n",
    "The robot depicted above has two revolute joints and one prismatic joint. The first revolute joint connects the world frame to link 1, which has length $L_1$. At the end of link 1, there is another revolute joint connecting to link 2. The end point is a distance $d\\geq 0$ away from the second revolute joint, where $d$ is determined by the prismatic joint. \n",
    "\n",
    "We will solve the forward and inverse kinematics for this robot."
   ]
  },
  {
   "cell_type": "markdown",
   "id": "edda21e7",
   "metadata": {
    "deletable": false,
    "editable": false
   },
   "source": [
    "#### 2.1) Forward kinematics\n",
    "\n",
    "Find an expression for the forward kinematics of this robot. In other words, find the position and orientation for the tip of link 2 in the world frame located at joint 0 and pointing to the right. Assume that the coordinate frame at the tip is such that the $x$ axis points away from the tip. You are welcome to use any matrix multiplication function, but it may be useful to work out the expression by hand for the next question. Express your answer as a function of $L_1$, $d$, $\\theta_1$, and $\\theta_2$.\n",
    "\n",
    "_Points:_ 5"
   ]
  },
  {
   "cell_type": "code",
   "execution_count": 24,
   "id": "0d5dc27e",
   "metadata": {
    "tags": [
     "otter_answer_cell"
    ]
   },
   "outputs": [],
   "source": [
    "# Your function should return a (2,2) numpy array for the rotation matrix and a (2,) numpy array for the position vector\n",
    "def X_G_21(l1, theta1, theta2, d):\n",
    "    R = np.array([[cos(theta1+theta2), -sin(theta1+theta2)],\n",
    "                  [sin(theta1+theta2), cos(theta1+theta2)]])\n",
    "    P = np.array([l1*cos(theta1)+d*cos(theta1+theta2),\n",
    "                  l1*sin(theta1)+d*sin(theta1+theta2)])\n",
    "    return R, P"
   ]
  },
  {
   "cell_type": "markdown",
   "id": "404ad0f2",
   "metadata": {
    "deletable": false,
    "editable": false
   },
   "source": [
    "$2\\times2$ rotation matrices can be parameterized by a single number: the counter-clockwise angle of rotation. What is the angle of rotation for the orientation of the tip of link 2? Express your answer as a function of $L_1$, $d$, $\\theta_1$, and $\\theta_2$. Your answer should be an angle in $[0, 2\\pi]$.\n",
    "\n",
    "*Hint1: The angle-sum identities may come in handy: $$\\begin{aligned}\n",
    "    \\sin(\\alpha+\\beta) &= \\sin\\alpha\\cos\\beta + \\cos\\alpha\\sin\\beta\\\\\n",
    "    \\cos(\\alpha+\\beta) &= \\cos\\alpha\\cos\\beta - \\sin\\alpha\\sin\\beta\n",
    "\\end{aligned}$$*\n",
    "*Hint2: you may find the function `np.mod` useful.*\n",
    "\n",
    "_Points:_ 2"
   ]
  },
  {
   "cell_type": "code",
   "execution_count": 25,
   "id": "eb80577e",
   "metadata": {
    "tags": [
     "otter_answer_cell"
    ]
   },
   "outputs": [],
   "source": [
    "# Your function should return a (2,2) numpy array for the rotation matrix and a (2,) numpy array for the position vector\n",
    "def theta_G_211(l1, theta1, theta2, d):\n",
    "    \n",
    "    theta_G = theta1+theta2\n",
    "    # Ensure the angle is in the range [0, 2π)\n",
    "    theta_G = np.mod(theta_G, 2 * np.pi)\n",
    "    return theta_G"
   ]
  },
  {
   "cell_type": "markdown",
   "id": "8eaf4c8e",
   "metadata": {},
   "source": [
    "#### 2.2) Inverse kinematics\n",
    "\n",
    "We will now find an expression for the inverse kinematics of this mechanism. Given a target $x, y, \\theta$ pose, our goal is to find the joint coordinates $\\theta_1, \\theta_2, d$ for the robot. \n",
    "\n",
    "Start by deriving an expression for all possible solutions to the IK problem with $\\theta_1,\\theta_2\\in[0, 2\\pi)$. For now, ignore the constraint $d\\geq0$. \n",
    "\n",
    "*Hint: Plug your expression from 2.1.1 for $\\theta$ into your expressions for $x$ and $y$ to obtain a system of 2 trigonometric equations. Manipulate the equations until you find one equation that involves a term of the form $\\cos A\\sin B - \\sin A\\cos B$, and use the identity $\\cos A\\sin B - \\sin A\\cos B = \\sin(B-A)$.*"
   ]
  },
  {
   "cell_type": "markdown",
   "id": "1fcda4c7",
   "metadata": {
    "deletable": false,
    "editable": false
   },
   "source": [
    "##### 2.2.1) \n",
    "\n",
    "As we saw in class, there are often IK problems (in this case, choices of target $x,y,\\theta$) that cannot be solved for a given system. Inspect your expression for the IK and write a Python function that determines whether a given IK problem for this robot has a solution, ignoring the constraint $d\\geq 0$.\n",
    "\n",
    "*Hint: this can be written as a simple one-line check.*\n",
    "\n",
    "_Points:_ 5"
   ]
  },
  {
   "cell_type": "code",
   "execution_count": 26,
   "id": "aa29e16c",
   "metadata": {
    "tags": [
     "otter_answer_cell"
    ]
   },
   "outputs": [],
   "source": [
    "# Your function should return True if there is a valid solution to the IK problem, and False otherwise\n",
    "# Note: this function should not return the solution to the IK, only whether a solution exists\n",
    "def has_IK_221(l1, x, y, theta):\n",
    "    check = (x * np.sin(theta) - y * np.cos(theta)) / l1\n",
    "\n",
    "    # Check if the right-hand side is within the valid range [-1, 1]\n",
    "    return -1 <= check <= 1"
   ]
  },
  {
   "cell_type": "markdown",
   "id": "370aa47a",
   "metadata": {
    "deletable": false,
    "editable": false
   },
   "source": [
    "##### 2.2.2) \n",
    "\n",
    "We also saw that IK problems often have infinitely many solutions. Are there problems for which this system has infinitely many solutions?\n",
    "\n",
    "\n",
    "_Points:_ 3"
   ]
  },
  {
   "cell_type": "code",
   "execution_count": 27,
   "id": "28be4401",
   "metadata": {
    "tags": [
     "otter_answer_cell"
    ]
   },
   "outputs": [],
   "source": [
    "# set ans_222 to True if there are problems with infinitely many solutions for this system, and False otherwise\n",
    "ans_222 = False"
   ]
  },
  {
   "cell_type": "markdown",
   "id": "4271f50c",
   "metadata": {
    "deletable": false,
    "editable": false
   },
   "source": [
    "##### 2.2.3) \n",
    "\n",
    "Based on your answers so far, how many solutions can IK problems for this system have? Return a list with all possible numbers of solutions (e.g., `[10, 15, 167]` if the problem can have 10, 15, or 167 solutions)\n",
    "\n",
    "_Points:_ 3"
   ]
  },
  {
   "cell_type": "code",
   "execution_count": 28,
   "id": "10cb6652",
   "metadata": {
    "tags": [
     "otter_answer_cell"
    ]
   },
   "outputs": [],
   "source": [
    "# Express your answer as a list of all possible numbers of solutions the system could have\n",
    "ans_223 = [0, 1, 2]"
   ]
  },
  {
   "cell_type": "markdown",
   "id": "f16bb374",
   "metadata": {
    "deletable": false,
    "editable": false
   },
   "source": [
    "##### 2.2.4) \n",
    "\n",
    "Write a Python function that implements the IK for this planar robot mechanism. The return value should be a `list` of solutions, where each solution is a tuple `(theta1, theta2, d)` (in that order). If there are no solutions, the list should be empty. The list should not contain repeated solutions (i.e., if you compute two solutions and they turn out to be equivalent, then you should return only one). To check whether two numbers are equivalent, use `np.isclose(a, b)` instead of `a == b`, to account for numerical errors.\n",
    "\n",
    "You should leverage your function `has_IK_221` to avoid computing invalid solutions. Additionally, you should \"filter out\" (i.e., not return) any solutions where $d < 0$. Make sure that both `theta1` and `theta2` are in $[0, 2\\pi)$. \n",
    "\n",
    "_Points:_ 10"
   ]
  },
  {
   "cell_type": "code",
   "execution_count": 29,
   "id": "8d955087",
   "metadata": {
    "tags": [
     "otter_answer_cell"
    ]
   },
   "outputs": [],
   "source": [
    "# Your function should return a list of all possible IK solutions, without repetitions\n",
    "def IK_224(l1, x, y, theta):\n",
    "\n",
    "    # Check if a solution exists\n",
    "    if not has_IK_221(l1, x, y, theta):\n",
    "        return []\n",
    "\n",
    "    frac = (x * sin(theta) - y * cos(theta)) / l1 # this is equal to sin(theta2)\n",
    "    theta2_1 = np.arcsin(frac)\n",
    "    theta2_1 = np.mod(theta2_1, 2*pi)  # Wrap to [0, 2pi)\n",
    "    theta2_2 = theta2_1 + pi/2\n",
    "    theta2_2 = np.mod(theta2_2, 2*pi)  # Wrap to [0, 2pi)\n",
    "    \n",
    "    theta1_1 = theta - theta2_1\n",
    "    theta1_1 = np.mod(theta1_1, 2*pi)  # Wrap to [0, 2pi)\n",
    "    theta1_2 = theta - theta2_2\n",
    "    theta1_2 = np.mod(theta1_2, 2*pi)  # Wrap to [0, 2pi)\n",
    "    \n",
    "    d1 = (x - l1 * cos(theta1_1)) / cos(theta)\n",
    "    d2 = (x - l1 * cos(theta1_2)) / cos(theta)\n",
    "    \n",
    "    solutions = []\n",
    "    if d1 >= 0:\n",
    "        solutions.append((theta1_1, theta2_1, d1))\n",
    "    if d2 >= 0 and not np.isclose(d1, d2):  # Avoid duplicates\n",
    "        solutions.append((theta1_2, theta2_2, d2))\n",
    "\n",
    "    return solutions"
   ]
  },
  {
   "cell_type": "markdown",
   "id": "3dc37d1e",
   "metadata": {
    "deletable": false,
    "editable": false
   },
   "source": [
    "##### 2.2.5) \n",
    "\n",
    "Give an example of an IK problem for this mechanism that has only one solution using $L_1=1$.\n",
    "\n",
    "_Points:_ 2"
   ]
  },
  {
   "cell_type": "code",
   "execution_count": 30,
   "id": "88980783",
   "metadata": {
    "tags": [
     "otter_answer_cell"
    ]
   },
   "outputs": [
    {
     "data": {
      "text/plain": [
       "[(np.float64(0.7853981633974483),\n",
       "  np.float64(0.0),\n",
       "  np.float64(1.1213203435596424))]"
      ]
     },
     "execution_count": 30,
     "metadata": {},
     "output_type": "execute_result"
    }
   ],
   "source": [
    "# Express your answer as a tuple (x, y, theta)\n",
    "xyth_225 = IK_224(1,1.5, 1.5, pi/4)\n",
    "xyth_225"
   ]
  },
  {
   "cell_type": "markdown",
   "id": "8ce087b4",
   "metadata": {},
   "source": [
    "## 3) IK in practice (50 pts)\n",
    "\n",
    "We are now going to use IK as you would in practice. Our goal will be to repeat the pick-place steps from HW 3, but this time setting the joint positions of the robot instead of a floating gripper. For that, we will use the popular `ikfast` tool, developed by MoveIt. `ikfast` finds analytical solutions to 6D-pose IK problems for arbitrary 6-DoF arms. While working directly with `ikfast` to create IK solutions for a custom robot is non-trivial and requires a bit of black magic, there are a number of Python bindings available for common robots---including our Franka Panda robot.\n",
    "\n",
    "To install the Python bindings for running `ikfast` for the Panda, and initialize our MuJoCo model, run the following code cell.\n"
   ]
  },
  {
   "cell_type": "code",
   "execution_count": 31,
   "id": "65ebe2aa",
   "metadata": {},
   "outputs": [
    {
     "name": "stdout",
     "output_type": "stream",
     "text": [
      "ikfast_panda_arm.cpp\n",
      "   Creating library build\\temp.win-amd64-cpython-312\\Release\\ikfast_panda_arm.cp312-win_amd64.lib and object build\\temp.win-amd64-cpython-312\\Release\\ikfast_panda_arm.cp312-win_amd64.exp\n",
      "Generating code\n",
      "Finished generating code\n",
      "\n",
      "ikfast module ikfast_panda_arm imported successful\n"
     ]
    },
    {
     "data": {
      "text/html": [
       "<table class=\"show_images\" style=\"border-spacing:0px;\"><tr><td style=\"padding:1px;\"><img width=\"640\" height=\"480\" style=\"image-rendering:auto; object-fit:cover;\" src=\"data:image/png;base64,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\"/></td></tr></table>"
      ],
      "text/plain": [
       "<IPython.core.display.HTML object>"
      ]
     },
     "metadata": {},
     "output_type": "display_data"
    }
   ],
   "source": [
    "!cd ikfast && python setup.py && cd ..\n",
    "import mujoco\n",
    "import mediapy as media\n",
    "import os\n",
    "import glfw\n",
    "import sys\n",
    "sys.path.append('ikfast')\n",
    "from ikfast import ikfast_panda_arm as ikfast\n",
    "\n",
    "\n",
    "def has_valid_renderer():\n",
    "    \"\"\"Checks if OpenGL can be initialized successfully.\"\"\"\n",
    "    # Try initializing GLFW\n",
    "    if not glfw.init():\n",
    "        print(\"GLFW initialization failed. No valid renderer.\")\n",
    "        return False\n",
    "    \n",
    "    # Try creating a hidden window to test OpenGL context creation\n",
    "    window = glfw.create_window(640, 480, \"Renderer Test\", None, None)\n",
    "    if not window:\n",
    "        print(\"GLFW could not create an OpenGL context. No valid renderer.\")\n",
    "        glfw.terminate()\n",
    "        return False\n",
    "    \n",
    "    glfw.make_context_current(window)\n",
    "    renderer_available = True  # If we reach this point, rendering should work\n",
    "\n",
    "    # Cleanup\n",
    "    glfw.destroy_window(window)\n",
    "    glfw.terminate()\n",
    "    return renderer_available\n",
    "\n",
    "def render_state(model, data):\n",
    "    if not has_valid_renderer():\n",
    "        print(\"Error rendering the scene. Make sure you have a valid OpenGL installation.\")\n",
    "        return\n",
    "\n",
    "    mujoco.mj_forward(model, data)\n",
    "    with mujoco.Renderer(model, height=480, width=640) as renderer:\n",
    "        renderer.update_scene(data, \"front_view\")  # Ensure scene is updated with final simulation state\n",
    "        media.show_image(renderer.render())\n",
    "\n",
    "def set_joint_positions(model, data, joints):\n",
    "    data.qpos[7:14] = joints\n",
    "    data.qpos[14:16] = [0.04, 0.04]\n",
    "    \n",
    "# Define the MJCF path and mesh directory\n",
    "mjcf_path = 'assets/Panda/panda.mjcf'\n",
    "mesh_dir = 'assets/Panda/meshes/collision/'\n",
    "\n",
    "# Load mesh files into a dictionary\n",
    "assets = {}\n",
    "for file_name in os.listdir(mesh_dir):\n",
    "    file_path = os.path.join(mesh_dir, file_name)\n",
    "    with open(file_path, 'rb') as f:\n",
    "        assets[f'meshes/collision/{file_name}'] = f.read()\n",
    "\n",
    "# Load the MuJoCo model\n",
    "model = mujoco.MjModel.from_xml_path(mjcf_path, assets=assets)\n",
    "data = mujoco.MjData(model)\n",
    "\n",
    "# Call mj_forward to initialize the state\n",
    "mujoco.mj_forward(model, data)\n",
    "\n",
    "# Render the scene\n",
    "render_state(model, data)"
   ]
  },
  {
   "cell_type": "markdown",
   "id": "cc183806",
   "metadata": {},
   "source": [
    "One caveat for using `ikfast` for the Panda is that analytical solutions can only be found for 6-DoF arms, but the Panda is a 7-DoF arm. One common way to deal with this issue is to treat one of the joints as \"free\", set the value of this joint ourselves, and then run `ikfast` with that fixed joint value. While there are better ways to do this, a simple approach is to sample the value of the free joint uniformly at random from its range. \n",
    "\n",
    "Note that, compared to the coordinate frame used last week, the coordinate frame used this week is shifted so that the base of the Panda arm is at the world origin. This doesn't change anything conceptually, but makes it easier to work with `ikfast`. "
   ]
  },
  {
   "cell_type": "markdown",
   "id": "78cd248e",
   "metadata": {
    "deletable": false,
    "editable": false
   },
   "source": [
    "##### 3.1)\n",
    "\n",
    "Write a Python function that implements the following algorithm:\n",
    "- Given a target pose $X^G$\n",
    "- for a max number of steps:\n",
    "    - pick a value of the free joint uniformly at random\n",
    "    - call `ikfast` to find configurations for the remaining joints \n",
    "    - if any solution returned by `ikfast` satisfies all joint limits, return that solution\n",
    "- if after the max number steps you have found no solutions, return None\n",
    "\n",
    "`ikfast` has two functions:\n",
    "- `ikfast.get_ik(R, p, free)`\n",
    "    - `R` is the rotation matrix $R^G$, expressed as a 3x3 nested Python list (you can use `np_array.tolist()`)\n",
    "    - `p` is the position vector $p^G$, expressed as a length-3 Python list\n",
    "    - `free` is a list containing the value of the free joints. For the panda, there is only one free joint, so this is a length-1 list\n",
    "    - Return: a list of solutions, where each solution is a list of joint positions for joints 1...7. If no solution is found, then returns `None`\n",
    "- `ikfast.get_fk(joints)` -- this is useful for debugging!\n",
    "    - `joints` is a list of joint positions for joints 1...7\n",
    "    - Return: a list of 2 elements. the first element is a 3-element list representing the gripper position, and the second element is a 3x3 nested list representing the gripper rotation matrix\n",
    "\n",
    "\n",
    "Here are some pointers on how to leverage MuJoCo for this part of the assignment:\n",
    "- You can get the `id` of a joint by running `mujoco.mj_name2id(model, mujoco.mjtObj.mjOBJ_JOINT, <joint_name>)`\n",
    "    - The Panda joint names are `panda_joint0` to `panda_joint7`. `joint7` is the free joint in `ikfast`\n",
    "- You can get the joint limits for a given joint id by getting `model.jnt_range[id, 0]` (for the min) and `model.jnt_range[id, 1]` for the max\n",
    "\n",
    "_Points:_ 15"
   ]
  },
  {
   "cell_type": "code",
   "execution_count": 32,
   "id": "3187f8c9",
   "metadata": {
    "tags": [
     "otter_answer_cell"
    ]
   },
   "outputs": [],
   "source": [
    "def panda_ik_31(R_G, p_G, model, max_iters=100):\n",
    "    \"\"\" Assume that R_G and p_G are the rotation matrix and position vector of the \n",
    "    end effector in the world frame, expressed as the list objects expected by ikfast.get_ik\n",
    "    \"\"\"\n",
    "    joint_ids = ...\n",
    "    free_joint_min = ...\n",
    "    free_joint_max = ...\n",
    "    for _ in range(max_iters):\n",
    "        free_joint = ...\n",
    "        ik_solutions = ...\n",
    "        # Check if the solution is within the joint limits \n",
    "        # and return the first valid solution\n",
    "        ...\n",
    "    return None\n"
   ]
  },
  {
   "cell_type": "markdown",
   "id": "b74f6e33",
   "metadata": {
    "deletable": false,
    "editable": false
   },
   "source": [
    "### 3.2) \n",
    "\n",
    "Now we're ready to pick-and-place with a full Panda arm.\n",
    "\n",
    "Start by finding the block pose and setting the gripper to a floating configuration, 0.5 units above the block on the $z$ axis of the block, and oriented as: $x$ axis aligned with block's $y$ axis, $y$ axis aligned with block's $x$ axis, and $z$ axis aligned with block's $-z$ axis.\n",
    "\n",
    "_Points:_ 7"
   ]
  },
  {
   "cell_type": "code",
   "execution_count": 33,
   "id": "e619747e",
   "metadata": {
    "tags": [
     "otter_answer_cell"
    ]
   },
   "outputs": [
    {
     "ename": "TypeError",
     "evalue": "float() argument must be a string or a real number, not 'ellipsis'",
     "output_type": "error",
     "traceback": [
      "\u001b[1;31m---------------------------------------------------------------------------\u001b[0m",
      "\u001b[1;31mTypeError\u001b[0m                                 Traceback (most recent call last)",
      "Cell \u001b[1;32mIn[33], line 12\u001b[0m\n\u001b[0;32m      9\u001b[0m joints_32 \u001b[38;5;241m=\u001b[39m \u001b[38;5;241m.\u001b[39m\u001b[38;5;241m.\u001b[39m\u001b[38;5;241m.\u001b[39m\n\u001b[0;32m     11\u001b[0m \u001b[38;5;66;03m## Do *not* modify the code below\u001b[39;00m\n\u001b[1;32m---> 12\u001b[0m \u001b[43mset_joint_positions\u001b[49m\u001b[43m(\u001b[49m\u001b[43mmodel\u001b[49m\u001b[43m,\u001b[49m\u001b[43m \u001b[49m\u001b[43mdata\u001b[49m\u001b[43m,\u001b[49m\u001b[43m \u001b[49m\u001b[43mjoints_32\u001b[49m\u001b[43m)\u001b[49m\n\u001b[0;32m     13\u001b[0m render_state(model, data)\n\u001b[0;32m     14\u001b[0m ans_32 \u001b[38;5;241m=\u001b[39m data\u001b[38;5;241m.\u001b[39mqpos[\u001b[38;5;241m7\u001b[39m:\u001b[38;5;241m14\u001b[39m]\u001b[38;5;241m.\u001b[39mtolist()\n",
      "Cell \u001b[1;32mIn[31], line 44\u001b[0m, in \u001b[0;36mset_joint_positions\u001b[1;34m(model, data, joints)\u001b[0m\n\u001b[0;32m     43\u001b[0m \u001b[38;5;28;01mdef\u001b[39;00m \u001b[38;5;21mset_joint_positions\u001b[39m(model, data, joints):\n\u001b[1;32m---> 44\u001b[0m     \u001b[43mdata\u001b[49m\u001b[38;5;241;43m.\u001b[39;49m\u001b[43mqpos\u001b[49m\u001b[43m[\u001b[49m\u001b[38;5;241;43m7\u001b[39;49m\u001b[43m:\u001b[49m\u001b[38;5;241;43m14\u001b[39;49m\u001b[43m]\u001b[49m \u001b[38;5;241m=\u001b[39m joints\n\u001b[0;32m     45\u001b[0m     data\u001b[38;5;241m.\u001b[39mqpos[\u001b[38;5;241m14\u001b[39m:\u001b[38;5;241m16\u001b[39m] \u001b[38;5;241m=\u001b[39m [\u001b[38;5;241m0.04\u001b[39m, \u001b[38;5;241m0.04\u001b[39m]\n",
      "\u001b[1;31mTypeError\u001b[0m: float() argument must be a string or a real number, not 'ellipsis'"
     ]
    }
   ],
   "source": [
    "p_B_32 = ...\n",
    "quat_B_32 = ...\n",
    "p_BGfloat_32 = ...\n",
    "quat_BGfloat_32 = ...\n",
    "p_Gfloat_32 = ...\n",
    "quat_Gfloat_32 = ...\n",
    "Rmat_Gfloat_32 = ...\n",
    "\n",
    "joints_32 = ...\n",
    "\n",
    "## Do *not* modify the code below\n",
    "set_joint_positions(model, data, joints_32)\n",
    "render_state(model, data)\n",
    "ans_32 = data.qpos[7:14].tolist()"
   ]
  },
  {
   "cell_type": "markdown",
   "id": "0709a627",
   "metadata": {
    "deletable": false,
    "editable": false
   },
   "source": [
    "#### 3.3)\n",
    "Now let's set the gripper to the \"picking\" configuration, 0.12 units above the block, with the same orientation\n",
    "\n",
    "_Points:_ 7"
   ]
  },
  {
   "cell_type": "code",
   "execution_count": null,
   "id": "05d194e9",
   "metadata": {
    "otter": {
     "tests": [
      "q3.3"
     ]
    },
    "tags": [
     "otter_answer_cell"
    ]
   },
   "outputs": [],
   "source": [
    "p_GfloatGpick_33 = ...\n",
    "quat_GfloatGpick_33 = ...\n",
    "p_Gpick_33 = ...\n",
    "quat_Gpick_33 = ...\n",
    "Rmat_Gpick33 = ...\n",
    "joints_33 = ...\n",
    "\n",
    "## Do *not* modify the code below\n",
    "set_joint_positions(model, data, joints_33)\n",
    "render_state(model, data)\n",
    "ans_33 = data.qpos[7:14].tolist()\n"
   ]
  },
  {
   "cell_type": "markdown",
   "id": "19240d2b",
   "metadata": {
    "deletable": false,
    "editable": false
   },
   "source": [
    "#### 3.4)\n",
    "\n",
    "Compute the pose of the block relative to the gripper while the block is held. Then, set the position and orientation of the gripper to match the previous floating configuration.\n",
    "\n",
    "_Points:_ 7"
   ]
  },
  {
   "cell_type": "code",
   "execution_count": null,
   "id": "43902c4a",
   "metadata": {
    "otter": {
     "tests": [
      "q3.4"
     ]
    },
    "tags": [
     "otter_answer_cell"
    ]
   },
   "outputs": [],
   "source": [
    "p_BGpick_34 = ...\n",
    "quat_BGpick_34 = ...\n",
    "\n",
    "joints_34 = ...\n",
    "\n",
    "# The next few lines \"attach\" the block to the gripper.\n",
    "# This is not required for obtaining points in the \n",
    "# assignment, but is included for visualization purposes.\n",
    "# This will only \"look right\" if your answers up to this\n",
    "# point are correct.\n",
    "p_GpickB_34 = np.empty(3)\n",
    "quat_GpickB_34 = np.empty(4)\n",
    "mujoco.mju_negPose(p_GpickB_34, quat_GpickB_34, p_BGpick_34, quat_BGpick_34)\n",
    "\n",
    "p_Bfloat = np.empty(3)\n",
    "quat_Bfloat = np.empty(4)\n",
    "# Compute the pose of the block int he world frame by \n",
    "# composing the pose of the gripper in the world frame\n",
    "# and the relative pose of the gripper w.r.t. the \n",
    "# block \n",
    "mujoco.mju_mulPose(p_Bfloat, quat_Bfloat, p_Gfloat_32, quat_Gfloat_32, p_GpickB_34, quat_GpickB_34)\n",
    "model.body(\"block\").pos = p_Bfloat\n",
    "model.body(\"block\").quat = quat_Bfloat\n",
    "\n",
    "## Do *not* modify the code below\n",
    "set_joint_positions(model, data, joints_34)\n",
    "render_state(model, data)\n",
    "ans_34 = data.qpos[7:14].tolist()\n"
   ]
  },
  {
   "cell_type": "markdown",
   "id": "ede70035",
   "metadata": {
    "deletable": false,
    "editable": false
   },
   "source": [
    "#### 3.5)\n",
    "Now let's move the gripper so that the block hovers above its final desired orientation. We want the block to end up at position $(0.4, -0.4, 0.03)$ aligned with the world frame. In this stage, we want to move the gripper so that the block is $0.5$ units above its target position in the $z$ axis.\n",
    "\n",
    "_Points:_ 7"
   ]
  },
  {
   "cell_type": "code",
   "execution_count": null,
   "id": "45ec2a99",
   "metadata": {
    "otter": {
     "tests": [
      "q3.5"
     ]
    },
    "tags": [
     "otter_answer_cell"
    ]
   },
   "outputs": [],
   "source": [
    "p_Bhover_35 = ...\n",
    "quat_Bhover_35 = ...\n",
    "p_Ghover_35 = ...\n",
    "quat_Ghover_35 = ...\n",
    "Rmat_Ghover35 = ...\n",
    "joints_35 = ...\n",
    "\n",
    "# The next few lines \"attach\" the block to the gripper.\n",
    "# This is not required for obtaining points in the \n",
    "# assignment, but is included for visualization purposes.\n",
    "# This will only \"look right\" if your answers up to this\n",
    "# point are correct.\n",
    "p_Bhover = np.empty(3)\n",
    "quat_Bhover = np.empty(4)\n",
    "# Compute the pose of the block int he world frame by \n",
    "# composing the pose of the gripper in the world frame\n",
    "# and the relative pose of the gripper w.r.t. the \n",
    "# block \n",
    "mujoco.mju_mulPose(p_Bhover, quat_Bhover, p_Ghover_35, quat_Ghover_35, p_GpickB_34, quat_GpickB_34)\n",
    "model.body(\"block\").pos = p_Bhover\n",
    "model.body(\"block\").quat = quat_Bhover\n",
    "\n",
    "## Do *not* modify the code below\n",
    "set_joint_positions(model, data, joints_35)\n",
    "render_state(model, data)\n",
    "ans_35 = data.qpos[7:14].tolist()\n"
   ]
  },
  {
   "cell_type": "markdown",
   "id": "0fbd1720",
   "metadata": {
    "deletable": false,
    "editable": false
   },
   "source": [
    "#### 3.6)\n",
    "\n",
    "Finally, we lower the gripper so that the block is at the target position\n",
    "\n",
    "_Points:_ 7"
   ]
  },
  {
   "cell_type": "code",
   "execution_count": null,
   "id": "4a0396b0",
   "metadata": {
    "otter": {
     "tests": [
      "q3.6"
     ]
    },
    "tags": [
     "otter_answer_cell"
    ]
   },
   "outputs": [],
   "source": [
    "p_GhoverGplace_36 = ...\n",
    "quat_GhoverGplace_36 = ...\n",
    "p_Gplace_36 = ...\n",
    "quat_Gplace_36 = ...\n",
    "Rmat_Gplace_36 = ...\n",
    "joints_36 = ...\n",
    "\n",
    "# The next few lines \"attach\" the block to the gripper.\n",
    "# This is not required for obtaining points in the \n",
    "# assignment, but is included for visualization purposes.\n",
    "# This will only \"look right\" if your answers up to this\n",
    "# point are correct.\n",
    "p_Bplace = np.empty(3)\n",
    "quat_Bplace = np.empty(4)\n",
    "# Compute the pose of the block int he world frame by \n",
    "# composing the pose of the gripper in the world frame\n",
    "# and the relative pose of the gripper w.r.t. the \n",
    "# block \n",
    "mujoco.mju_mulPose(p_Bplace, quat_Bplace, p_Gplace_36, quat_Gplace_36, p_GpickB_34, quat_GpickB_34)\n",
    "model.body(\"block\").pos = p_Bplace\n",
    "model.body(\"block\").quat = quat_Bplace\n",
    "\n",
    "## Do *not* modify the code below\n",
    "set_joint_positions(model, data, joints_36)\n",
    "render_state(model, data)\n",
    "ans_36 = data.qpos[7:14].tolist()\n"
   ]
  },
  {
   "cell_type": "markdown",
   "id": "e916bdb8",
   "metadata": {
    "deletable": false,
    "editable": false
   },
   "source": [
    "## Submission\n",
    "\n",
    "Make sure you have run all cells in your notebook in order before running the cell below, so that all images/graphs appear in the output. The cell below will generate a zip file for you to submit. **Please save before exporting!**\n",
    "\n",
    "Fill out the answers to all questions and submit your file hw4.ipynb to the HW4 assignment on Gradescope. You are free to resubmit as many times as you wish."
   ]
  },
  {
   "cell_type": "code",
   "execution_count": null,
   "id": "fd9c57d8",
   "metadata": {
    "deletable": false,
    "editable": false
   },
   "outputs": [
    {
     "name": "stdout",
     "output_type": "stream",
     "text": [
      "Running your submission against local test cases...\n",
      "\n",
      "\n",
      "Your submission received the following results when run against available test cases:\n",
      "\n",
      "\n"
     ]
    },
    {
     "data": {
      "text/html": [
       "\n",
       "                    <p>\n",
       "                        Your submission has been exported. Click\n",
       "                        <a href=\"HW4_FK-IK_2025_02_25T11_43_51_574082.zip\" download=\"HW4_FK-IK_2025_02_25T11_43_51_574082.zip\" target=\"_blank\">here</a> to download\n",
       "                        the zip file.\n",
       "                    </p>\n",
       "                "
      ],
      "text/plain": [
       "<IPython.core.display.HTML object>"
      ]
     },
     "metadata": {},
     "output_type": "display_data"
    }
   ],
   "source": [
    "# Save your notebook first, then run this cell to export your submission.\n",
    "grader.export(pdf=False, run_tests=True)"
   ]
  },
  {
   "cell_type": "markdown",
   "id": "e03fe78c",
   "metadata": {},
   "source": [
    " "
   ]
  }
 ],
 "metadata": {
  "kernelspec": {
   "display_name": "Python 3",
   "language": "python",
   "name": "python3"
  },
  "language_info": {
   "codemirror_mode": {
    "name": "ipython",
    "version": 3
   },
   "file_extension": ".py",
   "mimetype": "text/x-python",
   "name": "python",
   "nbconvert_exporter": "python",
   "pygments_lexer": "ipython3",
   "version": "3.12.9"
  },
  "otter": {
   "OK_FORMAT": true,
   "assignment_name": "hw4",
   "tests": {
    "q1.1": {
     "name": "q1.1",
     "points": 5,
     "suites": [
      {
       "cases": [],
       "scored": true,
       "setup": "",
       "teardown": "",
       "type": "doctest"
      }
     ]
    },
    "q1.2": {
     "name": "q1.2",
     "points": 5,
     "suites": [
      {
       "cases": [],
       "scored": true,
       "setup": "",
       "teardown": "",
       "type": "doctest"
      }
     ]
    },
    "q1.3": {
     "name": "q1.3",
     "points": 5,
     "suites": [
      {
       "cases": [],
       "scored": true,
       "setup": "",
       "teardown": "",
       "type": "doctest"
      }
     ]
    },
    "q1.4": {
     "name": "q1.4",
     "points": 5,
     "suites": [
      {
       "cases": [],
       "scored": true,
       "setup": "",
       "teardown": "",
       "type": "doctest"
      }
     ]
    },
    "q2.1": {
     "name": "q2.1",
     "points": 5,
     "suites": [
      {
       "cases": [],
       "scored": true,
       "setup": "",
       "teardown": "",
       "type": "doctest"
      }
     ]
    },
    "q2.1.1": {
     "name": "q2.1.1",
     "points": 2,
     "suites": [
      {
       "cases": [],
       "scored": true,
       "setup": "",
       "teardown": "",
       "type": "doctest"
      }
     ]
    },
    "q2.2.1": {
     "name": "q2.2.1",
     "points": 5,
     "suites": [
      {
       "cases": [],
       "scored": true,
       "setup": "",
       "teardown": "",
       "type": "doctest"
      }
     ]
    },
    "q2.2.2": {
     "name": "q2.2.2",
     "points": 3,
     "suites": [
      {
       "cases": [],
       "scored": true,
       "setup": "",
       "teardown": "",
       "type": "doctest"
      }
     ]
    },
    "q2.2.3": {
     "name": "q2.2.3",
     "points": 3,
     "suites": [
      {
       "cases": [],
       "scored": true,
       "setup": "",
       "teardown": "",
       "type": "doctest"
      }
     ]
    },
    "q2.2.4": {
     "name": "q2.2.4",
     "points": 10,
     "suites": [
      {
       "cases": [],
       "scored": true,
       "setup": "",
       "teardown": "",
       "type": "doctest"
      }
     ]
    },
    "q2.2.5": {
     "name": "q2.2.5",
     "points": 2,
     "suites": [
      {
       "cases": [],
       "scored": true,
       "setup": "",
       "teardown": "",
       "type": "doctest"
      }
     ]
    },
    "q3.1": {
     "name": "q3.1",
     "points": 15,
     "suites": [
      {
       "cases": [],
       "scored": true,
       "setup": "",
       "teardown": "",
       "type": "doctest"
      }
     ]
    },
    "q3.2": {
     "name": "q3.2",
     "points": 7,
     "suites": [
      {
       "cases": [],
       "scored": true,
       "setup": "",
       "teardown": "",
       "type": "doctest"
      }
     ]
    },
    "q3.3": {
     "name": "q3.3",
     "points": 7,
     "suites": [
      {
       "cases": [],
       "scored": true,
       "setup": "",
       "teardown": "",
       "type": "doctest"
      }
     ]
    },
    "q3.4": {
     "name": "q3.4",
     "points": 7,
     "suites": [
      {
       "cases": [],
       "scored": true,
       "setup": "",
       "teardown": "",
       "type": "doctest"
      }
     ]
    },
    "q3.5": {
     "name": "q3.5",
     "points": 7,
     "suites": [
      {
       "cases": [],
       "scored": true,
       "setup": "",
       "teardown": "",
       "type": "doctest"
      }
     ]
    },
    "q3.6": {
     "name": "q3.6",
     "points": 7,
     "suites": [
      {
       "cases": [],
       "scored": true,
       "setup": "",
       "teardown": "",
       "type": "doctest"
      }
     ]
    }
   }
  }
 },
 "nbformat": 4,
 "nbformat_minor": 5
}
