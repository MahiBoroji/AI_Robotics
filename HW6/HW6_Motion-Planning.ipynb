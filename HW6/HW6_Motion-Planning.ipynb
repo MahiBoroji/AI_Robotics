{
 "cells": [
  {
   "cell_type": "code",
   "execution_count": 126,
   "metadata": {
    "deletable": false,
    "editable": false
   },
   "outputs": [],
   "source": [
    "# Initialize Otter\n",
    "import otter\n",
    "grader = otter.Notebook(\"HW6_Motion-Planning.ipynb\")"
   ]
  },
  {
   "cell_type": "code",
   "execution_count": 127,
   "metadata": {},
   "outputs": [],
   "source": [
    "import numpy as np\n",
    "import random"
   ]
  },
  {
   "cell_type": "markdown",
   "metadata": {},
   "source": [
    "# FILL IN YOUR NAME AND THE NAME OF YOUR PEER (IF ANY) BELOW"
   ]
  },
  {
   "cell_type": "markdown",
   "metadata": {},
   "source": [
    "**Name**: Maede Boroji\n",
    "\n",
    "**Peer**: \\<replace this with your peer's name\\>\n",
    "\n",
    "## Collaboration policy\n",
    "Students are responsible for writing their own quizzes, assignments, and exams. For homework assignments, students are welcome (and encouraged) to discuss problems with one peer, **but each student must write their own assignment wrtieup and code individually**. The peer must be listed at the top of the writeup for each assignment. *Note: I will treat AI assistants as peers. That is, students are welcome to discuss problems with an AI assistant, but it is considered cheating to directly obtain an answer by querying the assistant. Please credit any AI assistant that you use.*"
   ]
  },
  {
   "cell_type": "markdown",
   "metadata": {},
   "source": [
    "# Homework 6 -- Motion planning (100 pts)\n",
    "\n",
    "**Due:** Tuesday, March 25th, 2025 at 11:59 pm\n",
    "\n",
    "This homework builds on the material in the slides and Lynch Chapter 10 (on Motion Planning).\n",
    "\n",
    "We will use Jupyter/Colab notebooks throughout the semester for writing code and generating assignment outputs.\n",
    "\n",
    "**Throughout this homework, please use 2D numpy arrays to represent all matrices. The autograder will use a precision of 3 decimal places.**\n",
    "\n",
    "\n",
    "## 1) C-space obstacles (40 pts)\n",
    "\n",
    "### 1.1) 2D polygons (20 pts)\n",
    "\n",
    "In the case of 2D polygonal robots and obstacles, where the robot is only allowed translational motions, we can find the C-space obstacles by sliding the robot around the obstacle and keeping track of the origin of the robot as it touches the boundaries of the obstacle. The C-space obstacle is the polygon formed by connecting the places were the robot's origin was when the robot came in contact with the obstacle.\n",
    "\n",
    "\n",
    "#### 1.1.1) \n",
    "\n",
    "Consider the following robot:\n",
    "\n",
    "<img src=\"https://jorge-a-mendez.github.io/images/ese564s24/q11_robot.png\" width=\"30%\">\n",
    "\n",
    "and obstacle:\n",
    "\n",
    "<img src=\"https://jorge-a-mendez.github.io/images/ese564s24/q11_obstacle.png\" width=\"40%\">\n",
    "\n",
    "The following are all representations of the C-space obstacle for different choices of the origin of the robot. Find the value of $(x,y)$ that corresponds to each of the C-space obstacles. In other words, determine what is the point on the robot where its origin is located, and then express the bottom-left corner of the robot relative to this origin. Assume that the x-axis points right, and the y-axis points up.\n",
    "\n",
    "<img src=\"https://jorge-a-mendez.github.io/images/ese564s24/q11_cspace_1.png\" width=\"24%\"> <img src=\"https://jorge-a-mendez.github.io/images/ese564s24/q11_cspace_2.png\" width=\"24%\"> <img src=\"https://jorge-a-mendez.github.io/images/ese564s24/q11_cspace_3.png\" width=\"24%\"> <img src=\"https://jorge-a-mendez.github.io/images/ese564s24/q11_cspace_4.png\" width=\"24%\">\n",
    "\n"
   ]
  },
  {
   "cell_type": "markdown",
   "metadata": {
    "deletable": false,
    "editable": false
   },
   "source": [
    "What is the value of $x,y$ that yields the first C-space obstacle?\n",
    "\n",
    "_Points:_ 1"
   ]
  },
  {
   "cell_type": "code",
   "execution_count": 128,
   "metadata": {
    "tags": [
     "otter_answer_cell"
    ]
   },
   "outputs": [],
   "source": [
    "# Express your answer as two scalars\n",
    "x_1111 = 0\n",
    "y_1111 = 0"
   ]
  },
  {
   "cell_type": "markdown",
   "metadata": {
    "deletable": false,
    "editable": false
   },
   "source": [
    "What is the value of $x,y$ that yields the second C-space obstacle?\n",
    "\n",
    "_Points:_ 1"
   ]
  },
  {
   "cell_type": "code",
   "execution_count": 129,
   "metadata": {
    "tags": [
     "otter_answer_cell"
    ]
   },
   "outputs": [],
   "source": [
    "# Express your answer as two scalars\n",
    "x_1112 = -1\n",
    "y_1112 = 0"
   ]
  },
  {
   "cell_type": "markdown",
   "metadata": {
    "deletable": false,
    "editable": false
   },
   "source": [
    "What is the value of $x,y$ that yields the third C-space obstacle?\n",
    "\n",
    "_Points:_ 1"
   ]
  },
  {
   "cell_type": "code",
   "execution_count": 130,
   "metadata": {
    "tags": [
     "otter_answer_cell"
    ]
   },
   "outputs": [],
   "source": [
    "# Express your answer as two scalars\n",
    "x_1113 = -0.5\n",
    "y_1113 = -1"
   ]
  },
  {
   "cell_type": "markdown",
   "metadata": {
    "deletable": false,
    "editable": false
   },
   "source": [
    "What is the value of $x,y$ that yields the fourth C-space obstacle?\n",
    "\n",
    "_Points:_ 1"
   ]
  },
  {
   "cell_type": "code",
   "execution_count": 131,
   "metadata": {
    "tags": [
     "otter_answer_cell"
    ]
   },
   "outputs": [],
   "source": [
    "# Express your answer as two scalars\n",
    "x_1114 = -0.5\n",
    "y_1114 = -0.5"
   ]
  },
  {
   "cell_type": "markdown",
   "metadata": {},
   "source": [
    "#### 1.1.2) \n",
    "\n",
    "Consider the following robot:\n",
    "\n",
    "<img src=\"https://jorge-a-mendez.github.io/images/ese564s24/q12_robot.png\" width=\"30%\">\n",
    "\n",
    "and obstacle:\n",
    "\n",
    "<img src=\"https://jorge-a-mendez.github.io/images/ese564s24/q12_obstacle.png\" width=\"30%\">\n",
    "\n",
    "The following are all representations of the C-space obstacle for different choices of the origin of the robot. Find the value of $(x,y)$ that corresponds to each of the C-space obstacles. In other words, determine what is the point on the robot where its origin is located, and then express the bottom-left corner of the robot relative to this origin. Assume that the x-axis points right, and the y-axis points up.\n",
    "\n",
    "<img src=\"https://jorge-a-mendez.github.io/images/ese564s24/q12_cspace_1.png\" width=\"24%\"> <img src=\"https://jorge-a-mendez.github.io/images/ese564s24/q12_cspace_2.png\" width=\"24%\"> <img src=\"https://jorge-a-mendez.github.io/images/ese564s24/q12_cspace_3.png\" width=\"24%\"> <img src=\"https://jorge-a-mendez.github.io/images/ese564s24/q12_cspace_4.png\" width=\"24%\">\n",
    "\n"
   ]
  },
  {
   "cell_type": "markdown",
   "metadata": {
    "deletable": false,
    "editable": false
   },
   "source": [
    "What is the value of $x,y$ that yields the first C-space obstacle?\n",
    "\n",
    "_Points:_ 1"
   ]
  },
  {
   "cell_type": "code",
   "execution_count": 132,
   "metadata": {
    "tags": [
     "otter_answer_cell"
    ]
   },
   "outputs": [],
   "source": [
    "# Express your answer as two scalars\n",
    "x_1121 = -1.4\n",
    "y_1121 = -0.8"
   ]
  },
  {
   "cell_type": "markdown",
   "metadata": {
    "deletable": false,
    "editable": false
   },
   "source": [
    "What is the value of $x,y$ that yields the second C-space obstacle?\n",
    "\n",
    "_Points:_ 1"
   ]
  },
  {
   "cell_type": "code",
   "execution_count": 133,
   "metadata": {
    "tags": [
     "otter_answer_cell"
    ]
   },
   "outputs": [],
   "source": [
    "# Express your answer as two scalars\n",
    "x_1122 = -2.1\n",
    "y_1122 = -0.4"
   ]
  },
  {
   "cell_type": "markdown",
   "metadata": {
    "deletable": false,
    "editable": false
   },
   "source": [
    "What is the value of $x,y$ that yields the third C-space obstacle?\n",
    "\n",
    "_Points:_ 1"
   ]
  },
  {
   "cell_type": "code",
   "execution_count": 134,
   "metadata": {
    "tags": [
     "otter_answer_cell"
    ]
   },
   "outputs": [],
   "source": [
    "# Express your answer as two scalars\n",
    "x_1123 = 0\n",
    "y_1123 = 0"
   ]
  },
  {
   "cell_type": "markdown",
   "metadata": {
    "deletable": false,
    "editable": false
   },
   "source": [
    "What is the value of $x,y$ that yields the fourth C-space obstacle?\n",
    "\n",
    "_Points:_ 1"
   ]
  },
  {
   "cell_type": "code",
   "execution_count": 135,
   "metadata": {
    "tags": [
     "otter_answer_cell"
    ]
   },
   "outputs": [],
   "source": [
    "# Express your answer as two scalars\n",
    "x_1124 = -1.4\n",
    "y_1124 = -2"
   ]
  },
  {
   "cell_type": "markdown",
   "metadata": {},
   "source": [
    "#### 1.1.3) \n",
    "\n",
    "Consider the following robot:\n",
    "\n",
    "<img src=\"https://jorge-a-mendez.github.io/images/ese564s24/q13_robot.png\" width=\"30%\">\n",
    "\n",
    "and obstacle:\n",
    "\n",
    "<img src=\"https://jorge-a-mendez.github.io/images/ese564s24/q13_obstacle.png\" width=\"40%\">\n",
    "\n",
    "The following are all representations of the C-space obstacle for different choices of the origin of the robot. Find the value of $(x,y)$ that corresponds to each of the C-space obstacles. In other words, determine what is the point on the robot where its origin is located, and then express the bottom-left corner of the robot relative to this origin. Assume that the x-axis points right, and the y-axis points up.\n",
    "\n",
    "<img src=\"https://jorge-a-mendez.github.io/images/ese564s24/q13_cspace_1.png\" width=\"24%\"> <img src=\"https://jorge-a-mendez.github.io/images/ese564s24/q13_cspace_2.png\" width=\"24%\"> <img src=\"https://jorge-a-mendez.github.io/images/ese564s24/q13_cspace_3.png\" width=\"24%\"> <img src=\"https://jorge-a-mendez.github.io/images/ese564s24/q13_cspace_4.png\" width=\"24%\">\n",
    "\n"
   ]
  },
  {
   "cell_type": "markdown",
   "metadata": {
    "deletable": false,
    "editable": false
   },
   "source": [
    "What is the value of $x,y$ that yields the first C-space obstacle?\n",
    "\n",
    "_Points:_ 1"
   ]
  },
  {
   "cell_type": "code",
   "execution_count": 136,
   "metadata": {
    "tags": [
     "otter_answer_cell"
    ]
   },
   "outputs": [],
   "source": [
    "# Express your answer as two scalars\n",
    "x_1131 = -1.4\n",
    "y_1131 = -0.8"
   ]
  },
  {
   "cell_type": "markdown",
   "metadata": {
    "deletable": false,
    "editable": false
   },
   "source": [
    "What is the value of $x,y$ that yields the second C-space obstacle?\n",
    "\n",
    "_Points:_ 1"
   ]
  },
  {
   "cell_type": "code",
   "execution_count": 137,
   "metadata": {
    "tags": [
     "otter_answer_cell"
    ]
   },
   "outputs": [],
   "source": [
    "# Express your answer as two scalars\n",
    "x_1132 = -2.2\n",
    "y_1132 = -0.3"
   ]
  },
  {
   "cell_type": "markdown",
   "metadata": {
    "deletable": false,
    "editable": false
   },
   "source": [
    "What is the value of $x,y$ that yields the third C-space obstacle?\n",
    "\n",
    "_Points:_ 1"
   ]
  },
  {
   "cell_type": "code",
   "execution_count": 138,
   "metadata": {
    "tags": [
     "otter_answer_cell"
    ]
   },
   "outputs": [],
   "source": [
    "# Express your answer as two scalars\n",
    "x_1133 = 0\n",
    "y_1133 = 0"
   ]
  },
  {
   "cell_type": "markdown",
   "metadata": {
    "deletable": false,
    "editable": false
   },
   "source": [
    "What is the value of $x,y$ that yields the fourth C-space obstacle?\n",
    "\n",
    "_Points:_ 1"
   ]
  },
  {
   "cell_type": "code",
   "execution_count": 139,
   "metadata": {
    "tags": [
     "otter_answer_cell"
    ]
   },
   "outputs": [],
   "source": [
    "# Express your answer as two scalars\n",
    "x_1134 = -1.4\n",
    "y_1134 = -2.2"
   ]
  },
  {
   "cell_type": "markdown",
   "metadata": {},
   "source": [
    "#### 1.1.4) \n",
    "\n",
    "Consider the following robot workspace with an obstacle: \n",
    "\n",
    "<img src=\"https://jorge-a-mendez.github.io/images/ese564s24/q14_workspace.png\" width=\"30%\">\n",
    "\n",
    "The configuration of the robot is given by the (x,y) coordinates of its bottom-left corner. \n"
   ]
  },
  {
   "cell_type": "markdown",
   "metadata": {
    "deletable": false,
    "editable": false
   },
   "source": [
    "Give a configuration of the robot that is in C-free and for which $x>1$ and $y>2$. \n",
    "\n",
    "_Points:_ 2"
   ]
  },
  {
   "cell_type": "code",
   "execution_count": 140,
   "metadata": {
    "tags": [
     "otter_answer_cell"
    ]
   },
   "outputs": [],
   "source": [
    "# Express your answer as two scalars\n",
    "x_1141 = 2.5\n",
    "y_1141 = 2.5"
   ]
  },
  {
   "cell_type": "markdown",
   "metadata": {
    "deletable": false,
    "editable": false
   },
   "source": [
    "Give a configuration of the robot that is in C-obs. \n",
    "\n",
    "_Points:_ 2"
   ]
  },
  {
   "cell_type": "code",
   "execution_count": 141,
   "metadata": {
    "tags": [
     "otter_answer_cell"
    ]
   },
   "outputs": [],
   "source": [
    "# Express your answer as two scalars\n",
    "x_1142 = 1.5\n",
    "y_1142 = 2.1"
   ]
  },
  {
   "cell_type": "markdown",
   "metadata": {},
   "source": [
    "#### 1.1.5) \n",
    "\n",
    "Consider the following robot workspace with an obstacle: \n",
    "\n",
    "<img src=\"https://jorge-a-mendez.github.io/images/ese564s24/q15_workspace.png\" width=\"30%\">\n",
    "\n",
    "The configuration of the robot is given by the (x,y) coordinates of its bottom-left corner. \n"
   ]
  },
  {
   "cell_type": "markdown",
   "metadata": {
    "deletable": false,
    "editable": false
   },
   "source": [
    "Give a configuration of the robot that is in C-free and for which $x>1.8$ and $y>1.8$. \n",
    "\n",
    "_Points:_ 2"
   ]
  },
  {
   "cell_type": "code",
   "execution_count": 142,
   "metadata": {
    "tags": [
     "otter_answer_cell"
    ]
   },
   "outputs": [],
   "source": [
    "# Express your answer as two scalars\n",
    "x_1151 = 4\n",
    "y_1151 = 2"
   ]
  },
  {
   "cell_type": "markdown",
   "metadata": {
    "deletable": false,
    "editable": false
   },
   "source": [
    "Give a configuration of the robot that is in C-obs. \n",
    "\n",
    "_Points:_ 2"
   ]
  },
  {
   "cell_type": "code",
   "execution_count": 143,
   "metadata": {
    "tags": [
     "otter_answer_cell"
    ]
   },
   "outputs": [],
   "source": [
    "# Express your answer as two scalars\n",
    "x_1152 = 3\n",
    "y_1152 = 3"
   ]
  },
  {
   "cell_type": "markdown",
   "metadata": {},
   "source": [
    "### 1.2) 2-link planar arm (20 pts)\n",
    "\n",
    "Consider the case of the 2-link planar arm with two revolute joints, as depicted below.\n",
    "\n",
    "<img src=\"https://jorge-a-mendez.github.io/images/ese564s24/twolink_workspace.png\" width=\"30%\">\n",
    "\n",
    "The base of link 1 as at the origin of the workspace, (0,0). The links of the arm both have length $L_1=L_2=3$. There are three obstacles in the workspace, with vertices annotated in the figure. The configuration is given by the angles of the joints, $q_1$ and $q_2$."
   ]
  },
  {
   "cell_type": "markdown",
   "metadata": {
    "deletable": false,
    "editable": false
   },
   "source": [
    "#### 1.2.1) \n",
    "Which of the following represents the configuration space of the robot? Black pixels represent free space, and white pixels represent obstacles.\n",
    "\n",
    "*Hint: consider writing your own piece of code that visualizes the robot in your choice of configurations.*\n",
    "\n",
    "<img src=\"https://jorge-a-mendez.github.io/images/ese564s24/twolink_cspace_option1.png\" width=\"24%\">\n",
    "<img src=\"https://jorge-a-mendez.github.io/images/ese564s24/twolink_cspace_option2.png\" width=\"24%\">\n",
    "<img src=\"https://jorge-a-mendez.github.io/images/ese564s24/twolink_cspace_option3.png\" width=\"24%\">\n",
    "<img src=\"https://jorge-a-mendez.github.io/images/ese564s24/twolink_cspace_option4.png\" width=\"24%\">\n",
    "\n",
    "_Points:_ 3"
   ]
  },
  {
   "cell_type": "code",
   "execution_count": 144,
   "metadata": {
    "tags": [
     "otter_answer_cell"
    ]
   },
   "outputs": [],
   "source": [
    "# Express your answer as a lower-case Python string (e.g., \"a\")\n",
    "ans_121 = \"b\""
   ]
  },
  {
   "cell_type": "markdown",
   "metadata": {
    "deletable": false,
    "editable": false
   },
   "source": [
    "#### 1.2.2) \n",
    "\n",
    "How many connected components does this C-space have?\n",
    "\n",
    "_Points:_ 3"
   ]
  },
  {
   "cell_type": "code",
   "execution_count": 145,
   "metadata": {
    "tags": [
     "otter_answer_cell"
    ]
   },
   "outputs": [],
   "source": [
    "# Express your answer as a scalar integer\n",
    "ans_122 = 2"
   ]
  },
  {
   "cell_type": "markdown",
   "metadata": {
    "deletable": false,
    "editable": false
   },
   "source": [
    "#### 1.2.3) \n",
    "\n",
    "Give an example of a configuration $q_1, q_2$ that is in C-free.\n",
    "\n",
    "_Points:_ 3"
   ]
  },
  {
   "cell_type": "code",
   "execution_count": 146,
   "metadata": {
    "tags": [
     "otter_answer_cell"
    ]
   },
   "outputs": [],
   "source": [
    "# Express your answer as two scalars in [0, 2pi]\n",
    "q1_123 = np.pi\n",
    "q2_123 = 0.25 * np.pi"
   ]
  },
  {
   "cell_type": "markdown",
   "metadata": {
    "deletable": false,
    "editable": false
   },
   "source": [
    "#### 1.2.4) \n",
    "\n",
    "Give an example of a configuration $q_1, q_2$ that is in C-obs.\n",
    "\n",
    "_Points:_ 3"
   ]
  },
  {
   "cell_type": "code",
   "execution_count": 147,
   "metadata": {
    "tags": [
     "otter_answer_cell"
    ]
   },
   "outputs": [],
   "source": [
    "# Express your answer as two scalars in [0, 2pi]\n",
    "q1_124 = 0.65 * np.pi\n",
    "q2_124 = 0.25 * np.pi"
   ]
  },
  {
   "cell_type": "markdown",
   "metadata": {
    "deletable": false,
    "editable": false
   },
   "source": [
    "#### 1.2.5) \n",
    "\n",
    "Give an example of a pair of configurations $q_\\text{start}$, $q_\\text{goal}$ in C-free such that there is no collision-free path from start to goal.\n",
    "\n",
    "_Points:_ 4"
   ]
  },
  {
   "cell_type": "code",
   "execution_count": 148,
   "metadata": {
    "tags": [
     "otter_answer_cell"
    ]
   },
   "outputs": [],
   "source": [
    "# Express your answer as four scalars in [0, 2pi]\n",
    "q1start_125 = np.pi\n",
    "q2start_125 = 0.25 * np.pi\n",
    "q1goal_125 = 0.25 * np.pi\n",
    "q2goal_125 = np.pi"
   ]
  },
  {
   "cell_type": "markdown",
   "metadata": {
    "deletable": false,
    "editable": false
   },
   "source": [
    "#### 1.2.6) \n",
    "\n",
    "Give an example of a pair of configurations $q_\\text{start}$, $q_\\text{goal}$ in C-free such that there is some collision-free path from start to goal.\n",
    "\n",
    "_Points:_ 4"
   ]
  },
  {
   "cell_type": "code",
   "execution_count": 149,
   "metadata": {
    "tags": [
     "otter_answer_cell"
    ]
   },
   "outputs": [],
   "source": [
    "# Express your answer as four scalars in [0, 2pi]\n",
    "q1start_126 = 0.5 * np.pi\n",
    "q2start_126 = 1.8 * np.pi\n",
    "q1goal_126 = 0.25 * np.pi\n",
    "q2goal_126 = np.pi"
   ]
  },
  {
   "cell_type": "markdown",
   "metadata": {},
   "source": [
    "## 2) RRT implementation (60 pts)\n",
    "\n",
    "We are now going to write an implementation of RRT for the Panda robot. Run the code cell below to initialize the relevant variables and visualize the environment with obstacles.\n",
    "\n",
    "The following three functions defined below may be particularly useful for your implementation and debugging: `set_joint_positions` and `get_joint_positions` are self-explanatory, hopefully. `get_home_joint_positions` returns values of the joint positions where the Panda is in a \"default\" configuration. `get_goal_joint_positions` returns values of the joint positions where the Panda is no longer between the obstacles. You can use these to debug your overall RRT implementation.\n",
    "\n",
    "**Do not modify any paths in the cell below, as this code cell must run exactly as is on the autograder, which assumes the paths are fixed to the values set below.**\n",
    "\n",
    "**If you work on Google Colab, you will likely need to set up virtual rendering to be able to visualize things. If you do, please remove any cells that set up virtual rendering before submitting your assignment, as virtual rendering is not allowed on Gradescope and it will likely cause the autograder to fail on all subsequent questions.**"
   ]
  },
  {
   "cell_type": "code",
   "execution_count": 150,
   "metadata": {},
   "outputs": [
    {
     "data": {
      "text/html": [
       "<table class=\"show_images\" style=\"border-spacing:0px;\"><tr><td style=\"padding:1px;\"><img width=\"640\" height=\"480\" style=\"image-rendering:auto; object-fit:cover;\" src=\"data:image/png;base64,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\"/></td></tr></table>"
      ],
      "text/plain": [
       "<IPython.core.display.HTML object>"
      ]
     },
     "metadata": {},
     "output_type": "display_data"
    }
   ],
   "source": [
    "import mujoco\n",
    "import mediapy as media\n",
    "import os\n",
    "import glfw\n",
    "\n",
    "def has_valid_renderer():\n",
    "    \"\"\"Checks if OpenGL can be initialized successfully.\"\"\"\n",
    "    # Try initializing GLFW\n",
    "    if not glfw.init():\n",
    "        print(\"GLFW initialization failed. No valid renderer.\")\n",
    "        return False\n",
    "    \n",
    "    # Try creating a hidden window to test OpenGL context creation\n",
    "    window = glfw.create_window(640, 480, \"Renderer Test\", None, None)\n",
    "    if not window:\n",
    "        print(\"GLFW could not create an OpenGL context. No valid renderer.\")\n",
    "        glfw.terminate()\n",
    "        return False\n",
    "    \n",
    "    glfw.make_context_current(window)\n",
    "    renderer_available = True  # If we reach this point, rendering should work\n",
    "\n",
    "    # Cleanup\n",
    "    glfw.destroy_window(window)\n",
    "    glfw.terminate()\n",
    "    return renderer_available\n",
    "\n",
    "def render_state(model, data):\n",
    "    if not has_valid_renderer():\n",
    "        print(\"Error rendering the scene. Make sure you have a valid OpenGL installation.\")\n",
    "        return\n",
    "\n",
    "    mujoco.mj_forward(model, data)\n",
    "    with mujoco.Renderer(model, height=480, width=640) as renderer:\n",
    "        renderer.update_scene(data, \"front_view\")  # Ensure scene is updated with final simulation state\n",
    "        media.show_image(renderer.render())\n",
    "\n",
    "def set_joint_positions(model, data, joints):\n",
    "    joint_ids = [mujoco.mj_name2id(model, mujoco.mjtObj.mjOBJ_JOINT, f\"panda_joint{i+1}\") for i in range(7)] # SOLUTION\n",
    "    joint_qpos_idx = model.jnt_qposadr[joint_ids]\n",
    "    data.qpos[joint_qpos_idx] = joints\n",
    "    mujoco.mj_forward(model, data)\n",
    "\n",
    "def get_joint_positions(model, data):\n",
    "    joint_ids = [mujoco.mj_name2id(model, mujoco.mjtObj.mjOBJ_JOINT, f\"panda_joint{i+1}\") for i in range(7)] # SOLUTION\n",
    "    joint_qpos_idx = model.jnt_qposadr[joint_ids]\n",
    "    return data.qpos[joint_qpos_idx]\n",
    "\n",
    "def get_home_joint_positions(model, data):\n",
    "    return [0, -np.pi/3, 0, -5*np.pi/6, 0, np.pi/2, np.pi/4]\n",
    "\n",
    "def get_goal_joint_positions(model, data):\n",
    "    return [-np.pi/2, np.pi/6, 0, -np.pi/3, np.pi/2, np.pi/2, np.pi/4]\n",
    "    \n",
    "# Define the MJCF path and mesh directory\n",
    "mjcf_path = 'assets/Panda/panda.mjcf'\n",
    "mesh_dir = 'assets/Panda/meshes/collision/'\n",
    "\n",
    "# Load mesh files into a dictionary\n",
    "assets = {}\n",
    "for file_name in os.listdir(mesh_dir):\n",
    "    file_path = os.path.join(mesh_dir, file_name)\n",
    "    with open(file_path, 'rb') as f:\n",
    "        assets[f'meshes/collision/{file_name}'] = f.read()\n",
    "\n",
    "# Load the MuJoCo model\n",
    "model = mujoco.MjModel.from_xml_path(mjcf_path, assets=assets)\n",
    "data = mujoco.MjData(model)\n",
    "data.qpos[14:16] = 0.04\n",
    "\n",
    "# Call mj_forward to initialize the state\n",
    "mujoco.mj_forward(model, data)\n",
    "\n",
    "# Set the joint positions\n",
    "set_joint_positions(model, data, get_home_joint_positions(model, data))\n",
    "\n",
    "# Render the scene\n",
    "render_state(model, data)"
   ]
  },
  {
   "cell_type": "code",
   "execution_count": 151,
   "metadata": {},
   "outputs": [
    {
     "data": {
      "text/plain": [
       "[0,\n",
       " -1.0471975511965976,\n",
       " 0,\n",
       " -2.6179938779914944,\n",
       " 0,\n",
       " 1.5707963267948966,\n",
       " 0.7853981633974483]"
      ]
     },
     "execution_count": 151,
     "metadata": {},
     "output_type": "execute_result"
    }
   ],
   "source": [
    "get_home_joint_positions(model, data)"
   ]
  },
  {
   "cell_type": "code",
   "execution_count": 152,
   "metadata": {},
   "outputs": [
    {
     "data": {
      "text/plain": [
       "np.float64(-2.9671)"
      ]
     },
     "execution_count": 152,
     "metadata": {},
     "output_type": "execute_result"
    }
   ],
   "source": [
    "joint_id = mujoco.mj_name2id(model, mujoco.mjtObj.mjOBJ_JOINT, f\"panda_joint{1}\")\n",
    "model.jnt_range[joint_id][0]"
   ]
  },
  {
   "cell_type": "markdown",
   "metadata": {
    "deletable": false,
    "editable": false
   },
   "source": [
    "##### 2.1)\n",
    "\n",
    "Implement the `sample_point_21` function. With probability $1-\\epsilon$, the function should return a joint configuration sampled uniformly at random from the valid joint ranges. With probability $\\epsilon$, the function should return the goal configuration.\n",
    "\n",
    "\n",
    "_Points:_ 10"
   ]
  },
  {
   "cell_type": "code",
   "execution_count": 153,
   "metadata": {
    "tags": [
     "otter_answer_cell"
    ]
   },
   "outputs": [],
   "source": [
    "def sample_point_21(model, q_goal, epsilon=0.1):\n",
    "    \"\"\" \n",
    "    model: MuJoCo model object\n",
    "    q_goal: goal joint positions, a numpy array of shape (7,)\n",
    "    epsilon: probability of sampling the goal configuration\n",
    "    \n",
    "    Return: a numpy array of shape (7,) representing the sampled joint positions\n",
    "    \"\"\"\n",
    "    if np.random.rand() < epsilon:\n",
    "        return q_goal\n",
    "    else:\n",
    "        # Sample uniformly at random from valid joint ranges\n",
    "        joint_ranges = []\n",
    "        for i in range(7):  # Iterate over the 7 joints\n",
    "            joint_id = mujoco.mj_name2id(model, mujoco.mjtObj.mjOBJ_JOINT, f\"panda_joint{i+1}\")\n",
    "            joint_ranges.append(model.jnt_range[joint_id])\n",
    "        \n",
    "        random_sample = np.array([np.random.uniform(low, high) for low, high in joint_ranges])\n",
    "        return random_sample"
   ]
  },
  {
   "cell_type": "code",
   "execution_count": 154,
   "metadata": {},
   "outputs": [
    {
     "data": {
      "text/plain": [
       "array([ 0.1196622 ,  0.84527863, -0.31777035, -2.00851507, -1.20068256,\n",
       "        0.37777868,  2.7965983 ])"
      ]
     },
     "execution_count": 154,
     "metadata": {},
     "output_type": "execute_result"
    }
   ],
   "source": [
    "sample_point_21(model, get_goal_joint_positions(model, data), epsilon=0.1)"
   ]
  },
  {
   "cell_type": "markdown",
   "metadata": {
    "deletable": false,
    "editable": false
   },
   "source": [
    "### 2.2) \n",
    "\n",
    "Let's now implement the `get_nearest_22` function. Because all Panda joints have joint limits, there are no wrap-arounds and we can get away with using Euclidean distance as our distance metric. \n",
    "\n",
    "_Points:_ 10"
   ]
  },
  {
   "cell_type": "code",
   "execution_count": 155,
   "metadata": {
    "tags": [
     "otter_answer_cell"
    ]
   },
   "outputs": [],
   "source": [
    "def get_nearest_22(nodes, q):\n",
    "    \"\"\" \n",
    "    nodes: a numpy array of shape (N, 7) representing the nodes in the tree\n",
    "    q: a numpy array of shape (7,) representing the query point\n",
    "    Return: a numpy array of shape (7,) representing the nearest node in the tree\n",
    "    \"\"\"\n",
    "    distances = np.linalg.norm(nodes - q, axis=1)  # Compute the Euclidean distances between `q` and all nodes in the tree\n",
    "    nearest_index = np.argmin(distances)\n",
    "    return nodes[nearest_index]"
   ]
  },
  {
   "cell_type": "markdown",
   "metadata": {
    "deletable": false,
    "editable": false
   },
   "source": [
    "#### 2.3) \n",
    "The next step is to write the `extend_23` function, which findes `q_new`, a node on the line between `q_sample` and `q_near` that is at a maximum distance of `step_size` from `q_near` (again, using Euclidean distance in the C-space). If `q_sample` is closer to `q_near` than `step_size`, then `q_new=q_sample`.\n",
    "\n",
    "_Points:_ 10"
   ]
  },
  {
   "cell_type": "code",
   "execution_count": 156,
   "metadata": {
    "otter": {
     "tests": [
      "q2.3"
     ]
    },
    "tags": [
     "otter_answer_cell"
    ]
   },
   "outputs": [],
   "source": [
    "def extend_23(q_sample, q_near, step_size):\n",
    "    \"\"\" \n",
    "    q_sample: a numpy array of shape (7,) representing the sampled joint positions\n",
    "    q_near: a numpy array of shape (7,) representing the nearest node in the tree\n",
    "    step_size: a scalar representing the step size\n",
    "    Return: a numpy array of shape (7,) representing the extended joint positions\n",
    "    \"\"\"\n",
    "    direction = q_sample - q_near\n",
    "    distance = np.linalg.norm(direction)\n",
    "    \n",
    "    if distance <= step_size:\n",
    "        return q_sample\n",
    "    else:\n",
    "        unit_direction = direction / distance\n",
    "        q_new = q_near + step_size * unit_direction\n",
    "        return q_new"
   ]
  },
  {
   "cell_type": "markdown",
   "metadata": {
    "deletable": false,
    "editable": false
   },
   "source": [
    "#### 2.4)\n",
    "\n",
    "Before moving on to write the main loop of RRT, we need to write a collision-checking function. The function takes as input two configurations, q1 and q2, and checks whether the path between them is collision-free. The way we will do this is to interpolate between the configurations with a fixed step size.\n",
    "\n",
    "To check whether a particular configuration is in collision, we will leverage the MuJoCo simulator. In particular, the following will be useful:\n",
    "- `mujoco.mj_collision(model, data)` runs collision checking internally in MuJoCo. \n",
    "- `data.contact` is set after running `mj_collision`. Look at the documentation to see how to use this information to determine whether there are collisions.\n",
    "\n",
    "*Hint1: this function will require you to set the joint positions multiple times. Make sure that, at the end of the function, your robot is back to its original position.*\n",
    "\n",
    "*Hint2: it is possible that the two configurations are closer than the `max_step_size`. Make sure to handle this case appropriately.*\n",
    "\n",
    "*Hint3: if you use `np_array += other_array`, you will modify `np_array` in-place.*\n",
    "\n",
    "_Points:_ 10"
   ]
  },
  {
   "cell_type": "code",
   "execution_count": 157,
   "metadata": {
    "otter": {
     "tests": [
      "q2.4"
     ]
    },
    "tags": [
     "otter_answer_cell"
    ]
   },
   "outputs": [],
   "source": [
    "def is_collision_free_24(model, data, q1, q2, max_step_size=0.1):\n",
    "    \"\"\" \n",
    "    model: MuJoCo model object\n",
    "    data: MuJoCo data object\n",
    "    q1: a numpy array of shape (7,) representing the start joint positions\n",
    "    q2: a numpy array of shape (7,) representing the end joint positions\n",
    "    max_step_size: a scalar representing the maximum step size for collision checking\n",
    "    \n",
    "    Return: a boolean indicating if the path between q1 and q2 is collision-free\n",
    "    \"\"\"\n",
    "    original_qpos = get_joint_positions(model, data).copy()\n",
    "    \n",
    "    distance = np.linalg.norm(q2 - q1)\n",
    "    num_steps = max(1, int(np.ceil(distance / max_step_size)))\n",
    "    \n",
    "    for i in range(num_steps + 1):\n",
    "        # Interpolate the joint positions\n",
    "        alpha = i / num_steps\n",
    "        q_interp = (1 - alpha) * q1 + alpha * q2\n",
    "        \n",
    "        # Set the joint positions to the interpolated configuration\n",
    "        set_joint_positions(model, data, q_interp)\n",
    "        \n",
    "        # Check for collisions using MuJoCo's collision detection\n",
    "        mujoco.mj_collision(model, data)\n",
    "        for contact in data.contact:\n",
    "            if contact.dist < 0:  # A negative distance indicates a collision\n",
    "                # Restore the original joint positions and return False\n",
    "                set_joint_positions(model, data, original_qpos)\n",
    "                return False\n",
    "    \n",
    "    # Restore the original joint positions\n",
    "    set_joint_positions(model, data, original_qpos)\n",
    "    \n",
    "    # If no collisions were found, return True\n",
    "    return True"
   ]
  },
  {
   "cell_type": "markdown",
   "metadata": {
    "deletable": false,
    "editable": false
   },
   "source": [
    "#### 2.5)\n",
    "\n",
    "Now we're ready to write our RRT main loop. The algorithm loops over: sampling a point, finding the nearest node on the tree, finding the candidate extension node, checking for collisions, and adding to the tree.\n",
    "\n",
    "The function will take as arguments a threshold `threshold` which tells us how close (in Euclidean distance in the C-space) we must be from the goal configuration to consider that the goal has been reached, and a `step_size` to use for the `extend` function. For the purposes of this HW, feel free to use the same `step_size` for collision checking (which effectively just checks whether `q_new` is in collision).\n",
    "\n",
    "Recall that RRT keeps track of the parent of each node. You may use a `parent` dictionary like the one you've used in previous homeworks (e.g., for Dijkstra and A*). \n",
    "\n",
    "*Hint: Numpy arrays cannot be used as keys in a dictionary. You may need to convert back and forth between tuples and arrays. Make sure to respect the typing expected by the functions defined so far.*\n",
    "\n",
    "*Hint 2: You can modify your retrace_plan function from previous HWs to handle trace back from the goal to the start node.*\n",
    "\n",
    "*Hint 3: You can visualize your plans by calling `render_state`, `time.sleep(0.1)` and `IPython.display.clear_output`*\n",
    "\n",
    "\n",
    "_Points:_ 10"
   ]
  },
  {
   "cell_type": "code",
   "execution_count": 158,
   "metadata": {
    "otter": {
     "tests": [
      "q2.5"
     ]
    },
    "tags": [
     "otter_answer_cell"
    ]
   },
   "outputs": [],
   "source": [
    "\n",
    "def panda_rrt_25(q_init, q_goal, model, data, threshold=0.01, step_size=0.1):\n",
    "    \"\"\" \n",
    "    q_init: a numpy array of shape (7,) representing the initial joint positions\n",
    "    q_goal: a numpy array of shape (7,) representing the goal joint positions\n",
    "    model: MuJoCo model object\n",
    "    data: MuJoCo data object\n",
    "    threshold: a scalar representing the distance threshold to the goal\n",
    "    step_size: a scalar representing the step size for extending the tree\n",
    "\n",
    "    Return: a list of numpy arrays representing the sequence of joint positions from q_init to q_goal.    \n",
    "        The first element should be q_init and the final element should be within threshold of q_goal\n",
    "    \"\"\"\n",
    "    # Initialize the tree\n",
    "    nodes = [q_init]  # List of nodes in the tree\n",
    "    parent = {tuple(q_init): None}  # Dictionary to keep track of parents (tuple for hashing)\n",
    "\n",
    "    while True:\n",
    "        # Step 1: Sample a new point\n",
    "        q_sample = sample_point_21(model, q_goal, epsilon=0.1)\n",
    "\n",
    "        # Step 2: Find the nearest node in the tree\n",
    "        q_near = get_nearest_22(np.array(nodes), q_sample)\n",
    "\n",
    "        # Step 3: Extend the tree\n",
    "        q_new = extend_23(q_sample, q_near, step_size)\n",
    "\n",
    "        # Step 4: Collision checking\n",
    "        if is_collision_free_24(model, data, q_near, q_new, max_step_size=step_size):\n",
    "            # Add q_new to the tree\n",
    "            nodes.append(q_new)\n",
    "            parent[tuple(q_new)] = tuple(q_near)\n",
    "\n",
    "            # Check if q_new is within the threshold distance of the goal\n",
    "            if np.linalg.norm(q_new - q_goal) <= threshold:\n",
    "                # Add the goal to the tree\n",
    "                parent[tuple(q_goal)] = tuple(q_new)\n",
    "                return retrace_plan(parent, q_init, q_goal)\n",
    "\n",
    "def retrace_plan(parent, q_init, q_goal):\n",
    "    path = []\n",
    "    current = tuple(q_goal)\n",
    "    while current is not None:\n",
    "        path.append(np.array(current))\n",
    "        current = parent[current]\n",
    "    path.reverse()  # Reverse the path to start from q_init\n",
    "    return path"
   ]
  },
  {
   "cell_type": "markdown",
   "metadata": {
    "deletable": false,
    "editable": false
   },
   "source": [
    "#### 2.6)\n",
    "\n",
    "When using a standard implementation of RRT, it is common practice to apply some smoothing mechanism on the plan obtained from RRT. In this question, we will explore a simple smoothing algorithm.\n",
    "\n",
    "The pseudocode is the following:\n",
    "```\n",
    "for i in 1 ... max_iters\n",
    "    i, j <- sample non-consecutive indices i < j + 1 that are neither the first nor the final in the plan\n",
    "    if q[i] -> q[j] can be connected by a straight-line collision-free path, remove all intermediate steps from the plan\n",
    "```\n",
    "\n",
    "Implement this algorithm as `smooth_path_26` below.\n",
    "\n",
    "_Points:_ 10"
   ]
  },
  {
   "cell_type": "code",
   "execution_count": 159,
   "metadata": {
    "otter": {
     "tests": [
      "q2.6"
     ]
    },
    "tags": [
     "otter_answer_cell"
    ]
   },
   "outputs": [],
   "source": [
    "def smooth_path_26(path, model, data, max_iters=1000):\n",
    "    \"\"\"\n",
    "    path: a list of numpy arrays representing the sequence of joint positions from q_init to q_goal\n",
    "    model: MuJoCo model object\n",
    "    data: MuJoCo data object\n",
    "    max_iters: maximum number of iterations for smoothing\n",
    "\n",
    "    Return: a list of numpy arrays representing the smoothed path \n",
    "    \"\"\"\n",
    "    smoothed_path = path.copy()  # Work on a copy of the path to avoid modifying the original\n",
    "\n",
    "    for _ in range(max_iters):\n",
    "        # Ensure at least 3 points are in the path to perform smoothing\n",
    "        if len(smoothed_path) <= 2:\n",
    "            break\n",
    "\n",
    "        # Randomly sample two non-consecutive indices i and j (i < j)\n",
    "        i = random.randint(1, len(smoothed_path) - 3)  # Exclude the first and last points\n",
    "        j = random.randint(i + 1, len(smoothed_path) - 2)  # Ensure j > i\n",
    "\n",
    "        # Check if the path between q[i] and q[j] is collision-free\n",
    "        if is_collision_free_24(model, data, smoothed_path[i], smoothed_path[j]):\n",
    "            # Remove all intermediate steps between i and j\n",
    "            smoothed_path = smoothed_path[:i + 1] + smoothed_path[j:]\n",
    "\n",
    "    return smoothed_path"
   ]
  },
  {
   "cell_type": "markdown",
   "metadata": {
    "deletable": false,
    "editable": false
   },
   "source": [
    "## Submission\n",
    "\n",
    "Make sure you have run all cells in your notebook in order before running the cell below, so that all images/graphs appear in the output. The cell below will generate a zip file for you to submit. **Please save before exporting!**\n",
    "\n",
    "Fill out the answers to all questions and submit your file hw6.ipynb to the HW4 assignment on Gradescope. You are free to resubmit as many times as you wish."
   ]
  },
  {
   "cell_type": "code",
   "execution_count": 160,
   "metadata": {
    "deletable": false,
    "editable": false
   },
   "outputs": [
    {
     "name": "stdout",
     "output_type": "stream",
     "text": [
      "Running your submission against local test cases...\n",
      "\n",
      "\n",
      "Your submission received the following results when run against available test cases:\n",
      "\n",
      "\n"
     ]
    },
    {
     "data": {
      "text/html": [
       "\n",
       "                    <p>\n",
       "                        Your submission has been exported. Click\n",
       "                        <a href=\"HW6_Motion-Planning_2025_03_13T12_37_18_668976.zip\" download=\"HW6_Motion-Planning_2025_03_13T12_37_18_668976.zip\" target=\"_blank\">here</a> to download\n",
       "                        the zip file.\n",
       "                    </p>\n",
       "                "
      ],
      "text/plain": [
       "<IPython.core.display.HTML object>"
      ]
     },
     "metadata": {},
     "output_type": "display_data"
    }
   ],
   "source": [
    "# Save your notebook first, then run this cell to export your submission.\n",
    "grader.export(pdf=False, run_tests=True)"
   ]
  },
  {
   "cell_type": "markdown",
   "metadata": {},
   "source": [
    " "
   ]
  }
 ],
 "metadata": {
  "kernelspec": {
   "display_name": "Python 3",
   "language": "python",
   "name": "python3"
  },
  "language_info": {
   "codemirror_mode": {
    "name": "ipython",
    "version": 3
   },
   "file_extension": ".py",
   "mimetype": "text/x-python",
   "name": "python",
   "nbconvert_exporter": "python",
   "pygments_lexer": "ipython3",
   "version": "3.12.9"
  },
  "otter": {
   "OK_FORMAT": true,
   "assignment_name": "hw6",
   "tests": {
    "q1.1.1.1": {
     "name": "q1.1.1.1",
     "points": 1,
     "suites": [
      {
       "cases": [],
       "scored": true,
       "setup": "",
       "teardown": "",
       "type": "doctest"
      }
     ]
    },
    "q1.1.1.2": {
     "name": "q1.1.1.2",
     "points": 1,
     "suites": [
      {
       "cases": [],
       "scored": true,
       "setup": "",
       "teardown": "",
       "type": "doctest"
      }
     ]
    },
    "q1.1.1.3": {
     "name": "q1.1.1.3",
     "points": 1,
     "suites": [
      {
       "cases": [],
       "scored": true,
       "setup": "",
       "teardown": "",
       "type": "doctest"
      }
     ]
    },
    "q1.1.1.4": {
     "name": "q1.1.1.4",
     "points": 1,
     "suites": [
      {
       "cases": [],
       "scored": true,
       "setup": "",
       "teardown": "",
       "type": "doctest"
      }
     ]
    },
    "q1.1.2.1": {
     "name": "q1.1.2.1",
     "points": 1,
     "suites": [
      {
       "cases": [],
       "scored": true,
       "setup": "",
       "teardown": "",
       "type": "doctest"
      }
     ]
    },
    "q1.1.2.2": {
     "name": "q1.1.2.2",
     "points": 1,
     "suites": [
      {
       "cases": [],
       "scored": true,
       "setup": "",
       "teardown": "",
       "type": "doctest"
      }
     ]
    },
    "q1.1.2.3": {
     "name": "q1.1.2.3",
     "points": 1,
     "suites": [
      {
       "cases": [],
       "scored": true,
       "setup": "",
       "teardown": "",
       "type": "doctest"
      }
     ]
    },
    "q1.1.2.4": {
     "name": "q1.1.2.4",
     "points": 1,
     "suites": [
      {
       "cases": [],
       "scored": true,
       "setup": "",
       "teardown": "",
       "type": "doctest"
      }
     ]
    },
    "q1.1.3.1": {
     "name": "q1.1.3.1",
     "points": 1,
     "suites": [
      {
       "cases": [],
       "scored": true,
       "setup": "",
       "teardown": "",
       "type": "doctest"
      }
     ]
    },
    "q1.1.3.2": {
     "name": "q1.1.3.2",
     "points": 1,
     "suites": [
      {
       "cases": [],
       "scored": true,
       "setup": "",
       "teardown": "",
       "type": "doctest"
      }
     ]
    },
    "q1.1.3.3": {
     "name": "q1.1.3.3",
     "points": 1,
     "suites": [
      {
       "cases": [],
       "scored": true,
       "setup": "",
       "teardown": "",
       "type": "doctest"
      }
     ]
    },
    "q1.1.3.4": {
     "name": "q1.1.3.4",
     "points": 1,
     "suites": [
      {
       "cases": [],
       "scored": true,
       "setup": "",
       "teardown": "",
       "type": "doctest"
      }
     ]
    },
    "q1.1.4.1": {
     "name": "q1.1.4.1",
     "points": 2,
     "suites": [
      {
       "cases": [],
       "scored": true,
       "setup": "",
       "teardown": "",
       "type": "doctest"
      }
     ]
    },
    "q1.1.4.2": {
     "name": "q1.1.4.2",
     "points": 2,
     "suites": [
      {
       "cases": [],
       "scored": true,
       "setup": "",
       "teardown": "",
       "type": "doctest"
      }
     ]
    },
    "q1.1.5.1": {
     "name": "q1.1.5.1",
     "points": 2,
     "suites": [
      {
       "cases": [],
       "scored": true,
       "setup": "",
       "teardown": "",
       "type": "doctest"
      }
     ]
    },
    "q1.1.5.2": {
     "name": "q1.1.5.2",
     "points": 2,
     "suites": [
      {
       "cases": [],
       "scored": true,
       "setup": "",
       "teardown": "",
       "type": "doctest"
      }
     ]
    },
    "q1.2.1": {
     "name": "q1.2.1",
     "points": 3,
     "suites": [
      {
       "cases": [],
       "scored": true,
       "setup": "",
       "teardown": "",
       "type": "doctest"
      }
     ]
    },
    "q1.2.2": {
     "name": "q1.2.2",
     "points": 3,
     "suites": [
      {
       "cases": [],
       "scored": true,
       "setup": "",
       "teardown": "",
       "type": "doctest"
      }
     ]
    },
    "q1.2.3": {
     "name": "q1.2.3",
     "points": 3,
     "suites": [
      {
       "cases": [],
       "scored": true,
       "setup": "",
       "teardown": "",
       "type": "doctest"
      }
     ]
    },
    "q1.2.4": {
     "name": "q1.2.4",
     "points": 3,
     "suites": [
      {
       "cases": [],
       "scored": true,
       "setup": "",
       "teardown": "",
       "type": "doctest"
      }
     ]
    },
    "q1.2.5": {
     "name": "q1.2.5",
     "points": 4,
     "suites": [
      {
       "cases": [],
       "scored": true,
       "setup": "",
       "teardown": "",
       "type": "doctest"
      }
     ]
    },
    "q1.2.6": {
     "name": "q1.2.6",
     "points": 4,
     "suites": [
      {
       "cases": [],
       "scored": true,
       "setup": "",
       "teardown": "",
       "type": "doctest"
      }
     ]
    },
    "q2.1": {
     "name": "q2.1",
     "points": 10,
     "suites": [
      {
       "cases": [],
       "scored": true,
       "setup": "",
       "teardown": "",
       "type": "doctest"
      }
     ]
    },
    "q2.2": {
     "name": "q2.2",
     "points": 10,
     "suites": [
      {
       "cases": [],
       "scored": true,
       "setup": "",
       "teardown": "",
       "type": "doctest"
      }
     ]
    },
    "q2.3": {
     "name": "q2.3",
     "points": 10,
     "suites": [
      {
       "cases": [],
       "scored": true,
       "setup": "",
       "teardown": "",
       "type": "doctest"
      }
     ]
    },
    "q2.4": {
     "name": "q2.4",
     "points": 10,
     "suites": [
      {
       "cases": [],
       "scored": true,
       "setup": "",
       "teardown": "",
       "type": "doctest"
      }
     ]
    },
    "q2.5": {
     "name": "q2.5",
     "points": 10,
     "suites": [
      {
       "cases": [],
       "scored": true,
       "setup": "",
       "teardown": "",
       "type": "doctest"
      }
     ]
    },
    "q2.6": {
     "name": "q2.6",
     "points": 10,
     "suites": [
      {
       "cases": [],
       "scored": true,
       "setup": "",
       "teardown": "",
       "type": "doctest"
      }
     ]
    }
   }
  }
 },
 "nbformat": 4,
 "nbformat_minor": 2
}
