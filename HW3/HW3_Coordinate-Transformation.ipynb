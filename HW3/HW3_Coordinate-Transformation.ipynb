{
 "cells": [
  {
   "cell_type": "code",
   "execution_count": 1,
   "id": "2a0be9c9",
   "metadata": {
    "deletable": false,
    "editable": false
   },
   "outputs": [],
   "source": [
    "# Initialize Otter\n",
    "import otter\n",
    "grader = otter.Notebook(\"HW3_Coordinate-Transformation.ipynb\")"
   ]
  },
  {
   "cell_type": "code",
   "execution_count": 2,
   "id": "fc69dc99",
   "metadata": {},
   "outputs": [],
   "source": [
    "import numpy as np\n",
    "from math import *"
   ]
  },
  {
   "cell_type": "markdown",
   "id": "5add0ff4-27fa-4b8b-9429-77a6e70eb204",
   "metadata": {},
   "source": [
    "# FILL IN YOUR NAME AND THE NAME OF YOUR PEER (IF ANY) BELOW"
   ]
  },
  {
   "cell_type": "markdown",
   "id": "114b0f41-932d-43fb-96b0-a10ea759b6e4",
   "metadata": {},
   "source": [
    "**Name**: Maede Boroji\n",
    "\n",
    "**Peer**: Vahid Danesh\n",
    "\n",
    "## Collaboration policy\n",
    "Students are responsible for writing their own quizzes, assignments, and exams. For homework assignments, students are welcome (and encouraged) to discuss problems with one peer, **but each student must write their own assignment wrtieup and code individually**. The peer must be listed at the top of the writeup for each assignment. *Note: I will treat AI assistants as peers. That is, students are welcome to discuss problems with an AI assistant, but it is considered cheating to directly obtain an answer by querying the assistant. Please credit any AI assistant that you use.*"
   ]
  },
  {
   "cell_type": "markdown",
   "id": "3eeaa842-e2ff-4f0d-9447-6450943e8703",
   "metadata": {},
   "source": [
    "# Homework 3 -- Coordinate transformations (100 pts)\n",
    "\n",
    "**Due:** Tuesday, February 18th, 2025 at 11:59 pm\n",
    "\n",
    "This homework builds on the material in the slides, Hauser Chapters 3 and 4 (on Coordinate Transformations and 3D Rotations), and Tedrake chapter 3 (on Basic Pick-and-Place, especially 3.1 and 3.3).\n",
    "\n",
    "We will use Jupyter/Colab notebooks throughout the semester for writing code and generating assignment outputs.\n",
    "\n",
    "**Throughout this homework, please use 2D numpy arrays to represent all matrices. The autograder will use a precision of 3 decimal places.**\n",
    "\n",
    "\n",
    "## 1) Calculating Rotations and Homogeneous Transformations (30 pts)\n",
    "\n",
    "We will start by practicing how to construct rotation matrices and homogeneous transformation matrices in 2D and 3D. \n",
    "\n",
    "### 1.1) Calculating 2D rotation matrices (4 pts)"
   ]
  },
  {
   "cell_type": "markdown",
   "id": "9b077b00-bf16-44d7-988e-27cf380b2a3d",
   "metadata": {
    "deletable": false,
    "editable": false
   },
   "source": [
    "#### 1.1.1) \n",
    "Calculate the rotation matrix representing a rotation of $\\theta=90^\\circ$.\n",
    "\n",
    "_Points:_ 1"
   ]
  },
  {
   "cell_type": "code",
   "execution_count": 3,
   "id": "50976ae0-2716-41ae-8690-d6987cc61d83",
   "metadata": {
    "tags": [
     "otter_answer_cell"
    ]
   },
   "outputs": [],
   "source": [
    "# Express your answer as a 2D numpy array\n",
    "R_111 = np.array([[0, -1],\n",
    "                  [1, 0]])"
   ]
  },
  {
   "cell_type": "markdown",
   "id": "344bf58e",
   "metadata": {
    "deletable": false,
    "editable": false
   },
   "source": [
    "#### 1.1.2) \n",
    "Calculate the rotation matrix representing a rotation of $\\theta=180^\\circ$.\n",
    "\n",
    "_Points:_ 1"
   ]
  },
  {
   "cell_type": "code",
   "execution_count": 4,
   "id": "d9ad7927",
   "metadata": {
    "tags": [
     "otter_answer_cell"
    ]
   },
   "outputs": [],
   "source": [
    "# Express your answer as a 2D numpy array\n",
    "R_112 = np.array([[-1, 0], \n",
    "                  [0, -1]])"
   ]
  },
  {
   "cell_type": "markdown",
   "id": "92bfb195",
   "metadata": {
    "deletable": false,
    "editable": false
   },
   "source": [
    "#### 1.1.3) \n",
    "Calculate the rotation matrix representing a rotation of $\\theta=270^\\circ$.\n",
    "\n",
    "_Points:_ 1"
   ]
  },
  {
   "cell_type": "code",
   "execution_count": 5,
   "id": "2a20cb9d",
   "metadata": {
    "tags": [
     "otter_answer_cell"
    ]
   },
   "outputs": [],
   "source": [
    "# Express your answer as a 2D numpy array\n",
    "R_113 = np.array([[0, 1], \n",
    "                  [-1, 0]])"
   ]
  },
  {
   "cell_type": "markdown",
   "id": "1dd65169",
   "metadata": {
    "deletable": false,
    "editable": false
   },
   "source": [
    "#### 1.1.4) \n",
    "Calculate the rotation matrix representing a rotation of $\\theta=0^\\circ$.\n",
    "\n",
    "_Points:_ 1"
   ]
  },
  {
   "cell_type": "code",
   "execution_count": 6,
   "id": "337cb9f6",
   "metadata": {
    "tags": [
     "otter_answer_cell"
    ]
   },
   "outputs": [],
   "source": [
    "# Express your answer as a 2D numpy array\n",
    "R_114 = np.array([[1, 0], \n",
    "                  [0, 1]])"
   ]
  },
  {
   "cell_type": "markdown",
   "id": "eb3814f7",
   "metadata": {},
   "source": [
    "### 1.2) Calculating 2D homogeneous transformation matrices (6 pts)"
   ]
  },
  {
   "cell_type": "markdown",
   "id": "62170472",
   "metadata": {
    "deletable": false,
    "editable": false
   },
   "source": [
    "#### 1.2.1) \n",
    "Calculate the homogeneous transformation matrix representing a rotation of $\\theta=45^\\circ$ and a translation of 3 units in the $x$ direction. \n",
    "\n",
    "_Points:_ 2"
   ]
  },
  {
   "cell_type": "code",
   "execution_count": 7,
   "id": "e6eebe2b",
   "metadata": {
    "tags": [
     "otter_answer_cell"
    ]
   },
   "outputs": [],
   "source": [
    "# Express your answer as a 2D numpy array\n",
    "X_121 = np.array([[cos(pi/4), -sin(pi/4), 3], \n",
    "                  [sin(pi/4), cos(pi/4), 0],\n",
    "                  [0, 0, 1]])"
   ]
  },
  {
   "cell_type": "markdown",
   "id": "27be619f",
   "metadata": {
    "deletable": false,
    "editable": false
   },
   "source": [
    "#### 1.2.2) \n",
    "Calculate the homogeneous transformation matrix representing a rotation of $\\theta=120^\\circ$ and a translation of 2 units in the $x$ direction and 1 unit in the $y$ direction.\n",
    "\n",
    "_Points:_ 2"
   ]
  },
  {
   "cell_type": "code",
   "execution_count": 8,
   "id": "da394122",
   "metadata": {
    "tags": [
     "otter_answer_cell"
    ]
   },
   "outputs": [],
   "source": [
    "# Express your answer as a 2D numpy array\n",
    "X_122 = np.array([[cos(2*pi/3), -sin(2*pi/3), 2], \n",
    "                  [sin(2*pi/3), cos(2*pi/3), 1],\n",
    "                  [0, 0, 1]])"
   ]
  },
  {
   "cell_type": "markdown",
   "id": "25a880cf",
   "metadata": {
    "deletable": false,
    "editable": false
   },
   "source": [
    "#### 1.2.3) \n",
    "Calculate the homogeneous transformation matrix representing a rotation of $\\theta=210^\\circ$ and a translation of 4 units in the direction of $45^\\circ$ above the $x$ axis. \n",
    "\n",
    "_Points:_ 2"
   ]
  },
  {
   "cell_type": "code",
   "execution_count": 9,
   "id": "f1952d06",
   "metadata": {
    "tags": [
     "otter_answer_cell"
    ]
   },
   "outputs": [],
   "source": [
    "# Express your answer as a 2D numpy array\n",
    "X_123 = np.array([[cos(7*pi/6), -sin(7*pi/6), 4*cos(pi/4)], \n",
    "                  [sin(7*pi/6), cos(7*pi/6), 4*sin(pi/4)],\n",
    "                  [0, 0, 1]])"
   ]
  },
  {
   "cell_type": "markdown",
   "id": "564d6772",
   "metadata": {},
   "source": [
    "### 1.3) Calculating 3D rotation representations (20 pts)"
   ]
  },
  {
   "cell_type": "markdown",
   "id": "07616284",
   "metadata": {
    "deletable": false,
    "editable": false
   },
   "source": [
    "#### 1.3.1) \n",
    "Calculate the rotation matrix corresponding to a $\\theta=30^\\circ$ rotation about the $x$ axis.\n",
    "\n",
    "_Points:_ 2"
   ]
  },
  {
   "cell_type": "code",
   "execution_count": 10,
   "id": "6df512a5",
   "metadata": {
    "tags": [
     "otter_answer_cell"
    ]
   },
   "outputs": [],
   "source": [
    "# Express your answer as a 2D numpy array\n",
    "R_131 = np.array([[1, 0, 0], \n",
    "                  [0, cos(pi/6), -sin(pi/6)],\n",
    "                  [0, sin(pi/6), cos(pi/6)]])"
   ]
  },
  {
   "cell_type": "markdown",
   "id": "015e865f",
   "metadata": {
    "deletable": false,
    "editable": false
   },
   "source": [
    "#### 1.3.2) \n",
    "Calculate the rotation matrix corresponding to an extrinsic XYZ roll-pitch-yaw of $90^\\circ$, $180^\\circ$, and $270^\\circ$, respectively.\n",
    "\n",
    "_Points:_ 3"
   ]
  },
  {
   "cell_type": "code",
   "execution_count": 11,
   "id": "1846debc",
   "metadata": {
    "tags": [
     "otter_answer_cell"
    ]
   },
   "outputs": [],
   "source": [
    "# Express your answer as a 2D numpy array\n",
    "R_132 = np.array([[0, 0, -1],\n",
    "                  [1, 0, 0],\n",
    "                  [0, -1, 0]])"
   ]
  },
  {
   "cell_type": "markdown",
   "id": "adc689f3",
   "metadata": {
    "deletable": false,
    "editable": false
   },
   "source": [
    "#### 1.3.3) \n",
    "Calculate the unit quaternion corresponding to the roll-pitch-yaw in the previous part. *Hint: you may find it useful to refer to the formula in the slides for converting between unit quaternions and rotation matrices.*\n",
    "\n",
    "_Points:_ 3"
   ]
  },
  {
   "cell_type": "code",
   "execution_count": 12,
   "id": "5f800f48",
   "metadata": {
    "tags": [
     "otter_answer_cell"
    ]
   },
   "outputs": [],
   "source": [
    "# Express your answer as a 1D numpy array\n",
    "q_133 = np.array([0.5, -0.5, -0.5, 0.5])"
   ]
  },
  {
   "cell_type": "markdown",
   "id": "7cee58cf",
   "metadata": {
    "deletable": false,
    "editable": false
   },
   "source": [
    "#### 1.3.4) \n",
    "Calculate the axis-angle representation corresponding to the same roll-pitch-yaw in the previous part. *Hint: you may find it useful to refer to the formula in the slides for converting between unit quaternions and axis-angle representations.*\n",
    "\n",
    "_Points:_ 3"
   ]
  },
  {
   "cell_type": "code",
   "execution_count": 13,
   "id": "4b983722",
   "metadata": {
    "tags": [
     "otter_answer_cell"
    ]
   },
   "outputs": [],
   "source": [
    "# Express your answer as a 1D numpy array\n",
    "aa_134 = 2*acos(0.5) * np.array([-0.5/sqrt(1-0.25), -0.5/sqrt(1-0.25), 0.5/sqrt(1-0.25)])"
   ]
  },
  {
   "cell_type": "markdown",
   "id": "b699d884",
   "metadata": {
    "deletable": false,
    "editable": false
   },
   "source": [
    "#### 1.3.5) \n",
    "Give an example of two 3D rotation matrices $R_1$ and $R_2$ such that $R_1\\cdot R_2 \\neq R_2 \\cdot R_1$.\n",
    "\n",
    "_Points:_ 2"
   ]
  },
  {
   "cell_type": "code",
   "execution_count": 14,
   "id": "f3e839b9",
   "metadata": {
    "tags": [
     "otter_answer_cell"
    ]
   },
   "outputs": [
    {
     "data": {
      "text/plain": [
       "array([[ True, False, False],\n",
       "       [False,  True, False],\n",
       "       [False, False,  True]])"
      ]
     },
     "execution_count": 14,
     "metadata": {},
     "output_type": "execute_result"
    }
   ],
   "source": [
    "# Express your answer as two 2D numpy arrays\n",
    "R_1351 = np.array([[1, 0, 0],\n",
    "                   [0, 0, -1],\n",
    "                   [0, 1, 0]])\n",
    "R_1352 = np.array([[0, 0, 1],\n",
    "                   [0, 1, 0],\n",
    "                   [-1, 0, 0]])\n",
    "\n",
    "R_1351 @ R_1352 == R_1352 @ R_1351"
   ]
  },
  {
   "cell_type": "markdown",
   "id": "18a66366",
   "metadata": {
    "deletable": false,
    "editable": false
   },
   "source": [
    "#### 1.3.6) \n",
    "Give an example of two 3D (non-idendity) rotation matrices $R_1$ and $R_2$ such that $R_1\\cdot R_2 = R_2 \\cdot R_1$. \n",
    "\n",
    "_Points:_ 2"
   ]
  },
  {
   "cell_type": "code",
   "execution_count": 15,
   "id": "58e6c16c",
   "metadata": {
    "tags": [
     "otter_answer_cell"
    ]
   },
   "outputs": [
    {
     "data": {
      "text/plain": [
       "array([[ True,  True,  True],\n",
       "       [ True,  True,  True],\n",
       "       [ True,  True,  True]])"
      ]
     },
     "execution_count": 15,
     "metadata": {},
     "output_type": "execute_result"
    }
   ],
   "source": [
    "# Express your answer as two 2D numpy arrays\n",
    "R_1361 = np.array([[1, 0, 0],\n",
    "                   [0, 0, -1],\n",
    "                   [0, 1, 0]])\n",
    "R_1362 = np.array([[1, 0, 0],\n",
    "                   [0, 0, 1],\n",
    "                   [0, -1, 0]])\n",
    "R_1361 @ R_1362 == R_1362 @ R_1361"
   ]
  },
  {
   "cell_type": "markdown",
   "id": "b56f50b6",
   "metadata": {
    "deletable": false,
    "editable": false
   },
   "source": [
    "#### 1.3.7) \n",
    "Following our convention for extrinsic XYZ roll-pitch-yaw, derive a simplified expression for the rotation matrix resulting from a pitch of $p=-\\pi/2$, a roll of $r$, and a yaw of $y$. Your answer should be a python function that takes in a roll `r` and a yaw `y` and returns a 3D rotation matrix. Work out the expression by hand and directly return the simplified rotation matrix (i.e., don't write a function that computes the product of three rotation matrices).\n",
    "\n",
    "\n",
    "\n",
    "*Hint: use the following two angle sum trigonometric identities:*\n",
    "$$\\begin{aligned}\n",
    "    \\sin(\\alpha+\\beta) &= \\sin\\alpha\\cos\\beta + \\cos\\alpha\\sin\\beta\\\\\n",
    "    \\cos(\\alpha+\\beta) &= \\cos\\alpha\\cos\\beta - \\sin\\alpha\\sin\\beta\n",
    "\\end{aligned}$$\n",
    "\n",
    "_Points:_ 3"
   ]
  },
  {
   "cell_type": "code",
   "execution_count": 16,
   "id": "58d7c9bf",
   "metadata": {
    "tags": [
     "otter_answer_cell"
    ]
   },
   "outputs": [],
   "source": [
    "def R_r_halfpi_y_137(r, y):\n",
    "    return np.array([[0, -cos(y)*sin(r)-sin(y)*cos(r), sin(y)*sin(r)-cos(y)*cos(r)],\n",
    "                     [0, cos(y)*cos(r)-sin(r)*sin(y), -sin(y)*cos(r)-cos(y)*sin(r)],\n",
    "                     [1, 0, 0]])"
   ]
  },
  {
   "cell_type": "markdown",
   "id": "40d331dc",
   "metadata": {
    "deletable": false,
    "editable": false
   },
   "source": [
    "In the resulting matrix, how does a change in $r$ compare to a change in $y$?\n",
    "\n",
    "a. $r$ and $y$ rotate about orthogonal axes\\\n",
    "b. $r$ and $y$ cause rotations about the same axis\\\n",
    "c. $r$ and $y$ rotate in opposite directions\\\n",
    "d. $r$ and $y$ rotate about different but not orthogonal axes\n",
    "\n",
    "_Points:_ 1"
   ]
  },
  {
   "cell_type": "code",
   "execution_count": 17,
   "id": "595ba8d8",
   "metadata": {
    "tags": [
     "otter_answer_cell"
    ]
   },
   "outputs": [],
   "source": [
    "# Enter your answer as a lower-case Python string (e.g., \"a\")\n",
    "ans_1371 = \"b\""
   ]
  },
  {
   "cell_type": "markdown",
   "id": "d348d212",
   "metadata": {
    "deletable": false,
    "editable": false
   },
   "source": [
    "What does this tell us about roll-pitch-yaw as a representation for rotations? Choose all that apply.\n",
    "\n",
    "a. Some roll-pitch-yaw configurations result in invalid rotations\\\n",
    "b. At some configurations for one angle, the two remaining angles represent the same rotation\\\n",
    "c. At some configurations for one angle, it is not possible to rotate about one axis\n",
    "d. Roll-pitch-yaw should not be used\n",
    "\n",
    "_Points:_ 1"
   ]
  },
  {
   "cell_type": "code",
   "execution_count": 18,
   "id": "4aa1180c",
   "metadata": {
    "tags": [
     "otter_answer_cell"
    ]
   },
   "outputs": [],
   "source": [
    "# Enter your answer as a list of lower-case Python strings (e.g., [\"a\", \"b\", \"c\", \"d\"] for all choices or [] for no choice)\n",
    "ans_1372 = [\"b\", \"c\"]"
   ]
  },
  {
   "cell_type": "markdown",
   "id": "9fc7b768",
   "metadata": {},
   "source": [
    "## 2) Rigid motions of objects (20 pts)\n",
    "\n",
    "All previous questions asked about rotations and transformations as abstract objects, not tied to a particular physical interpretation. In this problem, we will apply rotations and transformations to objects to understand their position and/or orientation in a chosen coordinate frame.\n",
    "\n",
    "For all questions in this section you're welcome to work out the solutions by hand and enter the final answer or write Python code to compute the answers directly."
   ]
  },
  {
   "cell_type": "markdown",
   "id": "9ae177c1",
   "metadata": {
    "deletable": false,
    "editable": false
   },
   "source": [
    "### 2.1) 2D change of view-point\n",
    "\n",
    "Some point $A$ is displaced from the origin of the world-coordinate frame $W$ by $3$ units in $W$'s $x$ direction and $4$ units in $W$'s $y$ direction. There is another coordinate frame $O$, which is displaced from $W$ by $2$ units in the negative $x$ direction of $W$ and $1$ unit in the $y$ direction of $W$, and rotated by $30^\\circ$ counter-clockwise. Find the coordinates of point $A$ relative to frame $O$ expressed in frame $O$.\n",
    "\n",
    "Your answer should be a $2\\times 1$ numpy array.\n",
    "\n",
    "_Points:_ 5"
   ]
  },
  {
   "cell_type": "code",
   "execution_count": 19,
   "id": "f29dd24f",
   "metadata": {
    "tags": [
     "otter_answer_cell"
    ]
   },
   "outputs": [],
   "source": [
    "# Express your answer as a 2x1 numpy array\n",
    "p_OA_21 = np.array([[5*cos(pi/6)+3*cos(pi/3)],\n",
    "                    [3*cos(pi/6)-5*cos(pi/3)]])\n"
   ]
  },
  {
   "cell_type": "markdown",
   "id": "30a585f4",
   "metadata": {
    "deletable": false,
    "editable": false
   },
   "source": [
    "### 2.2) 3D change of view-point\n",
    "\n",
    "An object $O$ has an attached coordinate frame $O$, whose origin is at $(2,1,5)$ relative to the world frame $W$. Frame $O$ is rotated relative to $W$ by $90^\\circ$ about the $z$ axis of $W$. There is a point $A$ in object $O$ at position $(1,0,0)$ relative to $O$. Find the world coordinates of point $A$. \n",
    "\n",
    "Your answer should be a $3\\times 1$ numpy array.\n",
    "\n",
    "_Points:_ 5"
   ]
  },
  {
   "cell_type": "code",
   "execution_count": 20,
   "id": "51c2d0d8",
   "metadata": {
    "tags": [
     "otter_answer_cell"
    ]
   },
   "outputs": [],
   "source": [
    "# Express your answer as a 3x1 numpy array\n",
    "p_A_22 = np.array([[2],\n",
    "                   [2],\n",
    "                   [5]])"
   ]
  },
  {
   "cell_type": "markdown",
   "id": "07d6674d",
   "metadata": {
    "deletable": false,
    "editable": false
   },
   "source": [
    "### 2.3) 2D action\n",
    "\n",
    "A robot sarts at position (1,2) in the world frame, with its $x$-axis facing $45^\\circ$ above the world's $x$ axis. The robot's gripper is at position $(0.1, 0.1)$ in the robot's frame. The robot moves forward 3 units along its $x$ axis and then rotates counter-clockwise by $90^\\circ$. What is the final position of the robot's gripper in the world frame?\n",
    "\n",
    "Your answer should be a $2\\times 1$ numpy array.\n",
    "\n",
    "_Points:_ 5"
   ]
  },
  {
   "cell_type": "code",
   "execution_count": 21,
   "id": "3608c39f",
   "metadata": {
    "tags": [
     "otter_answer_cell"
    ]
   },
   "outputs": [],
   "source": [
    "# Express your answer as a 2x1 numpy array\n",
    "p_Gnew_23 = np.array([[2.9798],\n",
    "                      [4.1213]])\n"
   ]
  },
  {
   "cell_type": "markdown",
   "id": "6285f047",
   "metadata": {
    "deletable": false,
    "editable": false
   },
   "source": [
    "### 2.4) 3D action\n",
    "\n",
    "Suppose we have a robot arm with a single spherical joint attached to a fixed table, connected to a link of length 2. The world coordinate frame is at the base of the link. Initially, the link is facing in the $x$ direction of the world frame and the gripper frame is rotated from the world frame by $-90^\\circ$ about the $z$ axis, such that the $y$ frame points away from the gripper. The robot is grasping a box, whose center of mass is at position $(0, 0, 0.2)$ in the gripper frame. Calculate the position of the center of mass in the world frame after applying a rotation on the spherical joint given by:\n",
    "$$R =\\begin{pmatrix}\n",
    "    0.306 & 0.787 & 0.536\\\\\n",
    "    -0.521 & 0.61 & -0.598\\\\\n",
    "    -0.797 & -0.096 & 0.597\n",
    "\\end{pmatrix}$$\n",
    "\n",
    "Your answer should be a $3\\times 1$ numpy array.\n",
    "\n",
    "_Points:_ 5"
   ]
  },
  {
   "cell_type": "code",
   "execution_count": 22,
   "id": "992bef7e",
   "metadata": {
    "tags": [
     "otter_answer_cell"
    ]
   },
   "outputs": [],
   "source": [
    "# Express your answer as a 3x1 numpy array\n",
    "p_G_24 = np.array([[0.7192],\n",
    "                   [-1.1616],\n",
    "                   [-1.4746]])"
   ]
  },
  {
   "cell_type": "markdown",
   "id": "cc183806",
   "metadata": {},
   "source": [
    "## 3) Pick-and-place with floating hand (50 pts)\n",
    "\n",
    "In the following problem, we will explore the initial steps toward defining a pick-and-place trajectory for a robot arm. This week, we will move around a floating hand. In particular, we will be working with the Franka Panda arm (or, this week, the Franka Panda hand). \n",
    "\n",
    "We will make use of the `MuJoCo` physics engine, which you can install locally via `pip install mujoco`. We will use `mediapy` to visualize our robot; install via `pip install mediapy`.\n",
    "\n",
    "We will start with a simulated world that contains three objects: the robot hand, a table, and a red block. Our goal will be to pick the red block off the table and place it in some target location on the table. \n",
    "\n",
    "We will achieve this by moving the hand through 5 poses:\n",
    "- Floating above the object\n",
    "- Grasping the object\n",
    "- Lifting the object\n",
    "- Floating above the target location\n",
    "- Placing the object\n",
    "\n",
    "Start by downloading the `assets.zip` file from the Brightspace assignment, unzip it and place the `assets/` directory in the same directory that contains your `hw3.ipynb` file. These `assets` contain a `panda_hand.mjcf` file, which describes how the three objects in the world relate to each other. Then, run the code cell below, which loads the `.mjcf` file and renders the world in an image."
   ]
  },
  {
   "cell_type": "code",
   "execution_count": 23,
   "id": "65ebe2aa",
   "metadata": {},
   "outputs": [
    {
     "data": {
      "text/html": [
       "<table class=\"show_images\" style=\"border-spacing:0px;\"><tr><td style=\"padding:1px;\"><img width=\"640\" height=\"480\" style=\"image-rendering:auto; object-fit:cover;\" src=\"data:image/png;base64,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\"/></td></tr></table>"
      ],
      "text/plain": [
       "<IPython.core.display.HTML object>"
      ]
     },
     "metadata": {},
     "output_type": "display_data"
    }
   ],
   "source": [
    "import mujoco\n",
    "import mediapy as media\n",
    "import os\n",
    "import glfw\n",
    "\n",
    "def has_valid_renderer():\n",
    "    \"\"\"Checks if OpenGL can be initialized successfully.\"\"\"\n",
    "    # Try initializing GLFW\n",
    "    if not glfw.init():\n",
    "        print(\"GLFW initialization failed. No valid renderer.\")\n",
    "        return False\n",
    "    \n",
    "    # Try creating a hidden window to test OpenGL context creation\n",
    "    window = glfw.create_window(640, 480, \"Renderer Test\", None, None)\n",
    "    if not window:\n",
    "        print(\"GLFW could not create an OpenGL context. No valid renderer.\")\n",
    "        glfw.terminate()\n",
    "        return False\n",
    "    \n",
    "    glfw.make_context_current(window)\n",
    "    renderer_available = True  # If we reach this point, rendering should work\n",
    "\n",
    "    # Cleanup\n",
    "    glfw.destroy_window(window)\n",
    "    glfw.terminate()\n",
    "    return renderer_available\n",
    "\n",
    "def render_state(model, data):\n",
    "    if not has_valid_renderer():\n",
    "        print(\"Error rendering the scene. Make sure you have a valid OpenGL installation.\")\n",
    "        return\n",
    "\n",
    "    mujoco.mj_forward(model, data)\n",
    "    with mujoco.Renderer(model, height=480, width=640) as renderer:\n",
    "        renderer.update_scene(data, \"front_view\")  # Ensure scene is updated with final simulation state\n",
    "        media.show_image(renderer.render())\n",
    "\n",
    "# Define the MJCF path and mesh directory\n",
    "mjcf_path = 'assets/Panda/panda_hand.mjcf'\n",
    "mesh_dir = 'assets/Panda/meshes/collision/'\n",
    "\n",
    "# Load mesh files into a dictionary\n",
    "assets = {}\n",
    "for file_name in os.listdir(mesh_dir):\n",
    "    file_path = os.path.join(mesh_dir, file_name)\n",
    "    with open(file_path, 'rb') as f:\n",
    "        assets[f'meshes/collision/{file_name}'] = f.read()\n",
    "\n",
    "# Load the MuJoCo model\n",
    "model = mujoco.MjModel.from_xml_path(mjcf_path, assets=assets)\n",
    "data = mujoco.MjData(model)\n",
    "\n",
    "# Call mj_forward to initialize the state\n",
    "mujoco.mj_forward(model, data)\n",
    "\n",
    "# Get actuator IDs\n",
    "ctrl1_id = mujoco.mj_name2id(model, mujoco.mjtObj.mjOBJ_ACTUATOR, \"panda_finger_joint1_ctrl\")\n",
    "ctrl2_id = mujoco.mj_name2id(model, mujoco.mjtObj.mjOBJ_ACTUATOR, \"panda_finger_joint2_ctrl\")\n",
    "\n",
    "# Check if actuator IDs were found\n",
    "if ctrl1_id == -1 or ctrl2_id == -1:\n",
    "    raise ValueError(\"Actuators not found! Check the MJCF actuator names.\")\n",
    "\n",
    "# Apply control targets\n",
    "target_pos = 0.04  # Open fingers\n",
    "data.ctrl[ctrl1_id] = target_pos\n",
    "data.ctrl[ctrl2_id] = target_pos\n",
    "\n",
    "# Step the simulation multiple times so fingers reach open position\n",
    "for _ in range(100): \n",
    "    mujoco.mj_step(model, data)\n",
    "\n",
    "# Render the scene\n",
    "render_state(model, data)"
   ]
  },
  {
   "cell_type": "markdown",
   "id": "b74f6e33",
   "metadata": {},
   "source": [
    "The world coordinate frame is centered at the bottom of the center of the table. The $x$ axis points to right, the $y$ axis points into the picture, and the $z$ axis points up. The robot is initially in position $(-0.5, 0, 1.5)$ in world coordinates. The gripper's $x$ axis points toward the world's $y$ axis, its $y$ axis points toward the world's $x$ axis, and its $z$ axis points toward the world's $-z$ axis. "
   ]
  },
  {
   "cell_type": "markdown",
   "id": "95bb5647",
   "metadata": {
    "deletable": false,
    "editable": false
   },
   "source": [
    "### 3.1)\n",
    "With this, we can construct the rotation matrix $R^\\text{G}$. Please provide the matrix below.\n",
    "\n",
    "*Hint: recall how the columns of the rotation matrix relate to the axes of the resulting frame.*\n",
    "\n",
    "_Points:_ 5"
   ]
  },
  {
   "cell_type": "code",
   "execution_count": 24,
   "id": "e619747e",
   "metadata": {
    "tags": [
     "otter_answer_cell"
    ]
   },
   "outputs": [],
   "source": [
    "# Express your answer as a 3x3 numpy array\n",
    "R_G_31 = np.array([[0, 1, 0],\n",
    "                   [1, 0, 0],\n",
    "                   [0, 0, -1]])"
   ]
  },
  {
   "cell_type": "markdown",
   "id": "b884c032",
   "metadata": {},
   "source": [
    "In the following parts, we will compose transformations to compute desired poses for the gripper in the world frame. For example, if we wish to place the gripper at some relative pose w.r.t. the block ${}^{B} X^{G}$, and we know that the block's world pose is $X^{B}$, then we can set the gripper's pose to $X^{G} = X^{B} \\cdot {}^{B} X^{G}$.\n",
    "\n",
    "For all transformations, you should leverage MuJoCo's transformation functions. These functions are not very Pythonic: instead of returning arrays like you would in Python, they require you to pass arrays as arguments which will get filled with the outputs of the function. In particular, you will find the following useful:\n",
    "- `mujoco.mju_mat2Quat(output_quat, Rmat)` -- converts a rotation matrix to a unit quaternion:\n",
    "    - `output_quat` is a `(4,)` numpy array, which will contain the result of the converstion from rotation matrix to quaternion\n",
    "    - `Rmat` is a `(9,)` numpy array representing the rotation matrix to convert. (To get your `(3,3)` matrix into the correct shape, use `Rmat.reshape(9)`.)\n",
    "- `mujoco.mju_mulPose(output_pos, output_quat, pos1, quat1, pos2, quat2)` -- computes the pose resulting from multiplying two poses:\n",
    "    - `output_pos` is a `(3,)` numpy array, which will contain the position resulting from the product of the transformations `(pos1, quat1)` $\\cdot$ `(pos2, quat2)`\n",
    "    - `output_quat` is a `(4,)` numpy array, which will contain the orientation resulting from the product of the transformations `(pos1, quat1)` $\\cdot$ `(pos2, quat2)`\n",
    "    - `pos1`: the position of the first transform, as a `(3,)` numpy array\n",
    "    - `quat1`: the orientation of the first transform, as a `(4,)` numpy array representing a unit quaternion\n",
    "    - `pos2`: the position of the second transform, as a `(3,)` numpy array\n",
    "    - `quat2`: the orientation of the second transform, as a `(4,)` numpy array representing a unit quaternion\n",
    "- `mujoco.mju_trnVecPose(output_pos, pos, quat, x)` -- transforms a position by multiplying it by a transform\n",
    "    - `output_pos` is a `(3,)` numpy array, which will contain the position resulting from applying the transformation `(pos, quat)` to position `x`\n",
    "    - `pos`: the position component of the transform, as a `(3,)` numpy array\n",
    "    - `quat`: the orientation component of the transform, as a `(4,)` numpy array representing a unit quaternion\n",
    "- `mujoco.mju_negPose(out_pos, out_quat, pos, quat)` -- inverts a transform\n",
    "    - `out_pos`: a `(3,)` numpy array, which will contain the position resulting from inverting the transformation `(pos, quat)` \n",
    "    - `out_quat`: a `(4,)` numpy array, which will contain the position resulting from inverting the transformation `(pos, quat)`\n",
    "    - `pos`: the position component of the transform to invert, as a `(3,)` numpy array\n",
    "    - `quat`: the orientation component of the transform to invert, as a `(4,)` numpy array representing a unit quaternion\n",
    "\n",
    "To obtain the current position and orientation of an object in the world frame, you may use `model.body(<object_name>).pos/quat`, where `<object_name>` will be `panda_hand` for the gripper and `block` for the block. To set the gripper's position, you may use `data.mocap_pos[0] = pos`, and to set the gripper's orientation you may use `data.mocap_quat[0] = quat`. \n",
    "\n",
    "To visualize the resulting gripper pose for debugging purposes, you may use the `render_state` function defined in the previous code cell, which takes as input the `model` and `data` objects created in the same cell.\n",
    "\n",
    "### 3.2)\n",
    "The first waypoint in our path for picking-and-placing the block is to set the gripper floating above the block. We will set the gripper to be 0.5 units above the block on the $z$ axis of the block, and its orientation to be: $x$ axis aligned with block's $y$ axis, $y$ axis aligned with block's $x$ axis, and $z$ axis aligned with block's $-z$ axis."
   ]
  },
  {
   "cell_type": "markdown",
   "id": "0709a627",
   "metadata": {
    "deletable": false,
    "editable": false
   },
   "source": [
    "#### 3.2.1)\n",
    "Find the block's current position and orientation as a quaternion in world coordinates, $X^{B}$.\n",
    "\n",
    "_Points:_ 3"
   ]
  },
  {
   "cell_type": "code",
   "execution_count": 25,
   "id": "05d194e9",
   "metadata": {
    "otter": {
     "tests": [
      "q3.2.1"
     ]
    },
    "tags": [
     "otter_answer_cell"
    ]
   },
   "outputs": [],
   "source": [
    "# Express your position as a (3,) numpy array and your orientation as a (4,) numpy array\n",
    "p_B_321 = model.body(\"block\").pos\n",
    "quat_B_321 = model.body(\"block\").quat\n"
   ]
  },
  {
   "cell_type": "markdown",
   "id": "3c81b741",
   "metadata": {
    "deletable": false,
    "editable": false
   },
   "source": [
    "#### 3.2.2)\n",
    "Compute the desired position and orientation (as a quaternion) of the gripper in the floating configuration relative to the block, ${}^{B} X^{G_\\text{float}}$. You may wish to first find the matrix representation of the rotation and then use MuJoCo's functions to convert that to a quaternion.\n",
    "\n",
    "_Points:_ 3"
   ]
  },
  {
   "cell_type": "code",
   "execution_count": 26,
   "id": "04179655",
   "metadata": {
    "otter": {
     "tests": [
      "q3.2.2"
     ]
    },
    "tags": [
     "otter_answer_cell"
    ]
   },
   "outputs": [],
   "source": [
    "# Express your position as a (3,) numpy array and your orientation as a (4,) numpy array\n",
    "p_BGfloat_322 = np.array([0, 0, 0.5])\n",
    "quat_BGfloat_322 = np.empty(4)  # Initialize the quaternion\n",
    "#*** YOUR CODE HERE ***\n",
    "# Fill in the values of quat_BGfloat_322\n",
    "R_BG = np.array([[0, 1, 0],\n",
    "                 [1, 0, 0],\n",
    "                 [0, 0, -1]])\n",
    "mujoco.mju_mat2Quat(quat_BGfloat_322, R_BG.reshape(9))\n"
   ]
  },
  {
   "cell_type": "markdown",
   "id": "16ba4a03",
   "metadata": {
    "deletable": false,
    "editable": false
   },
   "source": [
    "#### 3.2.3)\n",
    "Find the desired world position and orientation (as a quaternion) of the gripper in world coordinates, $X^{G_\\text{float}}$.\n",
    "\n",
    "_Points:_ 3"
   ]
  },
  {
   "cell_type": "code",
   "execution_count": 27,
   "id": "71734dc1",
   "metadata": {
    "otter": {
     "tests": [
      "q3.2.3"
     ]
    },
    "tags": [
     "otter_answer_cell"
    ]
   },
   "outputs": [],
   "source": [
    "# Express your position as a (3,) numpy array and your orientation as a (4,) numpy array\n",
    "p_Gfloat_323 = np.empty(3)     # Initialize the position\n",
    "quat_Gfloat_323 = np.empty(4)  # Initialize the quaternion\n",
    "#*** YOUR CODE HERE ***\n",
    "# Fill in the values of p_Gfloat_323 and quat_Gfloat_323\n",
    "mujoco.mju_mulPose(p_Gfloat_323, quat_Gfloat_323, p_B_321, quat_B_321, p_BGfloat_322, quat_BGfloat_322)\n",
    "\n"
   ]
  },
  {
   "cell_type": "markdown",
   "id": "7820560b",
   "metadata": {
    "deletable": false,
    "editable": false
   },
   "source": [
    "#### 3.2.4)\n",
    "Set the gripper pose to the desired floating pose and visualize it to make sure that it is correct. \n",
    "\n",
    "_Points:_ 3"
   ]
  },
  {
   "cell_type": "code",
   "execution_count": 28,
   "id": "3948c572",
   "metadata": {
    "otter": {
     "tests": [
      "q3.2.4"
     ]
    },
    "tags": [
     "otter_answer_cell"
    ]
   },
   "outputs": [
    {
     "data": {
      "text/html": [
       "<table class=\"show_images\" style=\"border-spacing:0px;\"><tr><td style=\"padding:1px;\"><img width=\"640\" height=\"480\" style=\"image-rendering:auto; object-fit:cover;\" src=\"data:image/png;base64,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\"/></td></tr></table>"
      ],
      "text/plain": [
       "<IPython.core.display.HTML object>"
      ]
     },
     "metadata": {},
     "output_type": "display_data"
    }
   ],
   "source": [
    "# Set the position and orientation of the mocap object\n",
    "data.mocap_pos[0] = p_Gfloat_323\n",
    "data.mocap_quat[0] = quat_Gfloat_323\n",
    "\n",
    "## Do *not* modify the code below\n",
    "render_state(model, data)\n",
    "ans_324 = np.r_[data.mocap_pos[0], data.mocap_quat[0]] \n"
   ]
  },
  {
   "cell_type": "markdown",
   "id": "97fbb692",
   "metadata": {},
   "source": [
    "### 3.3)\n",
    "Next, we will lower the gripper to be 0.12 units above the block. Given the relative offsets of the block's origin (which is at the center) and the gripper's origin (which is at the top), this should roughly place the gripper's fingers centered around the block."
   ]
  },
  {
   "cell_type": "markdown",
   "id": "79411360",
   "metadata": {
    "deletable": false,
    "editable": false
   },
   "source": [
    "#### 3.3.1)\n",
    "\n",
    "Compute the desired position and orientation (as a quaternion) of the gripper at desired new picking configuration relative to the previous floating configuration, ${}^{G_\\text{float}} X^{G_\\text{pick}}$. \n",
    "\n",
    "_Points:_ 3"
   ]
  },
  {
   "cell_type": "code",
   "execution_count": 29,
   "id": "f71f6a60",
   "metadata": {
    "otter": {
     "tests": [
      "q3.3.1"
     ]
    },
    "tags": [
     "otter_answer_cell"
    ]
   },
   "outputs": [],
   "source": [
    "# Express your position as a (3,) numpy array and your orientation as a (4,) numpy array\n",
    "p_GfloatGpick_331 = np.array([0, 0, 0.38])\n",
    "quat_GfloatGpick_331 = np.array([1, 0, 0, 0])"
   ]
  },
  {
   "cell_type": "markdown",
   "id": "0eb4fe91",
   "metadata": {
    "deletable": false,
    "editable": false
   },
   "source": [
    "#### 3.3.2)\n",
    "Compute the desired position and orientation (as a quaternion) of the gripper at the picking configuration in world coordinates, $X^{G_\\text{pick}}$.\n",
    "\n",
    "_Points:_ 3"
   ]
  },
  {
   "cell_type": "code",
   "execution_count": 30,
   "id": "220b73e7",
   "metadata": {
    "otter": {
     "tests": [
      "q3.3.2"
     ]
    },
    "tags": [
     "otter_answer_cell"
    ]
   },
   "outputs": [],
   "source": [
    "# Express your position as a (3,) numpy array and your orientation as a (4,) numpy array\n",
    "p_Gpick_332 = np.empty(3)     # Initialize the position\n",
    "quat_Gpick_332 = np.empty(4)  # Initialize the quaternion\n",
    "#*** YOUR CODE HERE ***\n",
    "# Fill in the values of p_Gpick_332 and quat_Gpick_332\n",
    "mujoco.mju_mulPose(p_Gpick_332, quat_Gpick_332, p_Gfloat_323, quat_Gfloat_323, p_GfloatGpick_331, quat_GfloatGpick_331)\n"
   ]
  },
  {
   "cell_type": "markdown",
   "id": "dd480a1c",
   "metadata": {
    "deletable": false,
    "editable": false
   },
   "source": [
    "#### 3.3.3)\n",
    "Set the gripper pose to the desired picking pose and visualize it to make sure that it is correct. \n",
    "\n",
    "_Points:_ 3"
   ]
  },
  {
   "cell_type": "code",
   "execution_count": 31,
   "id": "82abe794",
   "metadata": {
    "otter": {
     "tests": [
      "q3.3.3"
     ]
    },
    "tags": [
     "otter_answer_cell"
    ]
   },
   "outputs": [
    {
     "data": {
      "text/html": [
       "<table class=\"show_images\" style=\"border-spacing:0px;\"><tr><td style=\"padding:1px;\"><img width=\"640\" height=\"480\" style=\"image-rendering:auto; object-fit:cover;\" src=\"data:image/png;base64,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\"/></td></tr></table>"
      ],
      "text/plain": [
       "<IPython.core.display.HTML object>"
      ]
     },
     "metadata": {},
     "output_type": "display_data"
    }
   ],
   "source": [
    "# Set the position and orientation of the mocap object\n",
    "data.mocap_pos[0] = p_Gpick_332\n",
    "data.mocap_quat[0] = quat_Gpick_332\n",
    "\n",
    "## Do *not* modify the code below\n",
    "render_state(model, data)\n",
    "ans_333 = np.r_[data.mocap_pos[0], data.mocap_quat[0]] \n"
   ]
  },
  {
   "cell_type": "markdown",
   "id": "01b39550",
   "metadata": {},
   "source": [
    "### 3.4)\n",
    "\n",
    "To avoid over-complicating things, we assume that just by reaching the block, the gripper grasps the block. (Physically grasping the block is non-trivial, but we won't get into that in this course.) With that, the next step is to set the gripper back to the floating position, now holding the block. "
   ]
  },
  {
   "cell_type": "markdown",
   "id": "6fa02026",
   "metadata": {
    "deletable": false,
    "editable": false
   },
   "source": [
    "#### 3.4.1) \n",
    "For the remaining questions, and for visualization in this part, it will be useful to calculate the pose of the \n",
    "block relative to the gripper while the gripper is held, ${}^{B} X^{G_\\text{pick}}$. With a proper grasp, this relative pose is constant until the block is placed. \n",
    "\n",
    "Compute the desired position and orientation (as a quaternion). *Hint: recall that the orientation of the gripper didn't change between floating and picking.*\n",
    "\n",
    "_Points:_ 3"
   ]
  },
  {
   "cell_type": "code",
   "execution_count": 32,
   "id": "a7ecc641",
   "metadata": {
    "otter": {
     "tests": [
      "q3.4.1"
     ]
    },
    "tags": [
     "otter_answer_cell"
    ]
   },
   "outputs": [],
   "source": [
    "# Express your position as a (3,) numpy array and your orientation as a (4,) numpy array\n",
    "\n",
    "p_BGpick_341 = np.array([0, 0, 0.12])\n",
    "quat_BGpick_341 = quat_BGfloat_322"
   ]
  },
  {
   "cell_type": "markdown",
   "id": "dd0a584f",
   "metadata": {
    "deletable": false,
    "editable": false
   },
   "source": [
    "#### 3.4.2) \n",
    "Now simply set the position and orientation of the gripper to match the previous floating configuration.\n",
    "\n",
    "_Points:_ 3"
   ]
  },
  {
   "cell_type": "code",
   "execution_count": 33,
   "id": "adc748b6",
   "metadata": {
    "otter": {
     "tests": [
      "q3.4.2"
     ]
    },
    "tags": [
     "otter_answer_cell"
    ]
   },
   "outputs": [
    {
     "data": {
      "text/html": [
       "<table class=\"show_images\" style=\"border-spacing:0px;\"><tr><td style=\"padding:1px;\"><img width=\"640\" height=\"480\" style=\"image-rendering:auto; object-fit:cover;\" src=\"data:image/png;base64,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\"/></td></tr></table>"
      ],
      "text/plain": [
       "<IPython.core.display.HTML object>"
      ]
     },
     "metadata": {},
     "output_type": "display_data"
    }
   ],
   "source": [
    "# Set the position and orientation of the mocap object\n",
    "data.mocap_pos[0] = p_Gfloat_323\n",
    "data.mocap_quat[0] = quat_Gfloat_323\n",
    "\n",
    "# The next few lines \"attach\" the block to the gripper.\n",
    "# This is not required for obtaining points in the \n",
    "# assignment, but is included for visualization purposes.\n",
    "# This will only \"look right\" if your answers up to this\n",
    "# point are correct.\n",
    "p_GpickB_342 = np.empty(3)\n",
    "quat_GpickB_342 = np.empty(4)\n",
    "mujoco.mju_negPose(p_GpickB_342, quat_GpickB_342, p_BGpick_341, quat_BGpick_341)\n",
    "\n",
    "p_Bfloat = np.empty(3)\n",
    "quat_Bfloat = np.empty(4)\n",
    "# Compute the pose of the block int he world frame by \n",
    "# composing the pose of the gripper in the world frame\n",
    "# and the relative pose of the gripper w.r.t. the \n",
    "# block \n",
    "mujoco.mju_mulPose(p_Bfloat, quat_Bfloat, p_Gfloat_323, quat_Gfloat_323, p_GpickB_342, quat_GpickB_342)\n",
    "model.body(\"block\").pos = p_Bfloat\n",
    "model.body(\"block\").quat = quat_Bfloat\n",
    "\n",
    "## Do *not* modify the code below\n",
    "render_state(model, data)\n",
    "ans_342 = np.r_[data.mocap_pos[0], data.mocap_quat[0]] \n"
   ]
  },
  {
   "cell_type": "markdown",
   "id": "8ad13915",
   "metadata": {},
   "source": [
    "### 3.5)\n",
    "\n",
    "The next step is to move the gripper so that the block hovers above its final desired orientation. Suppose we want the block to end up at position $(-0.3, -0.2, 1.03)$, with its orientation aligned with the world frame. The goal of this stage is to move the gripper so that the block is $0.5$ units above its target position in the $z$ axis, and aligned with its final desired orientation."
   ]
  },
  {
   "cell_type": "markdown",
   "id": "aa08c531",
   "metadata": {
    "deletable": false,
    "editable": false
   },
   "source": [
    "#### 3.5.1) \n",
    "Calculate the desired position and orientation (as a quaternion) of the block in world coordinates at the hovering stage, $X^{B_\\text{hover}}$.\n",
    "\n",
    "_Points:_ 3"
   ]
  },
  {
   "cell_type": "code",
   "execution_count": 34,
   "id": "4fc4e3b5",
   "metadata": {
    "otter": {
     "tests": [
      "q3.5.1"
     ]
    },
    "tags": [
     "otter_answer_cell"
    ]
   },
   "outputs": [],
   "source": [
    "# Express your position as a (3,) numpy array and your orientation as a (4,) numpy array\n",
    "\n",
    "p_Bhover_341 = np.array([-0.3, -0.2, 1.53])\n",
    "quat_Bhover_341 = np.array([1, 0, 0, 0])"
   ]
  },
  {
   "cell_type": "markdown",
   "id": "a82bab67",
   "metadata": {
    "deletable": false,
    "editable": false
   },
   "source": [
    "#### 3.5.2) \n",
    "Calculate the desired position and orientation (as a quaternion) of the gripper in world coordinates at the hovering stage, $X^{G_\\text{hover}}$.\n",
    "\n",
    "_Points:_ 3"
   ]
  },
  {
   "cell_type": "code",
   "execution_count": 35,
   "id": "f6d8ba9f",
   "metadata": {
    "otter": {
     "tests": [
      "q3.5.2"
     ]
    },
    "tags": [
     "otter_answer_cell"
    ]
   },
   "outputs": [],
   "source": [
    "# Express your position as a (3,) numpy array and your orientation as a (4,) numpy array\n",
    "p_Ghover_352 = np.empty(3)     # Initialize the position\n",
    "quat_Ghover_352 = np.empty(4)  # Initialize the quaternion\n",
    "#*** YOUR CODE HERE ***\n",
    "# Fill in the values of p_Ghover_352 and quat_Ghover_352\n",
    "mujoco.mju_mulPose(p_Ghover_352, quat_Ghover_352, p_Bhover_341, quat_Bhover_341, p_BGpick_341, quat_BGpick_341)\n"
   ]
  },
  {
   "cell_type": "markdown",
   "id": "cf99b91e",
   "metadata": {
    "deletable": false,
    "editable": false
   },
   "source": [
    "#### 3.5.3)\n",
    "Set the gripper pose to the desired hovering pose and visualize it to make sure that it is correct. \n",
    "\n",
    "_Points:_ 3"
   ]
  },
  {
   "cell_type": "code",
   "execution_count": 36,
   "id": "3eb085a6",
   "metadata": {
    "otter": {
     "tests": [
      "q3.5.3"
     ]
    },
    "tags": [
     "otter_answer_cell"
    ]
   },
   "outputs": [
    {
     "data": {
      "text/html": [
       "<table class=\"show_images\" style=\"border-spacing:0px;\"><tr><td style=\"padding:1px;\"><img width=\"640\" height=\"480\" style=\"image-rendering:auto; object-fit:cover;\" src=\"data:image/png;base64,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\"/></td></tr></table>"
      ],
      "text/plain": [
       "<IPython.core.display.HTML object>"
      ]
     },
     "metadata": {},
     "output_type": "display_data"
    }
   ],
   "source": [
    "# Set the position and orientation of the mocap object\n",
    "data.mocap_pos[0] = p_Ghover_352\n",
    "data.mocap_quat[0] = quat_Ghover_352\n",
    "\n",
    "# The next few lines \"attach\" the block to the gripper.\n",
    "# This is not required for obtaining points in the \n",
    "# assignment, but is included for visualization purposes.\n",
    "# This will only \"look right\" if your answers up to this\n",
    "# point are correct.\n",
    "p_Bhover = np.empty(3)\n",
    "quat_Bhover = np.empty(4)\n",
    "# Compute the pose of the block int he world frame by \n",
    "# composing the pose of the gripper in the world frame\n",
    "# and the relative pose of the gripper w.r.t. the \n",
    "# block \n",
    "mujoco.mju_mulPose(p_Bhover, quat_Bhover, p_Ghover_352, quat_Ghover_352, p_GpickB_342, quat_GpickB_342)\n",
    "model.body(\"block\").pos = p_Bhover\n",
    "model.body(\"block\").quat = quat_Bhover\n",
    "\n",
    "## Do *not* modify the code below\n",
    "render_state(model, data)\n",
    "ans_353 = np.r_[data.mocap_pos[0], data.mocap_quat[0]] \n"
   ]
  },
  {
   "cell_type": "markdown",
   "id": "47415369",
   "metadata": {},
   "source": [
    "### 3.6)\n",
    "Finally, we will lower the gripper so that the block is at the target position."
   ]
  },
  {
   "cell_type": "markdown",
   "id": "e5bd6aaa",
   "metadata": {
    "deletable": false,
    "editable": false
   },
   "source": [
    "#### 3.6.1)\n",
    "\n",
    "Compute the desired position and orientation (as a quaternion) of the gripper at desired new placing configuration relative to the previous hovering configuration, ${}^{G_\\text{hover}} X^{G_\\text{place}}$. \n",
    "\n",
    "_Points:_ 3"
   ]
  },
  {
   "cell_type": "code",
   "execution_count": 37,
   "id": "dca4c807",
   "metadata": {
    "otter": {
     "tests": [
      "q3.6.1"
     ]
    },
    "tags": [
     "otter_answer_cell"
    ]
   },
   "outputs": [],
   "source": [
    "# Express your position as a (3,) numpy array and your orientation as a (4,) numpy array\n",
    "p_GhoverGplace_361 = np.array([0, 0, 0.5])\n",
    "quat_GhoverGplace_361 = np.array([1, 0, 0, 0])"
   ]
  },
  {
   "cell_type": "markdown",
   "id": "4926e6ce",
   "metadata": {
    "deletable": false,
    "editable": false
   },
   "source": [
    "#### 3.6.2)\n",
    "Compute the desired position and orientation (as a quaternion) of the gripper at the placing configuration in world coordinates, $X^{G_\\text{place}}$.\n",
    "\n",
    "_Points:_ 3"
   ]
  },
  {
   "cell_type": "code",
   "execution_count": 38,
   "id": "4d0b8fd8",
   "metadata": {
    "otter": {
     "tests": [
      "q3.6.2"
     ]
    },
    "tags": [
     "otter_answer_cell"
    ]
   },
   "outputs": [],
   "source": [
    "# Express your position as a (3,) numpy array and your orientation as a (4,) numpy array\n",
    "p_Gplace_362 = np.empty(3)     # Initialize the position\n",
    "quat_Gplace_362 = np.empty(4)  # Initialize the quaternion\n",
    "#*** YOUR CODE HERE ***\n",
    "# Fill in the values of p_Gplace_362 and quat_Gplace_362\n",
    "mujoco.mju_mulPose(p_Gplace_362, quat_Gplace_362, p_Ghover_352, quat_Ghover_352, p_GhoverGplace_361, quat_GhoverGplace_361)\n"
   ]
  },
  {
   "cell_type": "markdown",
   "id": "784a35d8",
   "metadata": {
    "deletable": false,
    "editable": false
   },
   "source": [
    "#### 3.6.3)\n",
    "Set the gripper pose to the desired picking pose and visualize it to make sure that it is correct. \n",
    "\n",
    "_Points:_ 3"
   ]
  },
  {
   "cell_type": "code",
   "execution_count": 39,
   "id": "eacb2ff3",
   "metadata": {
    "otter": {
     "tests": [
      "q3.6.3"
     ]
    },
    "tags": [
     "otter_answer_cell"
    ]
   },
   "outputs": [
    {
     "data": {
      "text/html": [
       "<table class=\"show_images\" style=\"border-spacing:0px;\"><tr><td style=\"padding:1px;\"><img width=\"640\" height=\"480\" style=\"image-rendering:auto; object-fit:cover;\" src=\"data:image/png;base64,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\"/></td></tr></table>"
      ],
      "text/plain": [
       "<IPython.core.display.HTML object>"
      ]
     },
     "metadata": {},
     "output_type": "display_data"
    }
   ],
   "source": [
    "# Set the position and orientation of the mocap object\n",
    "data.mocap_pos[0] = p_Gplace_362\n",
    "data.mocap_quat[0] = quat_Gplace_362\n",
    "\n",
    "# The next few lines \"attach\" the block to the gripper.\n",
    "# This is not required for obtaining points in the \n",
    "# assignment, but is included for visualization purposes.\n",
    "# This will only \"look right\" if your answers up to this\n",
    "# point are correct.\n",
    "p_Bplace = np.empty(3)\n",
    "quat_Bplace = np.empty(4)\n",
    "# Compute the pose of the block int he world frame by \n",
    "# composing the pose of the gripper in the world frame\n",
    "# and the relative pose of the gripper w.r.t. the \n",
    "# block \n",
    "mujoco.mju_mulPose(p_Bplace, quat_Bplace, p_Gplace_362, quat_Gplace_362, p_GpickB_342, quat_GpickB_342)\n",
    "model.body(\"block\").pos = p_Bplace\n",
    "model.body(\"block\").quat = quat_Bplace\n",
    "\n",
    "## Do *not* modify the code below\n",
    "render_state(model, data)\n",
    "ans_363 = np.r_[data.mocap_pos[0], data.mocap_quat[0]]  \n"
   ]
  },
  {
   "cell_type": "markdown",
   "id": "9cb00186",
   "metadata": {
    "deletable": false,
    "editable": false
   },
   "source": [
    "## Submission\n",
    "\n",
    "Make sure you have run all cells in your notebook in order before running the cell below, so that all images/graphs appear in the output. The cell below will generate a zip file for you to submit. **Please save before exporting!**\n",
    "\n",
    "Fill out the answers to all questions and submit your file hw3.ipynb to the HW3 assignment on Gradescope. You are free to resubmit as many times as you wish."
   ]
  },
  {
   "cell_type": "code",
   "execution_count": 40,
   "id": "36cb1a48",
   "metadata": {
    "deletable": false,
    "editable": false
   },
   "outputs": [
    {
     "name": "stdout",
     "output_type": "stream",
     "text": [
      "Running your submission against local test cases...\n",
      "\n",
      "\n",
      "Your submission received the following results when run against available test cases:\n",
      "\n",
      "\n"
     ]
    },
    {
     "data": {
      "text/html": [
       "\n",
       "                    <p>\n",
       "                        Your submission has been exported. Click\n",
       "                        <a href=\"HW3_Coordinate-Transformation_2025_02_18T15_16_23_903943.zip\" download=\"HW3_Coordinate-Transformation_2025_02_18T15_16_23_903943.zip\" target=\"_blank\">here</a> to download\n",
       "                        the zip file.\n",
       "                    </p>\n",
       "                "
      ],
      "text/plain": [
       "<IPython.core.display.HTML object>"
      ]
     },
     "metadata": {},
     "output_type": "display_data"
    }
   ],
   "source": [
    "# Save your notebook first, then run this cell to export your submission.\n",
    "grader.export(pdf=False, run_tests=True)"
   ]
  },
  {
   "cell_type": "markdown",
   "id": "77842a55",
   "metadata": {},
   "source": [
    " "
   ]
  }
 ],
 "metadata": {
  "kernelspec": {
   "display_name": "Python 3",
   "language": "python",
   "name": "python3"
  },
  "language_info": {
   "codemirror_mode": {
    "name": "ipython",
    "version": 3
   },
   "file_extension": ".py",
   "mimetype": "text/x-python",
   "name": "python",
   "nbconvert_exporter": "python",
   "pygments_lexer": "ipython3",
   "version": "3.12.9"
  },
  "otter": {
   "OK_FORMAT": true,
   "assignment_name": "hw3",
   "tests": {
    "q1.1.1": {
     "name": "q1.1.1",
     "points": 1,
     "suites": [
      {
       "cases": [],
       "scored": true,
       "setup": "",
       "teardown": "",
       "type": "doctest"
      }
     ]
    },
    "q1.1.2": {
     "name": "q1.1.2",
     "points": 1,
     "suites": [
      {
       "cases": [],
       "scored": true,
       "setup": "",
       "teardown": "",
       "type": "doctest"
      }
     ]
    },
    "q1.1.3": {
     "name": "q1.1.3",
     "points": 1,
     "suites": [
      {
       "cases": [],
       "scored": true,
       "setup": "",
       "teardown": "",
       "type": "doctest"
      }
     ]
    },
    "q1.1.4": {
     "name": "q1.1.4",
     "points": 1,
     "suites": [
      {
       "cases": [],
       "scored": true,
       "setup": "",
       "teardown": "",
       "type": "doctest"
      }
     ]
    },
    "q1.2.1": {
     "name": "q1.2.1",
     "points": 2,
     "suites": [
      {
       "cases": [],
       "scored": true,
       "setup": "",
       "teardown": "",
       "type": "doctest"
      }
     ]
    },
    "q1.2.2": {
     "name": "q1.2.2",
     "points": 2,
     "suites": [
      {
       "cases": [],
       "scored": true,
       "setup": "",
       "teardown": "",
       "type": "doctest"
      }
     ]
    },
    "q1.2.3": {
     "name": "q1.2.3",
     "points": 2,
     "suites": [
      {
       "cases": [],
       "scored": true,
       "setup": "",
       "teardown": "",
       "type": "doctest"
      }
     ]
    },
    "q1.3.1": {
     "name": "q1.3.1",
     "points": 2,
     "suites": [
      {
       "cases": [],
       "scored": true,
       "setup": "",
       "teardown": "",
       "type": "doctest"
      }
     ]
    },
    "q1.3.2": {
     "name": "q1.3.2",
     "points": 3,
     "suites": [
      {
       "cases": [],
       "scored": true,
       "setup": "",
       "teardown": "",
       "type": "doctest"
      }
     ]
    },
    "q1.3.3": {
     "name": "q1.3.3",
     "points": 3,
     "suites": [
      {
       "cases": [],
       "scored": true,
       "setup": "",
       "teardown": "",
       "type": "doctest"
      }
     ]
    },
    "q1.3.4": {
     "name": "q1.3.4",
     "points": 3,
     "suites": [
      {
       "cases": [],
       "scored": true,
       "setup": "",
       "teardown": "",
       "type": "doctest"
      }
     ]
    },
    "q1.3.5": {
     "name": "q1.3.5",
     "points": 2,
     "suites": [
      {
       "cases": [],
       "scored": true,
       "setup": "",
       "teardown": "",
       "type": "doctest"
      }
     ]
    },
    "q1.3.6": {
     "name": "q1.3.6",
     "points": 2,
     "suites": [
      {
       "cases": [],
       "scored": true,
       "setup": "",
       "teardown": "",
       "type": "doctest"
      }
     ]
    },
    "q1.3.7": {
     "name": "q1.3.7",
     "points": 3,
     "suites": [
      {
       "cases": [],
       "scored": true,
       "setup": "",
       "teardown": "",
       "type": "doctest"
      }
     ]
    },
    "q1.3.7.1": {
     "name": "q1.3.7.1",
     "points": 1,
     "suites": [
      {
       "cases": [],
       "scored": true,
       "setup": "",
       "teardown": "",
       "type": "doctest"
      }
     ]
    },
    "q1.3.7.2": {
     "name": "q1.3.7.2",
     "points": 1,
     "suites": [
      {
       "cases": [],
       "scored": true,
       "setup": "",
       "teardown": "",
       "type": "doctest"
      }
     ]
    },
    "q2.1": {
     "name": "q2.1",
     "points": 5,
     "suites": [
      {
       "cases": [],
       "scored": true,
       "setup": "",
       "teardown": "",
       "type": "doctest"
      }
     ]
    },
    "q2.2": {
     "name": "q2.2",
     "points": 5,
     "suites": [
      {
       "cases": [],
       "scored": true,
       "setup": "",
       "teardown": "",
       "type": "doctest"
      }
     ]
    },
    "q2.3": {
     "name": "q2.3",
     "points": 5,
     "suites": [
      {
       "cases": [],
       "scored": true,
       "setup": "",
       "teardown": "",
       "type": "doctest"
      }
     ]
    },
    "q2.4": {
     "name": "q2.4",
     "points": 5,
     "suites": [
      {
       "cases": [],
       "scored": true,
       "setup": "",
       "teardown": "",
       "type": "doctest"
      }
     ]
    },
    "q3.1": {
     "name": "q3.1",
     "points": 5,
     "suites": [
      {
       "cases": [],
       "scored": true,
       "setup": "",
       "teardown": "",
       "type": "doctest"
      }
     ]
    },
    "q3.2.1": {
     "name": "q3.2.1",
     "points": 3,
     "suites": [
      {
       "cases": [],
       "scored": true,
       "setup": "",
       "teardown": "",
       "type": "doctest"
      }
     ]
    },
    "q3.2.2": {
     "name": "q3.2.2",
     "points": 3,
     "suites": [
      {
       "cases": [],
       "scored": true,
       "setup": "",
       "teardown": "",
       "type": "doctest"
      }
     ]
    },
    "q3.2.3": {
     "name": "q3.2.3",
     "points": 3,
     "suites": [
      {
       "cases": [],
       "scored": true,
       "setup": "",
       "teardown": "",
       "type": "doctest"
      }
     ]
    },
    "q3.2.4": {
     "name": "q3.2.4",
     "points": 3,
     "suites": [
      {
       "cases": [],
       "scored": true,
       "setup": "",
       "teardown": "",
       "type": "doctest"
      }
     ]
    },
    "q3.3.1": {
     "name": "q3.3.1",
     "points": 3,
     "suites": [
      {
       "cases": [],
       "scored": true,
       "setup": "",
       "teardown": "",
       "type": "doctest"
      }
     ]
    },
    "q3.3.2": {
     "name": "q3.3.2",
     "points": 3,
     "suites": [
      {
       "cases": [],
       "scored": true,
       "setup": "",
       "teardown": "",
       "type": "doctest"
      }
     ]
    },
    "q3.3.3": {
     "name": "q3.3.3",
     "points": 3,
     "suites": [
      {
       "cases": [],
       "scored": true,
       "setup": "",
       "teardown": "",
       "type": "doctest"
      }
     ]
    },
    "q3.4.1": {
     "name": "q3.4.1",
     "points": 3,
     "suites": [
      {
       "cases": [],
       "scored": true,
       "setup": "",
       "teardown": "",
       "type": "doctest"
      }
     ]
    },
    "q3.4.2": {
     "name": "q3.4.2",
     "points": 3,
     "suites": [
      {
       "cases": [],
       "scored": true,
       "setup": "",
       "teardown": "",
       "type": "doctest"
      }
     ]
    },
    "q3.5.1": {
     "name": "q3.5.1",
     "points": 3,
     "suites": [
      {
       "cases": [],
       "scored": true,
       "setup": "",
       "teardown": "",
       "type": "doctest"
      }
     ]
    },
    "q3.5.2": {
     "name": "q3.5.2",
     "points": 3,
     "suites": [
      {
       "cases": [],
       "scored": true,
       "setup": "",
       "teardown": "",
       "type": "doctest"
      }
     ]
    },
    "q3.5.3": {
     "name": "q3.5.3",
     "points": 3,
     "suites": [
      {
       "cases": [],
       "scored": true,
       "setup": "",
       "teardown": "",
       "type": "doctest"
      }
     ]
    },
    "q3.6.1": {
     "name": "q3.6.1",
     "points": 3,
     "suites": [
      {
       "cases": [],
       "scored": true,
       "setup": "",
       "teardown": "",
       "type": "doctest"
      }
     ]
    },
    "q3.6.2": {
     "name": "q3.6.2",
     "points": 3,
     "suites": [
      {
       "cases": [],
       "scored": true,
       "setup": "",
       "teardown": "",
       "type": "doctest"
      }
     ]
    },
    "q3.6.3": {
     "name": "q3.6.3",
     "points": 3,
     "suites": [
      {
       "cases": [],
       "scored": true,
       "setup": "",
       "teardown": "",
       "type": "doctest"
      }
     ]
    }
   }
  }
 },
 "nbformat": 4,
 "nbformat_minor": 5
}
